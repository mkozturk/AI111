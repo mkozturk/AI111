{
 "cells": [
  {
   "cell_type": "markdown",
   "id": "c46f8c67-1225-4f68-a03d-71a2701af8b9",
   "metadata": {
    "editable": true,
    "jp-MarkdownHeadingCollapsed": true,
    "slideshow": {
     "slide_type": "slide"
    },
    "tags": []
   },
   "source": [
    "# Python\n",
    "\n",
    "* Python is an **interpreted**, **interactive**, **open source** programming language.\n",
    "* Currently the most popular programming language with a 26% TIOBE rating (August 2025)\n",
    "* Evolved from a scripting language to a general-purpose language.\n",
    "* Many powerful packages for **science**, **data analysis**, **machine learning**, **web development**, **system programming**, etc.\n",
    "\n",
    "[Python.org website](https://www.python.org)\n",
    "\n",
    "![](img/python-logo.png)"
   ]
  },
  {
   "cell_type": "markdown",
   "id": "acc23a5d-4b0a-42fd-b03c-dd35fe982b59",
   "metadata": {
    "editable": true,
    "slideshow": {
     "slide_type": "slide"
    },
    "tags": []
   },
   "source": [
    "# The Python Interpreter\n",
    "* Necessary to run Python programs.\n",
    "* Executes Python commands one by one.\n",
    "* Can be used interactively, or runs a **source code file**."
   ]
  },
  {
   "attachments": {},
   "cell_type": "markdown",
   "id": "2b11ee93-4fb0-4118-8a05-3bd25a401e6c",
   "metadata": {
    "editable": true,
    "slideshow": {
     "slide_type": "slide"
    },
    "tags": []
   },
   "source": [
    "# Interactive use\n",
    "\n",
    "Simplest case: Run the interpreter in the **terminal**.\n",
    "\n",
    "<img src=\"img/python_interactive.png\" style=\"width: 70%;\"/>"
   ]
  },
  {
   "cell_type": "markdown",
   "id": "acab992f-82b8-4cc3-bbda-226e4422aa9f",
   "metadata": {
    "editable": true,
    "slideshow": {
     "slide_type": ""
    },
    "tags": []
   },
   "source": [
    "# Running a single command\n",
    "If all you need is to execute a short set of statements, you can run Python with the `-c` switch.\n",
    "\n",
    "```\n",
    "$ python -c \"print(2**100)\"\n",
    " 1267650600228229401496703205376\n",
    "```\n"
   ]
  },
  {
   "cell_type": "markdown",
   "id": "93a361d0-c7b6-4e9c-b987-877c039a1878",
   "metadata": {
    "editable": true,
    "slideshow": {
     "slide_type": "slide"
    },
    "tags": []
   },
   "source": [
    "# Writing and running a Python script\n",
    "* A Python script is a plain text file, containing valid Python statements (the *source code*).\n",
    "* Can be run on the terminal with the command `python3 filename.py` (Linux) or `py filename.py` (Windows)\n",
    "\n",
    "Create a text file with the following statements, and save it as `average.py`\n",
    "\n",
    "```\n",
    "# average.py\n",
    "a = float(input(\"Enter first number: \"))\n",
    "b = float(input(\"Enter second number: \"))\n",
    "c = float(input(\"Enter third number: \"))\n",
    "\n",
    "print(\"Average:\", (a+b+c)/3)\n",
    "```\n",
    "Within a program script, a standalone expression is evaluated but not printed. To print on screen, use the `print()` function."
   ]
  },
  {
   "cell_type": "markdown",
   "id": "2d34d37b-9c37-4cc6-bbcf-b54ae50a4485",
   "metadata": {
    "editable": true,
    "slideshow": {
     "slide_type": "slide"
    },
    "tags": []
   },
   "source": [
    "# Writing and running programs with Integrated Development Environments\n",
    "* IDEs provide an editor, command interpreter, variable inspector, file browser, even AI support in a single window.\n",
    "* Larger programs can be managed easily.\n",
    "* Have built-in debugging tools.\n",
    "* Examples: Spyder, PyCharm, VSCode, PyDev\n",
    "\n",
    "<img src=\"img/python-vscode.png\" style=\"width: 70%;\"/>"
   ]
  },
  {
   "cell_type": "markdown",
   "id": "15e074b3-2da8-4c29-af07-985bb26a4452",
   "metadata": {
    "editable": true,
    "slideshow": {
     "slide_type": "slide"
    },
    "tags": []
   },
   "source": [
    "# Online Python Interpreters\n",
    "Can be used for quick-and-dirty coding tasks.\n",
    "\n",
    "* https://www.onlineide.pro/playground/python\n",
    "* https://www.online-python.com/\n",
    "\n",
    "<img src=\"img/online-python.png\" style=\"width: 70%;\"/>"
   ]
  },
  {
   "cell_type": "markdown",
   "id": "c31483a7-af61-4ae2-875f-33bcff976b4f",
   "metadata": {
    "editable": true,
    "slideshow": {
     "slide_type": "slide"
    },
    "tags": []
   },
   "source": [
    "# Jupyter Notebooks\n",
    "\n",
    "* Responsive document composed of cells.\n",
    "* Runs in the browser with local files.\n",
    "* Combines input, output, text, math, images, videos into a single document.\n",
    "* Very common in data analysis and reporting.\n",
    "\n",
    "<img src=\"img/jupyter-example.png\" style=\"width: 50%;\"/>"
   ]
  },
  {
   "cell_type": "markdown",
   "id": "78dafb1d",
   "metadata": {
    "editable": true,
    "slideshow": {
     "slide_type": "slide"
    },
    "tags": [],
    "vscode": {
     "languageId": "plaintext"
    }
   },
   "source": [
    "# Google Colab\n",
    "* An online notebook server\n",
    "* Runs in the cloud.\n",
    "* Shareable, collaborative\n",
    "\n",
    "<img src=\"img/colab.png\" style=\"width: 50%;\">"
   ]
  },
  {
   "cell_type": "markdown",
   "id": "1c941226",
   "metadata": {},
   "source": []
  }
 ],
 "metadata": {
  "kernelspec": {
   "display_name": "Python 3 (ipykernel)",
   "language": "python",
   "name": "python3"
  },
  "language_info": {
   "codemirror_mode": {
    "name": "ipython",
    "version": 3
   },
   "file_extension": ".py",
   "mimetype": "text/x-python",
   "name": "python",
   "nbconvert_exporter": "python",
   "pygments_lexer": "ipython3",
   "version": "3.13.3"
  }
 },
 "nbformat": 4,
 "nbformat_minor": 5
}
