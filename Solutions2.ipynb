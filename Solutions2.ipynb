{
 "cells": [
  {
   "cell_type": "markdown",
   "id": "9653c0b7",
   "metadata": {
    "editable": true,
    "slideshow": {
     "slide_type": ""
    },
    "tags": []
   },
   "source": [
    "## Speeding ticket\n",
    "\n",
    "Speed limits are posted in a highway. If the driver goes above the speed limit, he will get a speed ticket, *unless the vehicle is an ambulance*.\n",
    "\n",
    "The penalty increases with speed. If the speed is between 100% and 110% of the speed limit, the driver gets just a warning. If the speed is above 110% of the limit, the driver gets a fine of 1000TL. If the speed is above 120% of the limit, the fine is 2500TL.\n",
    "\n",
    "Write a program that takes the vehicle speed, the speed limit and whether the vehicle is an ambulance. The program should either print \"No ticket\", or \"Warning\", or \"Ticket with 1000 TL fine\", or \"Ticket with 2500 TL fine\".\n",
    "\n",
    "Examples:"
   ]
  },
  {
   "cell_type": "code",
   "execution_count": 39,
   "id": "1288a0d3",
   "metadata": {},
   "outputs": [
    {
     "name": "stdout",
     "output_type": "stream",
     "text": [
      "No ticket\n"
     ]
    }
   ],
   "source": [
    "vehicle_speed = 200\n",
    "speed_limit = 130\n",
    "is_ambulance = True\n",
    "\n",
    "# your code here\n",
    "# ..."
   ]
  },
  {
   "cell_type": "code",
   "execution_count": 40,
   "id": "08be9f4f",
   "metadata": {},
   "outputs": [
    {
     "name": "stdout",
     "output_type": "stream",
     "text": [
      "Ticket with 1000 TL fine\n"
     ]
    }
   ],
   "source": [
    "vehicle_speed = 150\n",
    "speed_limit = 130\n",
    "is_ambulance = False\n",
    "\n",
    "# your code here\n"
   ]
  },
  {
   "cell_type": "code",
   "execution_count": 41,
   "id": "c380e38f",
   "metadata": {},
   "outputs": [
    {
     "name": "stdout",
     "output_type": "stream",
     "text": [
      "Warning\n"
     ]
    }
   ],
   "source": [
    "vehicle_speed = 140\n",
    "speed_limit = 130\n",
    "is_ambulance = False\n",
    "\n",
    "# your code here\n"
   ]
  },
  {
   "cell_type": "code",
   "execution_count": 42,
   "id": "97ad2339-6677-4f5a-8d02-b10e8e477376",
   "metadata": {},
   "outputs": [
    {
     "name": "stdout",
     "output_type": "stream",
     "text": [
      "No ticket\n"
     ]
    }
   ],
   "source": [
    "vehicle_speed = 130\n",
    "speed_limit = 130\n",
    "is_ambulance = False\n",
    "\n",
    "# your code here\n"
   ]
  },
  {
   "cell_type": "markdown",
   "id": "3ed47d13-2643-429c-8e1e-64428734cffe",
   "metadata": {},
   "source": [
    "**Solution**"
   ]
  },
  {
   "cell_type": "code",
   "execution_count": null,
   "id": "f6a5d7cb-b738-43f3-95fc-ad16a42534ce",
   "metadata": {},
   "outputs": [],
   "source": [
    "vehicle_speed = 130\n",
    "speed_limit = 130\n",
    "is_ambulance = False\n",
    "\n",
    "if is_ambulance or vehicle_speed <= speed_limit:\n",
    "    print(\"No ticket\")\n",
    "elif vehicle_speed > speed_limit*1.2:\n",
    "    print(\"Ticket with 2500 TL fine\")\n",
    "elif vehicle_speed > speed_limit*1.1:\n",
    "    print(\"Ticket with 1000 TL fine\")\n",
    "else:\n",
    "    print(\"Warning\")"
   ]
  },
  {
   "cell_type": "markdown",
   "id": "48051e7c",
   "metadata": {},
   "source": [
    "## Leap year\n",
    "\n",
    "A leap year is a year that is divisible by four, unless it is divisible by 100. However, years that are divisible by 400 are leap years.\n",
    "\n",
    "Example: 1600, 1996, 2000, 2004 are leap years. However, 1900, 1997, 2001, 2100 are not.\n",
    "\n",
    "Write an `if-else` statement that prints if a given year is a leap year or not."
   ]
  },
  {
   "cell_type": "markdown",
   "id": "cea4955a-52cc-41ac-9d4c-d493848f7e01",
   "metadata": {},
   "source": [
    "**Solution**"
   ]
  },
  {
   "cell_type": "code",
   "execution_count": 7,
   "id": "6884ce7c-4c15-4320-a220-25d6f8732462",
   "metadata": {},
   "outputs": [
    {
     "name": "stdout",
     "output_type": "stream",
     "text": [
      "Leap year\n"
     ]
    }
   ],
   "source": [
    "year = 1600\n",
    "if year %4 == 0:\n",
    "    if year%400==0:\n",
    "        print(\"Leap year\")\n",
    "    elif year%100==0:\n",
    "        print(\"Not a leap year\")\n",
    "    else:\n",
    "        print(\"Leap year\")\n"
   ]
  },
  {
   "cell_type": "markdown",
   "id": "3f2533ff-9776-4114-ad13-71dbe991a18b",
   "metadata": {},
   "source": [
    "**Solution 2**"
   ]
  },
  {
   "cell_type": "code",
   "execution_count": 18,
   "id": "acfa521f-5b57-41f1-9244-725afd4e2ce9",
   "metadata": {},
   "outputs": [
    {
     "name": "stdout",
     "output_type": "stream",
     "text": [
      "Leap year\n"
     ]
    }
   ],
   "source": [
    "year = 1600\n",
    "if (year%4==0) and (year%400==0 or year%100!=0):\n",
    "    print(\"Leap year\")\n",
    "else:\n",
    "    print(\"Not a leap year\")"
   ]
  },
  {
   "cell_type": "markdown",
   "id": "00e11e81-63ae-4559-a3d7-6d005a722d43",
   "metadata": {
    "editable": true,
    "slideshow": {
     "slide_type": ""
    },
    "tags": []
   },
   "source": [
    "# Ternary if\n",
    "Rewrite the following code using only ternary `if` expressions:\n",
    "\n",
    "```\n",
    "if rating > 100:\n",
    "    group = \"A\"\n",
    "elif rating > 50:\n",
    "    group = \"B\"\n",
    "else:\n",
    "    group = \"C\"\n",
    "```\n"
   ]
  },
  {
   "cell_type": "code",
   "execution_count": null,
   "id": "77ee2ea3-6e4f-4742-b41f-36bb394ee7d3",
   "metadata": {},
   "outputs": [],
   "source": [
    "group = \"A\" if rating>100 else (\"B\" if rating>50 else \"C\")"
   ]
  },
  {
   "cell_type": "markdown",
   "id": "7cf1d133",
   "metadata": {
    "editable": true,
    "slideshow": {
     "slide_type": ""
    },
    "tags": []
   },
   "source": [
    "## Fizzbuzz\n",
    "\n",
    "Given a number `n`, if `n` is divisible by 3, print `\"Fizz\"`.\n",
    "\n",
    "If `n` is divisible by 5, print `\"Buzz\"`.\n",
    "\n",
    "If `n` is divisible by both 3 and 5, print `\"Fizzbuzz\"`."
   ]
  },
  {
   "cell_type": "markdown",
   "id": "100f9390-481a-4ed4-a257-fa3beae75482",
   "metadata": {},
   "source": [
    "**Solution**"
   ]
  },
  {
   "cell_type": "code",
   "execution_count": 8,
   "id": "22d17544-8a21-47df-8aa0-430ba2e96944",
   "metadata": {},
   "outputs": [
    {
     "name": "stdout",
     "output_type": "stream",
     "text": [
      "Fizzbuzz\n"
     ]
    }
   ],
   "source": [
    "n = 15\n",
    "if n%3==0:\n",
    "    if n%5==0:\n",
    "        print(\"Fizzbuzz\")\n",
    "    else:\n",
    "        print(\"Fizz\")\n",
    "elif n%5==0:\n",
    "    print(\"Buzz\")"
   ]
  },
  {
   "cell_type": "markdown",
   "id": "b87fe8ae",
   "metadata": {},
   "source": [
    "## String secrets\n",
    "\n",
    "A given string `s` is considered valid or invalid according to the following criteria:\n",
    "\n",
    "* If the string starts with `a`, its third character must be `c`\n",
    "* The string does not have `\"abc\"` anywhere in it.\n",
    "* The string is longer than 5 characters.\n",
    "\n",
    "Print `\"Valid\"` if all the criteria hold, and `\"Invalid\"` otherwise.\n",
    "\n",
    "Example:\n",
    "* \"ascbvn\", \"qwertyu\", \"12544jsdjgds\" are valid strings\n",
    "* \"abcbvn\", \"qwert\", \"aqwerty\", \"1234abc\" are invalid strings."
   ]
  },
  {
   "cell_type": "markdown",
   "id": "6738f461-f420-4990-a40a-2d7b4ee8c685",
   "metadata": {},
   "source": [
    "**Solution**"
   ]
  },
  {
   "cell_type": "code",
   "execution_count": null,
   "id": "617621a3-bbd4-4d50-9f37-856e9d8afe0c",
   "metadata": {},
   "outputs": [],
   "source": [
    "s = \"1234abc\"\n",
    "valid = True\n",
    "if s[0]==\"a\" and s[2]!=\"c\":\n",
    "    print(\"Invalid\")\n",
    "elif \"abc\" not in s and len(s)>5:\n",
    "    print(\"Valid\")\n",
    "else:\n",
    "    print(\"Invalid\")"
   ]
  },
  {
   "cell_type": "markdown",
   "id": "5b7b8694",
   "metadata": {},
   "source": [
    "## Little little in the middle\n",
    "\n",
    "Given a list of three numbers, print the median value (the value between the other two). If there are any equal values, print \"None\".\n",
    "\n",
    "Examples:\n",
    "* `[1,4,3]` prints 3\n",
    "* `[1,1,2]` prints `None`\n",
    "* `[-3,1,-4]` prints -3"
   ]
  },
  {
   "cell_type": "markdown",
   "id": "950a0b58-6a23-41b0-9472-f4a88f0f204c",
   "metadata": {},
   "source": [
    "Solution:"
   ]
  },
  {
   "cell_type": "code",
   "execution_count": null,
   "id": "0cdf737f-bf2c-48ef-b223-db64fd50010c",
   "metadata": {},
   "outputs": [],
   "source": [
    "L = [1,4,3]\n",
    "\n",
    "if L[0]==L[1] or L[1]==L[2] or L[0]==L[2]:\n",
    "    result = \"None\"\n",
    "if (L[0]>L[1] and L[0]<L[2]) or (L[0]>L[2] and L[0]<L[1]):\n",
    "    # think about a smarter way to write this condition\n",
    "    result = L[0]\n",
    "if (L[1]>L[2] and L[1]<L[0]) or (L[1]>L[0] and L[1]<L[2]):\n",
    "    result = L[1]\n",
    "if (L[2]>L[1] and L[2]<L[0]) or (L[2]>L[0] and L[2]<L[1]):\n",
    "    result = L[2]\n",
    "print(result)"
   ]
  },
  {
   "cell_type": "markdown",
   "id": "ba6aaa24",
   "metadata": {},
   "source": [
    "## Love of 6\n",
    "\n",
    "Given two integer values, a and b, print \"True\" if either one is 6, or if their sum or difference is 6. Print \"False\" otherwise.\n",
    "\n",
    "Note: the function `abs()` computes the absolute value of a number.\n",
    "\n",
    "Examples:\n",
    "* a=6, b=4 -> True \n",
    "* a=2, b=4 -> True\n",
    "* a=2, b=5 -> False\n",
    "* a=9, b=3 -> True\n",
    "* a=2, b=-4 -> True"
   ]
  },
  {
   "cell_type": "markdown",
   "id": "4de54238-d61e-4ae3-a452-ae710ca5461e",
   "metadata": {},
   "source": [
    "**Solution**"
   ]
  },
  {
   "cell_type": "code",
   "execution_count": 20,
   "id": "83eb6fd6-5a93-4c1d-b547-303df7b30238",
   "metadata": {},
   "outputs": [
    {
     "name": "stdout",
     "output_type": "stream",
     "text": [
      "False\n"
     ]
    }
   ],
   "source": [
    "a, b = 2,5\n",
    "if a==6 or b==6 or abs(a-b)==6 or a+b==6:\n",
    "    print(\"True\")\n",
    "else:\n",
    "    print(\"False\")"
   ]
  },
  {
   "cell_type": "markdown",
   "id": "60d4e1ee",
   "metadata": {},
   "source": [
    "## Matchmaking\n",
    "\n",
    "In order to recommend books to users, a bookseller gives ratings to books over three dimensions: Informative, Thoughtful, Entertaining. Each dimension is rated from 1 to 10.\n",
    "\n",
    "The bookseller recommends a book to you if the difference of ratings between it and your last book in any dimension is at most 2.\n",
    "\n",
    "The rating of a book is stored as a dictionary, such as:\n",
    "\n",
    "```\n",
    "book1 = {\"Informative\": 5, \"Thoughtful\": 3, \"Entertaining\": 7}\n",
    "```\n",
    "\n",
    "Write a program that takes your previous book and a new book (both dictionaries) and prints \"Recommended\" or \"Not Recommended: Mismatch on ... dimension\".\n",
    "\n",
    "Examples:"
   ]
  },
  {
   "cell_type": "code",
   "execution_count": 20,
   "id": "7e31647a",
   "metadata": {},
   "outputs": [
    {
     "name": "stdout",
     "output_type": "stream",
     "text": [
      "Recommended\n"
     ]
    }
   ],
   "source": [
    "previous_book = {\"Informative\": 5, \"Thoughtful\": 3, \"Entertaining\": 7}\n",
    "new_book      = {\"Informative\": 5, \"Thoughtful\": 5, \"Entertaining\": 6}\n",
    "\n",
    "# your code here\n"
   ]
  },
  {
   "cell_type": "code",
   "execution_count": 21,
   "id": "78935ce3",
   "metadata": {},
   "outputs": [
    {
     "name": "stdout",
     "output_type": "stream",
     "text": [
      "Not recommended: Mismatch on Entertaining dimension\n"
     ]
    }
   ],
   "source": [
    "previous_book = {\"Informative\": 5, \"Thoughtful\": 3, \"Entertaining\": 7}\n",
    "new_book      = {\"Informative\": 5, \"Thoughtful\": 4, \"Entertaining\": 4}\n",
    "\n",
    "# your code here\n"
   ]
  },
  {
   "cell_type": "markdown",
   "id": "4c8cd5e8-a0ae-40cd-ab8c-d33026c28707",
   "metadata": {},
   "source": [
    "**Solution**"
   ]
  },
  {
   "cell_type": "code",
   "execution_count": 22,
   "id": "fd8d2493",
   "metadata": {},
   "outputs": [
    {
     "name": "stdout",
     "output_type": "stream",
     "text": [
      "Not recommended: Mismatch on Informative dimension\n",
      "Not recommended: Mismatch on Entertaining dimension\n"
     ]
    }
   ],
   "source": [
    "previous_book = {\"Informative\": 5, \"Thoughtful\": 3, \"Entertaining\": 7}\n",
    "new_book      = {\"Informative\": 8, \"Thoughtful\": 4, \"Entertaining\": 4}\n",
    "\n",
    "recommended = True\n",
    "if abs(previous_book[\"Informative\"] - new_book[\"Informative\"])>2:\n",
    "    print(\"Not recommended: Mismatch on Informative dimension\")\n",
    "    recommended = False\n",
    "if abs(previous_book[\"Thoughtful\"] - new_book[\"Thoughtful\"])>2:\n",
    "    print(\"Not recommended: Mismatch on Thoughtful dimension\")\n",
    "    recommended = False\n",
    "if abs(previous_book[\"Entertaining\"] - new_book[\"Entertaining\"])>2:\n",
    "    print(\"Not recommended: Mismatch on Entertaining dimension\")\n",
    "    recommended = False\n",
    "\n",
    "if recommended:\n",
    "    print(\"Recommended\")"
   ]
  },
  {
   "cell_type": "markdown",
   "id": "8caf0dc1",
   "metadata": {},
   "source": [
    "## Validate the date\n",
    "\n",
    "You are given a calendar date with three variables: `day`, `month`, and `year`, all integers. Write a program to check if this a valid date.\n",
    "\n",
    "* The `month` variable should be between 1 and 12. \n",
    "* The `day` variable should be between 1 and the length of the chosen month.\n",
    "* The leap day should be accounted for.\n",
    "\n",
    "The program should print `\"Valid date\"` or `\"Invalid date\"`.\n",
    "\n",
    "Examples of valid dates:\n",
    "* `day=30, month=4, year=2025`\n",
    "* `day=29, month=2, year=2000`\n",
    "* `day=1,  month=1, year=2020`\n",
    "\n",
    "Examples of invalid dates:\n",
    "* `day=31, month=4, year=2025`\n",
    "* `day=29, month=2, year=1900`\n",
    "* `day=1, month=13, year=2025`\n",
    "\n",
    "Hint: You can use a list or a dict to associate months with their lengths."
   ]
  },
  {
   "cell_type": "markdown",
   "id": "b679e50d-f25a-4f0b-8abb-cb3022bfa925",
   "metadata": {},
   "source": [
    "**Solution**"
   ]
  },
  {
   "cell_type": "code",
   "execution_count": 75,
   "id": "0ed8fcb6-e514-4824-843d-a7d2626e3024",
   "metadata": {},
   "outputs": [
    {
     "name": "stdout",
     "output_type": "stream",
     "text": [
      "Invalid date\n"
     ]
    }
   ],
   "source": [
    "day, month, year = 1,13,2020\n",
    "\n",
    "days_in_month = {1:31, 2:28, 3:31, 4:30, 5:31, 6:30, 7:31, 8:31, 9:30, 10:31, 11:30, 12:31}\n",
    "is_leap_year = (year%4==0 and year%100!=0) or year%400==0\n",
    "if (1<=month<=12) and (day <=days_in_month[month] or (day==29 and is_leap_year)):\n",
    "    print(\"Valid date\")\n",
    "else:\n",
    "    print(\"Invalid date\")"
   ]
  }
 ],
 "metadata": {
  "kernelspec": {
   "display_name": "Python 3 (ipykernel)",
   "language": "python",
   "name": "python3"
  },
  "language_info": {
   "codemirror_mode": {
    "name": "ipython",
    "version": 3
   },
   "file_extension": ".py",
   "mimetype": "text/x-python",
   "name": "python",
   "nbconvert_exporter": "python",
   "pygments_lexer": "ipython3",
   "version": "3.13.3"
  }
 },
 "nbformat": 4,
 "nbformat_minor": 5
}
