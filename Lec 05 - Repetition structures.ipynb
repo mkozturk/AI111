{
 "cells": [
  {
   "cell_type": "markdown",
   "id": "f6d34d30-5884-4b8c-ab8e-f30fea686bef",
   "metadata": {
    "editable": true,
    "jp-MarkdownHeadingCollapsed": true,
    "slideshow": {
     "slide_type": "slide"
    },
    "tags": []
   },
   "source": [
    "# Repetition structures\n",
    "\n",
    "The `while` and `for` statements repeat a block of code as long as a condition holds true.\n",
    "![](img/while-loop.jpg)"
   ]
  },
  {
   "cell_type": "markdown",
   "id": "8c6f7dcc-24ce-40df-bc46-28e093b9e93f",
   "metadata": {
    "editable": true,
    "slideshow": {
     "slide_type": "slide"
    },
    "tags": []
   },
   "source": [
    "# The `while` loop"
   ]
  },
  {
   "cell_type": "code",
   "execution_count": 1,
   "id": "93a2e66b-5fb1-4e86-8af7-a6b1fa8bb062",
   "metadata": {
    "editable": true,
    "slideshow": {
     "slide_type": ""
    },
    "tags": []
   },
   "outputs": [
    {
     "name": "stdout",
     "output_type": "stream",
     "text": [
      "1 2 3 4 5 6 7 8 9 "
     ]
    }
   ],
   "source": [
    "a = 1  # initialization\n",
    "while a<10:  # condition\n",
    "    print(a, end=\" \")\n",
    "    a = a + 1   # update"
   ]
  },
  {
   "cell_type": "markdown",
   "id": "ba12d73d-0370-4d59-9e2d-3ede29c4b74f",
   "metadata": {
    "editable": true,
    "slideshow": {
     "slide_type": ""
    },
    "tags": []
   },
   "source": [
    "* The loop body is indented after the `while` line.\n",
    "* The update `a = a + 1` is crucial. Omission leads to an _infinite loop_.\n",
    "* One pass over the loop is called an *iteration*."
   ]
  },
  {
   "cell_type": "markdown",
   "id": "235fd6ba-75ad-4ac9-9d50-8c94eb090fe4",
   "metadata": {
    "editable": true,
    "slideshow": {
     "slide_type": "slide"
    },
    "tags": []
   },
   "source": [
    "## General form of the `while` loop"
   ]
  },
  {
   "cell_type": "markdown",
   "id": "146a93b3-ef20-4733-915a-c64af87253a4",
   "metadata": {
    "editable": true,
    "slideshow": {
     "slide_type": "slide"
    },
    "tags": []
   },
   "source": [
    "        while <condition> :\n",
    "            <statements>\n",
    "\n",
    "* First, checks for the truth of the condition.\n",
    "* If `True`, enters the loop block.\n",
    "* When finished, checks the loop condition again.\n",
    "* If still `True`, runs one iteration again."
   ]
  },
  {
   "cell_type": "code",
   "execution_count": null,
   "id": "ad06506b-7b2e-4cf2-92a3-39a6196eb9bf",
   "metadata": {
    "editable": true,
    "slideshow": {
     "slide_type": ""
    },
    "tags": []
   },
   "outputs": [],
   "source": [
    "a = 1  # initialization\n",
    "while a<10:  # condition\n",
    "    print(a, end=\" \")\n",
    "    a = a + 1   # update"
   ]
  },
  {
   "cell_type": "markdown",
   "id": "0f1dc213",
   "metadata": {
    "editable": true,
    "slideshow": {
     "slide_type": "slide"
    },
    "tags": []
   },
   "source": [
    "## Exercise\n",
    "\n",
    "Modify the program above so that it prints numbers from -10 to 10 (included), with steps of 2.5."
   ]
  },
  {
   "cell_type": "code",
   "execution_count": null,
   "id": "1401da56",
   "metadata": {},
   "outputs": [
    {
     "name": "stdout",
     "output_type": "stream",
     "text": [
      "-10.0 -7.5 -5.0 -2.5 0.0 2.5 5.0 7.5 10.0 "
     ]
    }
   ],
   "source": []
  },
  {
   "cell_type": "markdown",
   "id": "ccb91790",
   "metadata": {
    "editable": true,
    "slideshow": {
     "slide_type": "slide"
    },
    "tags": []
   },
   "source": [
    "## Exercise\n",
    "Modify the program above so that it prints powers of 2 up to 1000"
   ]
  },
  {
   "cell_type": "code",
   "execution_count": null,
   "id": "5582136a",
   "metadata": {},
   "outputs": [
    {
     "name": "stdout",
     "output_type": "stream",
     "text": [
      "2 4 8 16 32 64 128 256 512 "
     ]
    }
   ],
   "source": []
  },
  {
   "cell_type": "markdown",
   "id": "c706fc3a-6d09-4eb4-8142-5308ec6f2394",
   "metadata": {
    "editable": true,
    "slideshow": {
     "slide_type": "slide"
    },
    "tags": []
   },
   "source": [
    "## Example: Calculate the sum of integers from 1 to 10"
   ]
  },
  {
   "cell_type": "code",
   "execution_count": 2,
   "id": "b8dcf7a9-a104-4aad-b71c-9540f39b2e09",
   "metadata": {
    "editable": true,
    "slideshow": {
     "slide_type": ""
    },
    "tags": []
   },
   "outputs": [
    {
     "name": "stdout",
     "output_type": "stream",
     "text": [
      "55\n"
     ]
    }
   ],
   "source": [
    "# initializations\n",
    "start = 1\n",
    "end = 10\n",
    "total = 0\n",
    "\n",
    "i = start\n",
    "while i<=end: # keep adding until you reach the last number\n",
    "    total += i  # another way to write total = total + i\n",
    "    i += 1\n",
    "\n",
    "print(total)"
   ]
  },
  {
   "cell_type": "markdown",
   "id": "e0f15e0b-a142-4ece-a815-bc596a003706",
   "metadata": {
    "editable": true,
    "slideshow": {
     "slide_type": ""
    },
    "tags": []
   },
   "source": [
    "To see how variables change at every iteration,run this program in [Python Tutor](https://pythontutor.com/render.html#mode=display)"
   ]
  },
  {
   "cell_type": "markdown",
   "id": "f1fb2c15-491f-4633-9892-5a39c8840862",
   "metadata": {
    "editable": true,
    "slideshow": {
     "slide_type": ""
    },
    "tags": []
   },
   "source": [
    "**Exercise**: Suppose you want to know how many integers you need to add up before the total exceeds 1000. How would you change the code above?"
   ]
  },
  {
   "cell_type": "markdown",
   "id": "7559bb47-b445-45f1-bdcf-6710741bb92a",
   "metadata": {
    "editable": true,
    "slideshow": {
     "slide_type": "slide"
    },
    "tags": []
   },
   "source": [
    "# The `break` statement\n",
    "Ends the loop immediately.\n",
    "\n",
    "Used with an `if` statement inside a loop."
   ]
  },
  {
   "cell_type": "markdown",
   "id": "73d27969-aae4-4831-a453-0a30815b1484",
   "metadata": {
    "editable": true,
    "slideshow": {
     "slide_type": ""
    },
    "tags": []
   },
   "source": [
    "Example: Read and add up numbers until user enters `\"end\"`"
   ]
  },
  {
   "cell_type": "code",
   "execution_count": 7,
   "id": "dbc0153b-a87e-4160-9c35-a75166dc58e1",
   "metadata": {
    "editable": true,
    "slideshow": {
     "slide_type": ""
    },
    "tags": []
   },
   "outputs": [
    {
     "name": "stdout",
     "output_type": "stream",
     "text": [
      "Enter a number (type 'end' to end):  65\n",
      "Enter a number (type 'end' to end):  34\n",
      "Enter a number (type 'end' to end):  -3\n",
      "Enter a number (type 'end' to end):  end\n"
     ]
    },
    {
     "name": "stdout",
     "output_type": "stream",
     "text": [
      "Total: 96\n"
     ]
    }
   ],
   "source": [
    "total = 0\n",
    "while True:   # Infinite loop\n",
    "    x = input(\"Enter a number (type 'end' to end): \")\n",
    "    if x == \"end\":\n",
    "        break\n",
    "    total += int(x)\n",
    "print(\"Total:\", total)"
   ]
  },
  {
   "cell_type": "markdown",
   "id": "c306de5e-cf52-451a-95da-db74e1a16413",
   "metadata": {
    "editable": true,
    "slideshow": {
     "slide_type": "slide"
    },
    "tags": []
   },
   "source": [
    "# The `continue` statement\n",
    "* Starts a new iteration.\n",
    "* Statements after `continue` are not executed."
   ]
  },
  {
   "cell_type": "code",
   "execution_count": 12,
   "id": "b8870ac1-e714-41d8-8c5f-4312ec5855ca",
   "metadata": {
    "editable": true,
    "slideshow": {
     "slide_type": ""
    },
    "tags": []
   },
   "outputs": [
    {
     "name": "stdout",
     "output_type": "stream",
     "text": [
      "Enter a number between 0 and 10 ('end' to end):  3\n",
      "Enter a number between 0 and 10 ('end' to end):  1.4\n",
      "Enter a number between 0 and 10 ('end' to end):  11\n",
      "Enter a number between 0 and 10 ('end' to end):  0\n",
      "Enter a number between 0 and 10 ('end' to end):  -3\n",
      "Enter a number between 0 and 10 ('end' to end):  end\n"
     ]
    },
    {
     "name": "stdout",
     "output_type": "stream",
     "text": [
      "Total: 4.4\n"
     ]
    }
   ],
   "source": [
    "total = 0\n",
    "while True:   # Infinite loop\n",
    "    x = input(\"Enter a number between 0 and 10 ('end' to end): \")\n",
    "    if x == \"end\":\n",
    "        break\n",
    "    x = float(x)\n",
    "    if x<0 or x>10:\n",
    "        continue\n",
    "    total += x\n",
    "\n",
    "print(\"Total:\", total)"
   ]
  },
  {
   "cell_type": "markdown",
   "id": "96947165-198d-4338-8a55-8a83ce20c834",
   "metadata": {
    "editable": true,
    "slideshow": {
     "slide_type": "slide"
    },
    "tags": []
   },
   "source": [
    "# Example: Determine if an integer is prime\n",
    "\n",
    "A prime number is divisible only by 1 and itself. Check all possible divisors. If none of them divides it, claim that the number is prime."
   ]
  },
  {
   "cell_type": "code",
   "execution_count": 65,
   "id": "0aba72b8-6370-4b82-a9e5-d65696a7fd81",
   "metadata": {
    "editable": true,
    "slideshow": {
     "slide_type": ""
    },
    "tags": []
   },
   "outputs": [
    {
     "name": "stdout",
     "output_type": "stream",
     "text": [
      "1234567 is not a prime. 127 divides it.\n"
     ]
    }
   ],
   "source": [
    "n = 2**31-1 # prime\n",
    "n = 1234567 # nonprime\n",
    "\n",
    "isprime = True # assume prime; change if a divisor is found.\n",
    "i = 2 # start dividing by 2\n",
    "while i*i <= n: # why this condition?\n",
    "    if n%i == 0: # check the remainder of dividing by i\n",
    "        isprime = False\n",
    "        break  # no need to check further\n",
    "    i = i+1\n",
    "if isprime:\n",
    "    print(n, \"is a prime number\")\n",
    "else:\n",
    "    print(n, \"is not a prime.\",i,\"divides it.\")"
   ]
  },
  {
   "cell_type": "markdown",
   "id": "478482e0-db0b-4fd7-a442-0cadfa6c3767",
   "metadata": {
    "editable": true,
    "slideshow": {
     "slide_type": "slide"
    },
    "tags": []
   },
   "source": [
    "# The `for` loop\n",
    "* Iterates over sequential objects.\n",
    "* Takes elements one by one, stops when elements are over.\n",
    "\n",
    "        for <variable> in <iterable>:\n",
    "            <statements>"
   ]
  },
  {
   "cell_type": "code",
   "execution_count": 13,
   "id": "d47350b9-b9b2-40fc-91db-169c1a196ffb",
   "metadata": {
    "editable": true,
    "slideshow": {
     "slide_type": ""
    },
    "tags": []
   },
   "outputs": [
    {
     "name": "stdout",
     "output_type": "stream",
     "text": [
      "1 1\n",
      "2 4\n",
      "3 9\n"
     ]
    }
   ],
   "source": [
    "for x in [1,2,3]:\n",
    "    print(x,x*x)"
   ]
  },
  {
   "cell_type": "code",
   "execution_count": 14,
   "id": "d89266d1-56aa-4698-a2b2-0cae52e28795",
   "metadata": {
    "editable": true,
    "slideshow": {
     "slide_type": ""
    },
    "tags": []
   },
   "outputs": [
    {
     "data": {
      "text/plain": [
       "'H-e-l-l-o- -W-o-r-l-d-'"
      ]
     },
     "execution_count": 14,
     "metadata": {},
     "output_type": "execute_result"
    }
   ],
   "source": [
    "s = \"\"\n",
    "for c in \"Hello World\":\n",
    "    s = s + c + \"-\"\n",
    "s"
   ]
  },
  {
   "cell_type": "markdown",
   "id": "a1975849-21ed-4d73-a195-ad610ae85326",
   "metadata": {
    "editable": true,
    "slideshow": {
     "slide_type": "slide"
    },
    "tags": []
   },
   "source": [
    "Elements in the iterable can themselves be iterables."
   ]
  },
  {
   "cell_type": "code",
   "execution_count": 20,
   "id": "fd043dc7-b57a-4c47-943d-a25d72d6ca60",
   "metadata": {
    "editable": true,
    "slideshow": {
     "slide_type": ""
    },
    "tags": []
   },
   "outputs": [
    {
     "name": "stdout",
     "output_type": "stream",
     "text": [
      "1 + 2 = 3\n",
      "3 + 4 = 7\n",
      "5 + 6 = 11\n"
     ]
    }
   ],
   "source": [
    "for t in [(1,2), (3,4), (5,6)]:\n",
    "    print(t[0], \"+\", t[1], \"=\", t[0]+t[1])"
   ]
  },
  {
   "cell_type": "markdown",
   "id": "3addd044-7186-4b1b-8952-4415a6da5297",
   "metadata": {
    "editable": true,
    "slideshow": {
     "slide_type": ""
    },
    "tags": []
   },
   "source": [
    "Alternatively, we can use the *multiple assignment* feature:"
   ]
  },
  {
   "cell_type": "code",
   "execution_count": 21,
   "id": "e8e28494-171b-4660-bd30-6c98a7263b70",
   "metadata": {
    "editable": true,
    "slideshow": {
     "slide_type": ""
    },
    "tags": []
   },
   "outputs": [
    {
     "name": "stdout",
     "output_type": "stream",
     "text": [
      "1 + 2 = 3\n",
      "3 + 4 = 7\n",
      "5 + 6 = 11\n"
     ]
    }
   ],
   "source": [
    "for x, y in [(1,2), (3,4), (5,6)]:\n",
    "    print(x, \"+\", y, \"=\", x+y)"
   ]
  },
  {
   "cell_type": "markdown",
   "id": "cec93842",
   "metadata": {
    "editable": true,
    "slideshow": {
     "slide_type": "slide"
    },
    "tags": []
   },
   "source": [
    "## Exercise\n",
    "\n",
    "You open a savings account with a variable interest rate. The interest rates for every year are stored in a list.\n",
    "Write a program that loops over this list and prints your account balance at every year.\n",
    "\n",
    "Example:"
   ]
  },
  {
   "cell_type": "code",
   "execution_count": null,
   "id": "ec8ab313",
   "metadata": {},
   "outputs": [
    {
     "name": "stdout",
     "output_type": "stream",
     "text": [
      "14000.0\n",
      "19740.0\n",
      "27438.6\n",
      "39237.2\n",
      "58855.8\n",
      "88872.25\n",
      "129753.49\n",
      "185547.49\n"
     ]
    }
   ],
   "source": [
    "amount = 10000\n",
    "rates = [0.4, 0.41, 0.39, 0.43, 0.5, 0.51, 0.46, 0.43]\n",
    "\n",
    "for r in rates:\n",
    "    # your code goes here"
   ]
  },
  {
   "cell_type": "markdown",
   "id": "700b38df-ef3b-4f85-b9f5-83b970fc29a9",
   "metadata": {
    "editable": true,
    "slideshow": {
     "slide_type": "slide"
    },
    "tags": []
   },
   "source": [
    "# Equivalence of `while` and `for` loops\n",
    "The following `for` loop"
   ]
  },
  {
   "cell_type": "code",
   "execution_count": null,
   "id": "082b383e-f59b-418c-88f9-56f6e140b4f8",
   "metadata": {
    "editable": true,
    "slideshow": {
     "slide_type": ""
    },
    "tags": []
   },
   "outputs": [],
   "source": [
    "for x in [1,2,3]:\n",
    "    print(x,x*x)"
   ]
  },
  {
   "cell_type": "markdown",
   "id": "b360cd82-5f1c-4a35-b533-68bf4863bbd5",
   "metadata": {
    "editable": true,
    "slideshow": {
     "slide_type": ""
    },
    "tags": []
   },
   "source": [
    "is equivalent to the following `while` loop."
   ]
  },
  {
   "cell_type": "code",
   "execution_count": null,
   "id": "b495945e-7d43-44bb-8583-ab6ffe5de2bc",
   "metadata": {
    "editable": true,
    "slideshow": {
     "slide_type": ""
    },
    "tags": []
   },
   "outputs": [],
   "source": [
    "L = [1,2,3]\n",
    "i = 0\n",
    "while i<len(L):\n",
    "    x = L[i]\n",
    "    print(x, x*x)\n",
    "    i += 1"
   ]
  },
  {
   "cell_type": "markdown",
   "id": "5c782284-e44a-4dcc-bb8b-745c82cbd084",
   "metadata": {
    "editable": true,
    "slideshow": {
     "slide_type": "slide"
    },
    "tags": []
   },
   "source": [
    "# Looping over iterators\n",
    "`for` can be used directly with *iterators* such as those returned by `range`, `zip`, etc."
   ]
  },
  {
   "cell_type": "code",
   "execution_count": 17,
   "id": "5d68a940-a795-41a8-afec-fb79d608daee",
   "metadata": {
    "editable": true,
    "slideshow": {
     "slide_type": ""
    },
    "tags": []
   },
   "outputs": [
    {
     "name": "stdout",
     "output_type": "stream",
     "text": [
      "0 1 2 3 4 5 6 7 8 9 "
     ]
    }
   ],
   "source": [
    "for i in range(10):\n",
    "    print(i, end=\" \")"
   ]
  },
  {
   "cell_type": "code",
   "execution_count": 18,
   "id": "74db942b-c15f-4256-80ac-ab94eb625d51",
   "metadata": {
    "editable": true,
    "slideshow": {
     "slide_type": ""
    },
    "tags": []
   },
   "outputs": [
    {
     "name": "stdout",
     "output_type": "stream",
     "text": [
      "1 + 2 = 3\n",
      "3 + 4 = 7\n",
      "5 + 6 = 11\n"
     ]
    }
   ],
   "source": [
    "L1 = [1,3,5]\n",
    "L2 = [2,4,6]\n",
    "for x, y in zip(L1, L2):\n",
    "    print(x, \"+\", y, \"=\", x+y)"
   ]
  },
  {
   "cell_type": "markdown",
   "id": "9186bfcf-3b6c-4fc6-ac18-5d04933f817e",
   "metadata": {
    "editable": true,
    "slideshow": {
     "slide_type": "slide"
    },
    "tags": []
   },
   "source": [
    "# Nested loops\n",
    "\n",
    "Some problems require that we run a loop at every iteration of an outer loop.\n",
    "\n",
    "Example: Multiplication table"
   ]
  },
  {
   "cell_type": "code",
   "execution_count": 27,
   "id": "ffea854e-6704-446a-8f61-a6755ac6e28b",
   "metadata": {
    "editable": true,
    "slideshow": {
     "slide_type": ""
    },
    "tags": []
   },
   "outputs": [
    {
     "name": "stdout",
     "output_type": "stream",
     "text": [
      "2 x 5 = 10\n",
      "2 x 6 = 12\n",
      "2 x 7 = 14\n",
      "2 x 8 = 16\n",
      "3 x 5 = 15\n",
      "3 x 6 = 18\n",
      "3 x 7 = 21\n",
      "3 x 8 = 24\n",
      "4 x 5 = 20\n",
      "4 x 6 = 24\n",
      "4 x 7 = 28\n",
      "4 x 8 = 32\n",
      "5 x 5 = 25\n",
      "5 x 6 = 30\n",
      "5 x 7 = 35\n",
      "5 x 8 = 40\n"
     ]
    }
   ],
   "source": [
    "for i in [2,3,4,5]:\n",
    "    for j in [5,6,7,8]:\n",
    "        print(i, \"x\", j, \"=\", i*j)"
   ]
  },
  {
   "cell_type": "markdown",
   "id": "6a415d45-7aee-4552-b055-1fb34cefe427",
   "metadata": {
    "editable": true,
    "slideshow": {
     "slide_type": "slide"
    },
    "tags": []
   },
   "source": [
    "## Example: All primes up to 100"
   ]
  },
  {
   "cell_type": "code",
   "execution_count": 41,
   "id": "c3c063a0-f9b8-48bc-b5f0-5818baece5b6",
   "metadata": {
    "editable": true,
    "slideshow": {
     "slide_type": ""
    },
    "tags": []
   },
   "outputs": [
    {
     "name": "stdout",
     "output_type": "stream",
     "text": [
      "2 3 5 7 11 13 17 19 23 29 31 37 41 43 47 53 59 61 67 71 73 79 83 89 97 "
     ]
    }
   ],
   "source": [
    "for n in range(2, 101):\n",
    "    isprime = True\n",
    "    i = 2\n",
    "    while i*i <= n:\n",
    "        if n%i == 0:\n",
    "            isprime = False\n",
    "            break # breaks only from the inner loop\n",
    "        i = i+1\n",
    "    if isprime:\n",
    "        print(n, end=\" \")"
   ]
  },
  {
   "cell_type": "markdown",
   "id": "f1cd2290-d4e1-4a51-a851-c583dbcd99f9",
   "metadata": {
    "editable": true,
    "slideshow": {
     "slide_type": "slide"
    },
    "tags": []
   },
   "source": [
    "## Example: Pythagorean triples\n",
    "\n",
    "A *Pythagorean triple* consists of three numbers $(a,b,c)$ that satisfy\n",
    "$$a^2 + b^2 = c^2$$\n",
    "\n",
    "You can see that these are the sides of right triangles, hence the name *Pythagorean*.\n",
    "\n",
    "List all Pythagorean triples where $a,b,c$ are integers between 1 and 100."
   ]
  },
  {
   "cell_type": "code",
   "execution_count": 37,
   "id": "90a37e50-4b92-4449-9b7d-f476fd7446d6",
   "metadata": {
    "editable": true,
    "slideshow": {
     "slide_type": ""
    },
    "tags": []
   },
   "outputs": [
    {
     "name": "stdout",
     "output_type": "stream",
     "text": [
      "3 4 5\n",
      "4 3 5\n",
      "5 12 13\n",
      "6 8 10\n",
      "7 24 25\n",
      "8 6 10\n",
      "8 15 17\n",
      "9 12 15\n",
      "9 40 41\n",
      "10 24 26\n",
      "11 60 61\n",
      "12 5 13\n",
      "12 9 15\n",
      "12 16 20\n",
      "12 35 37\n",
      "13 84 85\n",
      "14 48 50\n",
      "15 8 17\n",
      "15 20 25\n",
      "15 36 39\n",
      "16 12 20\n",
      "16 30 34\n",
      "16 63 65\n",
      "18 24 30\n",
      "18 80 82\n",
      "20 15 25\n",
      "20 21 29\n",
      "20 48 52\n",
      "21 20 29\n",
      "21 28 35\n",
      "21 72 75\n",
      "24 7 25\n",
      "24 10 26\n",
      "24 18 30\n",
      "24 32 40\n",
      "24 45 51\n",
      "24 70 74\n",
      "25 60 65\n",
      "27 36 45\n",
      "28 21 35\n",
      "28 45 53\n",
      "28 96 100\n",
      "30 16 34\n",
      "30 40 50\n",
      "30 72 78\n",
      "32 24 40\n",
      "32 60 68\n",
      "33 44 55\n",
      "33 56 65\n",
      "35 12 37\n",
      "35 84 91\n",
      "36 15 39\n",
      "36 27 45\n",
      "36 48 60\n",
      "36 77 85\n",
      "39 52 65\n",
      "39 80 89\n",
      "40 9 41\n",
      "40 30 50\n",
      "40 42 58\n",
      "40 75 85\n",
      "42 40 58\n",
      "42 56 70\n",
      "44 33 55\n",
      "45 24 51\n",
      "45 28 53\n",
      "45 60 75\n",
      "48 14 50\n",
      "48 20 52\n",
      "48 36 60\n",
      "48 55 73\n",
      "48 64 80\n",
      "51 68 85\n",
      "52 39 65\n",
      "54 72 90\n",
      "55 48 73\n",
      "56 33 65\n",
      "56 42 70\n",
      "57 76 95\n",
      "60 11 61\n",
      "60 25 65\n",
      "60 32 68\n",
      "60 45 75\n",
      "60 63 87\n",
      "60 80 100\n",
      "63 16 65\n",
      "63 60 87\n",
      "64 48 80\n",
      "65 72 97\n",
      "68 51 85\n",
      "70 24 74\n",
      "72 21 75\n",
      "72 30 78\n",
      "72 54 90\n",
      "72 65 97\n",
      "75 40 85\n",
      "76 57 95\n",
      "77 36 85\n",
      "80 18 82\n",
      "80 39 89\n",
      "80 60 100\n",
      "84 13 85\n",
      "84 35 91\n",
      "96 28 100\n"
     ]
    }
   ],
   "source": [
    "for a in range(1,101):\n",
    "    for b in range(1,101):\n",
    "        for c in range(1,101):\n",
    "            if a**2 + b**2 == c**2:\n",
    "                print(a,b,c)"
   ]
  }
 ],
 "metadata": {
  "kernelspec": {
   "display_name": "Python 3 (ipykernel)",
   "language": "python",
   "name": "python3"
  },
  "language_info": {
   "codemirror_mode": {
    "name": "ipython",
    "version": 3
   },
   "file_extension": ".py",
   "mimetype": "text/x-python",
   "name": "python",
   "nbconvert_exporter": "python",
   "pygments_lexer": "ipython3",
   "version": "3.13.3"
  }
 },
 "nbformat": 4,
 "nbformat_minor": 5
}
