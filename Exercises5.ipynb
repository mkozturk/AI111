{
 "cells": [
  {
   "cell_type": "markdown",
   "id": "e5fbcf41-8d2d-4c08-b46c-d2a862fb2d96",
   "metadata": {
    "editable": true,
    "slideshow": {
     "slide_type": ""
    },
    "tags": []
   },
   "source": [
    "# The secondary average\n",
    "\n",
    "Write a function `seconds_mean(L)` that returns the mean of the *second smallest* and the *second largest* value in the list `L`.\n",
    "\n",
    "Hint: Use `sorted()` to sort the list and from that take the second element and the second-from-last element."
   ]
  },
  {
   "cell_type": "code",
   "execution_count": 20,
   "id": "515ac2fb-de23-4339-84be-12cfcd2765c8",
   "metadata": {},
   "outputs": [
    {
     "name": "stdout",
     "output_type": "stream",
     "text": [
      "3.0\n",
      "2.5\n"
     ]
    }
   ],
   "source": [
    "def seconds_mean(L):\n",
    "    # ----\n",
    "    # your code here\n",
    "    # ----\n",
    "\n",
    "L = [1,4,2,7,-1,3,5]\n",
    "print(seconds_mean(L))\n",
    "\n",
    "L = [9,8,7,-3,-4,1,0,2]\n",
    "print(seconds_mean(L))"
   ]
  },
  {
   "cell_type": "markdown",
   "id": "c3e2b637-22b9-4a4e-847a-e4c263b55375",
   "metadata": {
    "editable": true,
    "slideshow": {
     "slide_type": ""
    },
    "tags": []
   },
   "source": [
    "# The midnight clock\n",
    "\n",
    "Time can be given as a tuple of hours, minutes, and seconds. For example, 13:05:32 can be represented as `(13, 5, 32)`. Let's call this a *time tuple*.\n",
    "\n",
    "The time 12:00:00 is exactly the half (0.5) of the day, 18:00:00 is 0.75 of the day, and so on.\n",
    "\n",
    "Suppose a list of time tuples are given. Write a list comprehension that generates the list of the *fractions of the day* at this hour.\n",
    "\n",
    "Hint: Find the number of seconds past midnight at this time, and divide it by the number of seconds in the day. Then apply this in a list comprehension."
   ]
  },
  {
   "cell_type": "code",
   "execution_count": 10,
   "id": "6f4c06c0-c22c-461a-b8a7-2a8f24d0629b",
   "metadata": {},
   "outputs": [
    {
     "data": {
      "text/plain": [
       "[0.34375, 0.5, 0.5455092592592593, 0.75, 0.999988425925926]"
      ]
     },
     "execution_count": 10,
     "metadata": {},
     "output_type": "execute_result"
    }
   ],
   "source": [
    "times = [(8,15,0), (12,0,0), (13,5,32), (18,0,0), (23,59,59)]\n",
    "[ ... for h,m,s in times]"
   ]
  },
  {
   "cell_type": "markdown",
   "id": "488a65ea-25c6-40df-b478-d3c580bca7e5",
   "metadata": {
    "editable": true,
    "slideshow": {
     "slide_type": ""
    },
    "tags": []
   },
   "source": [
    "# The median\n",
    "\n",
    "The *median* of a set of numbers is the middle value: Half of the values in the set is above the median, and half are below.\n",
    "\n",
    "To find the median of a list of numbers, sort the list first. If the list has an odd number of elements, the middle element is the median. If the list has an even number of elements, the mean of the middle two is the median.\n",
    "\n",
    "For example, the median of 1,3,4,6,9 is 4, while the median of 1,3,4,6,7,9 is (4+6)/2=5\n",
    "\n",
    "Write a function `median(L)` that returns the median of a list of numbers `L`.\n",
    "\n",
    "* First, create a sorted copy of the input list.\n",
    "* If the length of the list is odd, find the middle index and return the value at that index. For example, if there are 7 elements, the middle is at index (7-1)/2 = 3\n",
    "* If the length of the list is even, find the elements on the both sides of the middle and average. For example, if there are 6 elements, average the values at index 2 and 3.\n",
    "* You will need to use integer division to find the relevant indices."
   ]
  },
  {
   "cell_type": "code",
   "execution_count": 31,
   "id": "56b0a74e-885b-41c6-853c-35ca073c512b",
   "metadata": {},
   "outputs": [
    {
     "name": "stdout",
     "output_type": "stream",
     "text": [
      "4\n",
      "1.5\n"
     ]
    }
   ],
   "source": [
    "def median(L):\n",
    "    # ----\n",
    "    # your code here\n",
    "    # ----\n",
    "\n",
    "L = [1,3,2,6,4,72,612]\n",
    "print(median(L))\n",
    "\n",
    "L = [1,1,1,1,2,2,2,2]\n",
    "print(median(L))        "
   ]
  },
  {
   "cell_type": "markdown",
   "id": "609ce14a-5337-4a38-a606-fd4f6a48e0e4",
   "metadata": {
    "editable": true,
    "slideshow": {
     "slide_type": ""
    },
    "tags": []
   },
   "source": [
    "# Deduplication\n",
    "\n",
    "Write a function `remove_duplicates(L)` that takes a list `L` and returns a new list with all duplicates removed from L.\n",
    "\n",
    "Hint: Start with an empty list. Use the `in` keyword to check if an element of `L` is already on the list. If not, append the element to it."
   ]
  },
  {
   "cell_type": "code",
   "execution_count": null,
   "id": "7e585031-0a19-4b15-ad04-aed4c56cb535",
   "metadata": {},
   "outputs": [],
   "source": [
    "def remove_duplicates(L):\n",
    "    newlist = []\n",
    "    # ----\n",
    "    # your code here\n",
    "    # ----\n",
    "    return newlist"
   ]
  },
  {
   "cell_type": "code",
   "execution_count": 21,
   "id": "b9864d6a-ab11-4ffd-af35-1ae387980dd7",
   "metadata": {
    "editable": true,
    "slideshow": {
     "slide_type": ""
    },
    "tags": []
   },
   "outputs": [
    {
     "data": {
      "text/plain": [
       "[1, 2, 3, 4]"
      ]
     },
     "execution_count": 21,
     "metadata": {},
     "output_type": "execute_result"
    }
   ],
   "source": [
    "L = [1,2,1,1,3,4,2,2]\n",
    "remove_duplicates(L)"
   ]
  },
  {
   "cell_type": "code",
   "execution_count": 22,
   "id": "ab9fdb23-7c80-4542-8f4e-cadbee5b4e2e",
   "metadata": {},
   "outputs": [
    {
     "data": {
      "text/plain": [
       "[0, 'abc', 'cde', 'zz', 1]"
      ]
     },
     "execution_count": 22,
     "metadata": {},
     "output_type": "execute_result"
    }
   ],
   "source": [
    "L = [0,0,\"abc\", \"cde\",\"zz\",\"abc\",\"zz\",1,1]\n",
    "remove_duplicates(L)"
   ]
  },
  {
   "cell_type": "markdown",
   "id": "9fabcc97-a144-4efa-b01b-ede59a46e132",
   "metadata": {
    "editable": true,
    "slideshow": {
     "slide_type": ""
    },
    "tags": []
   },
   "source": [
    "# Flat lists\n",
    "\n",
    "Given a nested list `L` (a list whose elements are lists), write a function `flatten(L)` that returns a flattened list. The result should have a single, unnested list with all lists combined into one.\n",
    "\n",
    "Hint: Start with an empty list. Use the `extend()` method to grow that list as needed."
   ]
  },
  {
   "cell_type": "code",
   "execution_count": 33,
   "id": "6b5952ad-7c2f-4660-814b-816abe331f6b",
   "metadata": {},
   "outputs": [
    {
     "name": "stdout",
     "output_type": "stream",
     "text": [
      "['a', 'b', 1, 2, 3]\n",
      "[1, 2, 3, 4, 5, 6, 7, 3, 1, 4, 1, 9]\n"
     ]
    }
   ],
   "source": [
    "def flatten(L):\n",
    "    result = []\n",
    "    # ------\n",
    "    # your code here\n",
    "    # ------\n",
    "    return result\n",
    "\n",
    "L = [[\"a\",\"b\"], [1,2,3]]\n",
    "print(flatten(L))\n",
    "L = [[1,2],[3,4],[5,6,7], [3,1,4,1], [9]]\n",
    "print(flatten(L))"
   ]
  },
  {
   "cell_type": "markdown",
   "id": "5ae39483-8fb7-429e-965b-9e0f137b0968",
   "metadata": {
    "editable": true,
    "slideshow": {
     "slide_type": ""
    },
    "tags": []
   },
   "source": [
    "# Think positively\n",
    "\n",
    "Given a list `L`, write a list comprehension that gives the *indices* of negative elements of `L`.\n",
    "\n",
    "Use the `enumerate()` function and a filtering condition in the list comprehension."
   ]
  },
  {
   "cell_type": "code",
   "execution_count": 54,
   "id": "2542da4c-d839-44c0-bcbf-05ff6a6ca609",
   "metadata": {},
   "outputs": [
    {
     "data": {
      "text/plain": [
       "[0, 4]"
      ]
     },
     "execution_count": 54,
     "metadata": {},
     "output_type": "execute_result"
    }
   ],
   "source": [
    "L = [-1, 0, 1, 2, -2, 1]\n",
    "# [ your code here ]"
   ]
  },
  {
   "cell_type": "markdown",
   "id": "bad8484f-d292-46e8-ac46-e4cbbb46f0cc",
   "metadata": {
    "editable": true,
    "slideshow": {
     "slide_type": ""
    },
    "tags": []
   },
   "source": [
    "# Find them all!\n",
    "\n",
    "Write a function `findall(L, x)` which returns a list consisting of indices of the elements of `L` which are equal to `x`.\n",
    "\n",
    "If no element of `L` is equal to `x`, the function should return an empty list `[]`. \n",
    "\n",
    "Use a list comprehension with a filtering condition and the `enumerate` function."
   ]
  },
  {
   "cell_type": "code",
   "execution_count": 53,
   "id": "5c0db136-ca70-4cd6-947f-eed442ea8cf4",
   "metadata": {},
   "outputs": [
    {
     "name": "stdout",
     "output_type": "stream",
     "text": [
      "[0, 7]\n",
      "[1]\n",
      "[8, 11]\n",
      "[]\n"
     ]
    }
   ],
   "source": [
    "def findall(L, x):\n",
    "    # ------\n",
    "    # your code here\n",
    "    # ------\n",
    "\n",
    "L = [-1, 0, 1, 2, -2, 1, 2, -1, \"ab\", \"b\", \"b\", \"ab\"]\n",
    "print(findall(L, -1))\n",
    "print(findall(L, 0))\n",
    "print(findall(L,\"ab\"))\n",
    "print(findall(L, \"abc\"))\n",
    "\n"
   ]
  },
  {
   "cell_type": "markdown",
   "id": "53cbc1ba-30aa-4408-9567-d1cfb0539669",
   "metadata": {
    "editable": true,
    "slideshow": {
     "slide_type": ""
    },
    "tags": []
   },
   "source": [
    "# Daily Exercise Summary\n",
    "\n",
    "You have step counts for each day of the week and want to create a simple summary.\n",
    "\n",
    "Write a function `summarize_steps(days, step_counts, daily_goal)` such that:\n",
    "* `days` is a list of day names\n",
    "* `step_counts` is a list of step counts for each day\n",
    "* `daily_goal` is the target steps per day (optional, default 10000)\n",
    "\n",
    "The function should:\n",
    "* Use `zip()` to pair days with step counts\n",
    "* Count how many days met the goal\n",
    "* Calculate the total steps for the week\n",
    "* Calculate the average steps per day\n",
    "* Return a dictionary with keys `\"days_met_goal\"`, `\"total_steps\"`, `\"average_steps\"`, and `\"daily_breakdown\"` (list of tuples)\n",
    "* Provide a docstring, as shown below with the `help(summarize_steps)` call.\n",
    "\n",
    "Example Usage:"
   ]
  },
  {
   "cell_type": "code",
   "execution_count": 2,
   "id": "3a0a0e4b-a3ea-47c1-8e04-4b92f8a909ec",
   "metadata": {},
   "outputs": [
    {
     "data": {
      "text/plain": [
       "{'days_met_goal': 4,\n",
       " 'total_steps': 72200,\n",
       " 'average_steps': 10314.285714285714,\n",
       " 'daily_breakdown': [('Monday', 8500),\n",
       "  ('Tuesday', 12000),\n",
       "  ('Wednesday', 9800),\n",
       "  ('Thursday', 11200),\n",
       "  ('Friday', 10500),\n",
       "  ('Saturday', 13000),\n",
       "  ('Sunday', 7200)]}"
      ]
     },
     "execution_count": 2,
     "metadata": {},
     "output_type": "execute_result"
    }
   ],
   "source": [
    "def summarize_steps(days, step_counts, daily_goal):\n",
    "    # ----\n",
    "    # your code here\n",
    "    # ----\n",
    "    return summary\n",
    "\n",
    "days = [\"Monday\", \"Tuesday\", \"Wednesday\", \"Thursday\", \"Friday\", \"Saturday\", \"Sunday\"]\n",
    "steps = [8500, 12000, 9800, 11200, 10500, 13000, 7200]\n",
    "summarize_steps(days, steps)"
   ]
  },
  {
   "cell_type": "code",
   "execution_count": 3,
   "id": "d8e6bba2-df36-418a-bb7e-38d8abf64257",
   "metadata": {},
   "outputs": [
    {
     "data": {
      "text/plain": [
       "{'days_met_goal': 6,\n",
       " 'total_steps': 72200,\n",
       " 'average_steps': 10314.285714285714,\n",
       " 'daily_breakdown': [('Monday', 8500),\n",
       "  ('Tuesday', 12000),\n",
       "  ('Wednesday', 9800),\n",
       "  ('Thursday', 11200),\n",
       "  ('Friday', 10500),\n",
       "  ('Saturday', 13000),\n",
       "  ('Sunday', 7200)]}"
      ]
     },
     "execution_count": 3,
     "metadata": {},
     "output_type": "execute_result"
    }
   ],
   "source": [
    "summarize_steps(days, steps, daily_goal=8000)"
   ]
  },
  {
   "cell_type": "code",
   "execution_count": 4,
   "id": "d87d9f1b-99a2-40c1-81ed-842e013c9df1",
   "metadata": {
    "editable": true,
    "slideshow": {
     "slide_type": ""
    },
    "tags": []
   },
   "outputs": [
    {
     "name": "stdout",
     "output_type": "stream",
     "text": [
      "Help on function summarize_steps in module __main__:\n",
      "\n",
      "summarize_steps(days, step_counts, daily_goal=10000)\n",
      "    Summarizes daily step counts and compares against a goal.\n",
      "\n",
      "    Parameters:\n",
      "    - days: list of day names\n",
      "    - step_counts: list of step counts for each day\n",
      "    - daily_goal: target steps per day (default 10000)\n",
      "\n",
      "    Returns:\n",
      "    - dictionary with summary statistics and daily breakdown\n",
      "\n"
     ]
    }
   ],
   "source": [
    "help(summarize_steps)"
   ]
  }
 ],
 "metadata": {
  "kernelspec": {
   "display_name": "Python 3 (ipykernel)",
   "language": "python",
   "name": "python3"
  },
  "language_info": {
   "codemirror_mode": {
    "name": "ipython",
    "version": 3
   },
   "file_extension": ".py",
   "mimetype": "text/x-python",
   "name": "python",
   "nbconvert_exporter": "python",
   "pygments_lexer": "ipython3",
   "version": "3.13.3"
  }
 },
 "nbformat": 4,
 "nbformat_minor": 5
}
