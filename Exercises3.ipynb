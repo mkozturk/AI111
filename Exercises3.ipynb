{
 "cells": [
  {
   "cell_type": "markdown",
   "id": "df960d48-8749-4848-aaaa-22bbe4a84727",
   "metadata": {
    "editable": true,
    "slideshow": {
     "slide_type": ""
    },
    "tags": []
   },
   "source": [
    "# The patient investor\n",
    "\n",
    "You break your piggy bank and deposit your money to the bank. This is a peculiar bank that promises a fixed yearly interest rate for a thousand years.\n",
    "\n",
    "Given your initial deposit and the interest rate, calculate how many years must pass until your balance exceeds 1,000,000.00 (One million) ₺."
   ]
  },
  {
   "cell_type": "code",
   "execution_count": 39,
   "id": "4afaa977-0483-4bbc-8ab7-1ffeb408023f",
   "metadata": {
    "editable": true,
    "slideshow": {
     "slide_type": ""
    },
    "tags": []
   },
   "outputs": [
    {
     "name": "stdout",
     "output_type": "stream",
     "text": [
      "After 73 years your balance will be 1051153.199500059 ₺\n"
     ]
    }
   ],
   "source": [
    "amount = 1000\n",
    "interest_rate = 0.1\n",
    "target_value = 1000000\n",
    "# --- your code here ---\n",
    "\n",
    "# -------\n",
    "\n",
    "print(\"After\",year,\"years your balance will be\", amount, \"₺\")"
   ]
  },
  {
   "cell_type": "markdown",
   "id": "12092973-29cd-4c42-bbb5-d7b9ee65ffd0",
   "metadata": {
    "editable": true,
    "slideshow": {
     "slide_type": "slide"
    },
    "tags": []
   },
   "source": [
    "# Seconds matter"
   ]
  },
  {
   "cell_type": "markdown",
   "id": "b34cd11a-d47a-4b79-a051-62ffbaaac59a",
   "metadata": {
    "editable": true,
    "slideshow": {
     "slide_type": ""
    },
    "tags": []
   },
   "source": [
    "Given a character `c` and a string `s`, write a program to find where `c` occurs the *second* time in `s`.\n",
    "\n",
    "If the character does not exist two times in `s`, print `\"Not found\"`.\n",
    "\n",
    "Examples:"
   ]
  },
  {
   "cell_type": "code",
   "execution_count": 89,
   "id": "87f23893-6286-43d6-b68b-0fcc6b5d4887",
   "metadata": {
    "editable": true,
    "slideshow": {
     "slide_type": ""
    },
    "tags": []
   },
   "outputs": [
    {
     "name": "stdout",
     "output_type": "stream",
     "text": [
      "Second occurrence of a found at index 3\n"
     ]
    }
   ],
   "source": [
    "c = \"a\"\n",
    "s = \"abracadabra\"\n",
    "\n",
    "# --- your code here\n",
    "       "
   ]
  },
  {
   "cell_type": "code",
   "execution_count": 90,
   "id": "4f4fc76c-d6cb-4b90-9be6-f5f3b1ceea71",
   "metadata": {
    "editable": true,
    "slideshow": {
     "slide_type": ""
    },
    "tags": []
   },
   "outputs": [
    {
     "name": "stdout",
     "output_type": "stream",
     "text": [
      "Second occurrence of r found at index 9\n"
     ]
    }
   ],
   "source": [
    "c = \"r\"\n",
    "s = \"abracadabra\"\n",
    "\n",
    "# --- your code here\n",
    "       "
   ]
  },
  {
   "cell_type": "markdown",
   "id": "6bb891a3-8e03-4695-a281-8c0547ea0a68",
   "metadata": {
    "editable": true,
    "slideshow": {
     "slide_type": ""
    },
    "tags": [],
    "vscode": {
     "languageId": "plaintext"
    }
   },
   "source": [
    "# Gold digging\n",
    "\n",
    "You bought some stock from a particular company some time past, but you've forgotten how much you've invested.\n",
    "\n",
    "You download the stock's returns at every month, and store this data in a list.\n",
    "\n",
    "Knowing the current value of your stocks and monthly returns, write a program that prints your **initial investment**.\n",
    "\n",
    "Example:"
   ]
  },
  {
   "cell_type": "code",
   "execution_count": 5,
   "id": "103aee7b-889e-40e1-bbc8-91155b8983b6",
   "metadata": {
    "editable": true,
    "slideshow": {
     "slide_type": ""
    },
    "tags": []
   },
   "outputs": [
    {
     "name": "stdout",
     "output_type": "stream",
     "text": [
      "Your initial investment was: 6186.542633491018\n"
     ]
    }
   ],
   "source": [
    "current_value = 10000\n",
    "returns = [0.1, 0.05, 0.07, 0.11, 0.03, 0.04, 0.1]\n",
    "\n",
    "# --- your code here ---\n",
    "\n",
    "# ------\n",
    "\n",
    "print(\"Your initial investment was:\", initial_value)\n"
   ]
  },
  {
   "cell_type": "markdown",
   "id": "9bf548a9-9fd9-4801-be44-9611163dd247",
   "metadata": {
    "editable": true,
    "slideshow": {
     "slide_type": ""
    },
    "tags": []
   },
   "source": [
    "# Fibonacci series\n",
    "\n",
    "The *Fibonacci series* is a sequence of numbers, defined as follows:\n",
    "* The first two numbers are 1 and 1\n",
    "* Every number in the sequence is the sum of the previous two numbers.\n",
    "\n",
    "So the sequence goes as 1, 1, 2, 3, 5, 8, 13, 21, 34, 55, ...\n",
    "\n",
    "Write a program that prints the Fibonacci sequence up to 1000."
   ]
  },
  {
   "cell_type": "markdown",
   "id": "fd5d0f12-ad47-4b07-b22a-8888f2739e87",
   "metadata": {
    "editable": true,
    "slideshow": {
     "slide_type": ""
    },
    "tags": []
   },
   "source": [
    "# The hardworking ant - 1\n",
    "An ant is moving in a straight line out of the nest. At every step she records what she finds: A dot \".\" for empty space, or an \"o\" for a grain of food.\n",
    "\n",
    "After the journey of discovery, she must return to the nest and tell her sisters the location of the nearest food grain. However, she is not good at counting. She asks for your help.\n",
    "\n",
    "Given a string of \".\" and \"o\" characters, write a program that prints the index of the first occurrence of \"o\"."
   ]
  },
  {
   "cell_type": "code",
   "execution_count": 11,
   "id": "7b956e5c-b181-49b2-b263-9db8733a619a",
   "metadata": {
    "editable": true,
    "slideshow": {
     "slide_type": ""
    },
    "tags": []
   },
   "outputs": [
    {
     "name": "stdout",
     "output_type": "stream",
     "text": [
      "2\n"
     ]
    }
   ],
   "source": [
    "s = \"..oo....ooo...o...o.\"\n",
    "\n",
    "# --- your code here\n",
    "\n",
    "# ---"
   ]
  },
  {
   "cell_type": "markdown",
   "id": "82f30e29-a13e-4b01-aae7-e80234e733c1",
   "metadata": {
    "editable": true,
    "slideshow": {
     "slide_type": ""
    },
    "tags": []
   },
   "source": [
    "# The hardworking ant - 2\n",
    "\n",
    "Sister ants at the nest need more information: In addition to the distance of the grain, they need to know how many grains are adjacent to the first one, so that they will not waste effort for a single grain.\n",
    "\n",
    "Your ant friend, desperate, turns to you for help.\n",
    "\n",
    "Write a program that prints the location of the first grain, and the number of grains that are stacked together without any gap between them.\n",
    "\n",
    "Example:"
   ]
  },
  {
   "cell_type": "code",
   "execution_count": 20,
   "id": "1ff3eaa7-9c03-4378-b29d-5f536355865f",
   "metadata": {
    "editable": true,
    "slideshow": {
     "slide_type": ""
    },
    "tags": []
   },
   "outputs": [
    {
     "name": "stdout",
     "output_type": "stream",
     "text": [
      "2 4\n"
     ]
    }
   ],
   "source": [
    "s = \"..oooo....ooooo...o...o.\"\n",
    "\n",
    "# ---- your code here\n",
    "\n",
    "\n",
    "# ----\n",
    "print(start_loc, grain_count)"
   ]
  },
  {
   "cell_type": "markdown",
   "id": "3121734c-66e4-4598-be1f-e4c31408d8bd",
   "metadata": {
    "editable": true,
    "slideshow": {
     "slide_type": ""
    },
    "tags": []
   },
   "source": [
    "# Bake the pi"
   ]
  },
  {
   "cell_type": "markdown",
   "id": "f2bdd03f-ecc3-4485-a0f7-134a10a49ee3",
   "metadata": {},
   "source": [
    "Indian mathematician Madhava discovered the following series approximation for $\\pi$:\n",
    "\n",
    "$$\\frac{\\pi}{4} = 1 - \\frac{1}{3} + \\frac{1}{5} - \\frac{1}{7} + \\frac{1}{9} - \\cdots$$\n",
    "\n",
    "where the dots (...) indicate that the sum continues infinitely with the same pattern.\n",
    "\n",
    "(a) Write a program that calculates $\\pi$ using a finite number of terms in this series.\n",
    "\n",
    "Example: Using 100 terms"
   ]
  },
  {
   "cell_type": "code",
   "execution_count": 60,
   "id": "5c637f56-fee1-470c-b44e-dfb4e00a7162",
   "metadata": {
    "editable": true,
    "slideshow": {
     "slide_type": ""
    },
    "tags": []
   },
   "outputs": [
    {
     "name": "stdout",
     "output_type": "stream",
     "text": [
      "3.1315929035585537\n"
     ]
    }
   ],
   "source": [
    "nterms = 100\n",
    "\n",
    "# --- your code here\n",
    "\n",
    "# ----\n"
   ]
  },
  {
   "cell_type": "markdown",
   "id": "7f39e42d-3cb0-4736-b891-f6d48245f68d",
   "metadata": {},
   "source": [
    "Using 1000 terms:"
   ]
  },
  {
   "cell_type": "code",
   "execution_count": 61,
   "id": "b40dae5c-41d9-4b31-99f3-877709178cb8",
   "metadata": {
    "editable": true,
    "slideshow": {
     "slide_type": ""
    },
    "tags": []
   },
   "outputs": [
    {
     "name": "stdout",
     "output_type": "stream",
     "text": [
      "3.140592653839794\n"
     ]
    }
   ],
   "source": [
    "nterms = 1000\n",
    "\n",
    "# --- your code here\n",
    "\n",
    "\n",
    "# ----\n"
   ]
  },
  {
   "cell_type": "markdown",
   "id": "15cc3f62-cb0d-4544-b091-fd6641a119c3",
   "metadata": {},
   "source": [
    "(b) Write a program that prints the number of terms required to get the approximation correct up to 6 digits, i.e., the difference between your approximation and the correct value must be less than one in a million. Use $\\pi=3.14159265358979323846$ as the true value."
   ]
  },
  {
   "cell_type": "code",
   "execution_count": 79,
   "id": "095885bc-85f2-47c3-bb8d-2a65888ad311",
   "metadata": {
    "editable": true,
    "slideshow": {
     "slide_type": ""
    },
    "tags": []
   },
   "outputs": [
    {
     "name": "stdout",
     "output_type": "stream",
     "text": [
      "1000001 3.1415936535887745\n"
     ]
    }
   ],
   "source": [
    "# ---- your code here\n"
   ]
  },
  {
   "cell_type": "markdown",
   "id": "6c7e9483",
   "metadata": {
    "editable": true,
    "slideshow": {
     "slide_type": ""
    },
    "tags": []
   },
   "source": [
    "# The hardworking ant - 3\n",
    "\n",
    "The queen ant is not satisfied. She wants the worker to analyze her entire record to find the location of the longest stack of grains, so that the largest number of grains can be collected in the shortest time.\n",
    "\n",
    "Give this poor worker a piece of sugar, and write a program that prints the location and size of the longest sequence of grains.\n",
    "\n",
    "If there are more than one stack of grains with the same largest size, print the location of the nearest one.\n",
    "\n",
    "If there are no grains on the path, print `\"No grains found\"`\n",
    "\n",
    "Examples:"
   ]
  },
  {
   "cell_type": "code",
   "execution_count": 33,
   "id": "8a7857de-817e-4a83-9003-ded75eb352e3",
   "metadata": {
    "editable": true,
    "slideshow": {
     "slide_type": ""
    },
    "tags": []
   },
   "outputs": [
    {
     "name": "stdout",
     "output_type": "stream",
     "text": [
      "5 6\n"
     ]
    }
   ],
   "source": [
    "s = \"oo...oooooo..o.o.ooo\"\n",
    "\n",
    "# ---- your code here\n",
    "\n",
    "# ----"
   ]
  },
  {
   "cell_type": "code",
   "execution_count": 34,
   "id": "4987400d-7581-46b7-b126-c204e9dd73cc",
   "metadata": {
    "editable": true,
    "slideshow": {
     "slide_type": ""
    },
    "tags": []
   },
   "outputs": [
    {
     "name": "stdout",
     "output_type": "stream",
     "text": [
      "3 5\n"
     ]
    }
   ],
   "source": [
    "s = \"...ooooo..ooooo..o.o\"\n",
    "\n",
    "# ---- your code here\n",
    "\n",
    "# ----\n"
   ]
  },
  {
   "cell_type": "code",
   "execution_count": 35,
   "id": "3348f37e-ca79-47be-bc55-3225f0c0fc80",
   "metadata": {
    "editable": true,
    "slideshow": {
     "slide_type": ""
    },
    "tags": []
   },
   "outputs": [
    {
     "name": "stdout",
     "output_type": "stream",
     "text": [
      "No grains found\n"
     ]
    }
   ],
   "source": [
    "s = \".......\"\n",
    "\n",
    "# ---- your code here\n",
    "\n",
    "# ----\n"
   ]
  },
  {
   "cell_type": "markdown",
   "id": "2d96bf22-7c98-45fa-860f-9196732390f4",
   "metadata": {
    "editable": true,
    "slideshow": {
     "slide_type": ""
    },
    "tags": []
   },
   "source": [
    "# Retirement in Grand Fenwick\n",
    "\n",
    "The Duchy of Grand Fenwick is a tiny country in Central Europe. Its capital, Fenwick, is its only city. Young people come from the countryside to the capital city for education or for jobs. On the other hand, elderly people like to retire to the country for peace and for the lower cost of living.\n",
    "\n",
    "The duchess Gloriana XII is concerned that, in the long run, everybody will retire away and there will be nobody left in the city to work. She asks you to calculate a projection of populations in the city and the countryside.\n",
    "\n",
    "You are given the following information:\n",
    "* Currently, the city population is 10000 and the countryside population is 5000.\n",
    "* The yearly growth rate of population in the city is 1%\n",
    "* The yearly growth rate of population in the countryside is 1.5%\n",
    "* Every year, 8% of the country population migrates to the city.\n",
    "* Every year, 5% of the city population migrates to the countryside.\n",
    "\n",
    "Write a program that prints the population (nearest integer) of both the city and the countryside every year for 50 years."
   ]
  },
  {
   "cell_type": "markdown",
   "id": "9cd452cc-d9a5-4b91-9dbb-e504294504aa",
   "metadata": {
    "editable": true,
    "slideshow": {
     "slide_type": ""
    },
    "tags": []
   },
   "source": [
    "Example (showing only the first 5 years):"
   ]
  },
  {
   "cell_type": "code",
   "execution_count": 52,
   "id": "75ae14f5-d02f-4cc9-9a65-9516f641435d",
   "metadata": {
    "editable": true,
    "slideshow": {
     "slide_type": ""
    },
    "tags": []
   },
   "outputs": [
    {
     "name": "stdout",
     "output_type": "stream",
     "text": [
      "Year 1 : city = 10000 country = 5175\n",
      "Year 2 : city = 10014 country = 5339\n",
      "Year 3 : city = 10041 country = 5492\n",
      "Year 4 : city = 10078 country = 5637\n",
      "Year 5 : city = 10126 country = 5775\n"
     ]
    }
   ],
   "source": [
    "city_pop = 10000\n",
    "country_pop = 5000\n",
    "city_growth = 0.01\n",
    "country_growth = 0.015\n",
    "country_to_city = 0.08\n",
    "city_to_country = 0.05\n",
    "\n",
    "# --- your code here\n",
    "\n",
    "# ----"
   ]
  }
 ],
 "metadata": {
  "kernelspec": {
   "display_name": "Python 3 (ipykernel)",
   "language": "python",
   "name": "python3"
  },
  "language_info": {
   "codemirror_mode": {
    "name": "ipython",
    "version": 3
   },
   "file_extension": ".py",
   "mimetype": "text/x-python",
   "name": "python",
   "nbconvert_exporter": "python",
   "pygments_lexer": "ipython3",
   "version": "3.13.3"
  }
 },
 "nbformat": 4,
 "nbformat_minor": 5
}
