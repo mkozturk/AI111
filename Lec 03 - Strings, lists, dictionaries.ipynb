{
 "cells": [
  {
   "cell_type": "markdown",
   "id": "40c64df0-8afa-4120-9f6e-49023e3d2c3a",
   "metadata": {
    "editable": true,
    "slideshow": {
     "slide_type": "slide"
    },
    "tags": []
   },
   "source": [
    "# Objects\n",
    "* An **object** stores some data, and some computing rules (\"methods\") with it.\n",
    "* An integer object stores the numeric value, and how the arithmetic should be done, how numbers should be compared, etc.\n",
    "* Everything in Python is an object: Numbers, lists, functions, ..."
   ]
  },
  {
   "cell_type": "markdown",
   "id": "748fbc2e-2e2f-458d-a2f8-69e751118ae6",
   "metadata": {
    "editable": true,
    "slideshow": {
     "slide_type": "slide"
    },
    "tags": []
   },
   "source": [
    "# Built-in data structures\n",
    "\n",
    "Sequential objects:\n",
    "* Strings `\"abcde_123\"`\n",
    "* Lists `[1, \"abc\", 2]`\n",
    "* Tuples `(1, \"abc\", 2)`\n",
    "\n",
    "Non-sequential objects:\n",
    "* Dictionaries `{\"name\": \"Deniz\", \"age\": 18}`\n",
    "* Sets: `{1, (2,3), \"abc\"}`"
   ]
  },
  {
   "cell_type": "markdown",
   "id": "7bf99d3a-b3d3-486d-acbb-bf9eeaab8a78",
   "metadata": {
    "editable": true,
    "slideshow": {
     "slide_type": "slide"
    },
    "tags": []
   },
   "source": [
    "# Strings\n",
    "* A string is a sequence of characters (letters, digits, punctuation,...)\n",
    "* An example of *sequential objects*, such as lists or tuples.\n",
    "* Can be defined with single quotes or double quotes."
   ]
  },
  {
   "cell_type": "code",
   "execution_count": 1,
   "id": "38f698a8-e741-41bb-9a76-037c03f78923",
   "metadata": {
    "editable": true,
    "slideshow": {
     "slide_type": ""
    },
    "tags": []
   },
   "outputs": [
    {
     "name": "stdout",
     "output_type": "stream",
     "text": [
      "Albert Einstein\n"
     ]
    }
   ],
   "source": [
    "firstname = 'Albert'   # single quotes\n",
    "lastname = \"Einstein\"  # double quotes\n",
    "print(firstname, lastname)"
   ]
  },
  {
   "cell_type": "markdown",
   "id": "ee6dcc43-ec85-4540-9b58-8910eef16812",
   "metadata": {
    "editable": true,
    "slideshow": {
     "slide_type": ""
    },
    "tags": []
   },
   "source": [
    "Strings can be nested by using two different types of quotes."
   ]
  },
  {
   "cell_type": "code",
   "execution_count": 2,
   "id": "f30140f8-320d-4173-ba2d-e304ffed44a1",
   "metadata": {
    "editable": true,
    "slideshow": {
     "slide_type": ""
    },
    "tags": []
   },
   "outputs": [
    {
     "name": "stdout",
     "output_type": "stream",
     "text": [
      "She said, 'Thanks!'\n"
     ]
    }
   ],
   "source": [
    "s = \"She said, 'Thanks!'\"\n",
    "print(s)"
   ]
  },
  {
   "cell_type": "markdown",
   "id": "015caea0-d453-448f-991d-1ca2a0ceb835",
   "metadata": {
    "editable": true,
    "slideshow": {
     "slide_type": "slide"
    },
    "tags": []
   },
   "source": [
    "## String with triple quotes"
   ]
  },
  {
   "cell_type": "markdown",
   "id": "4a283427-e259-4433-8cc3-31a2af282021",
   "metadata": {
    "editable": true,
    "slideshow": {
     "slide_type": ""
    },
    "tags": []
   },
   "source": [
    "If you need more elaborate handling, _triple quotes_ keep the characters verbatim, without any interpretation."
   ]
  },
  {
   "cell_type": "code",
   "execution_count": 3,
   "id": "0f8d4e4e-d540-4b65-8b8c-277b40cff2f6",
   "metadata": {
    "editable": true,
    "slideshow": {
     "slide_type": ""
    },
    "tags": []
   },
   "outputs": [
    {
     "data": {
      "text/plain": [
       "'She said, \\'Thanks, but my mom said \"Don\\'t be late\"\\''"
      ]
     },
     "execution_count": 3,
     "metadata": {},
     "output_type": "execute_result"
    }
   ],
   "source": [
    "\"\"\"She said, 'Thanks, but my mom said \"Don't be late\"'\"\"\""
   ]
  },
  {
   "cell_type": "markdown",
   "id": "067d9313-fa35-44a5-9fed-2f8a1c78256f",
   "metadata": {
    "editable": true,
    "slideshow": {
     "slide_type": ""
    },
    "tags": []
   },
   "source": [
    "Triple quotes can also be used to create a long string that spans multiple lines."
   ]
  },
  {
   "cell_type": "code",
   "execution_count": 4,
   "id": "c4551176-a969-4c5b-9809-6e643d91cfbe",
   "metadata": {
    "editable": true,
    "slideshow": {
     "slide_type": ""
    },
    "tags": []
   },
   "outputs": [],
   "source": [
    "text = \"\"\"Lorem ipsum dolor sit amet, consectetur adipiscing elit.\n",
    "Pellentesque dolor orci, tincidunt et fermentum eu,\n",
    "porta id diam. Fusce eget ex hendrerit, sagittis magna vitae,\n",
    "venenatis diam.\"\"\""
   ]
  },
  {
   "cell_type": "markdown",
   "id": "eac2ed1d-a0be-454c-937e-72f07d8c9e34",
   "metadata": {
    "editable": true,
    "slideshow": {
     "slide_type": "slide"
    },
    "tags": []
   },
   "source": [
    "## String concatenation and repetition"
   ]
  },
  {
   "cell_type": "markdown",
   "id": "74d15415-372c-4d1c-bd23-990a57499652",
   "metadata": {
    "editable": true,
    "slideshow": {
     "slide_type": ""
    },
    "tags": []
   },
   "source": [
    "* The `+` operator can be used to concatenate strings.\n",
    "* The `*` operator can be used to repeat a string."
   ]
  },
  {
   "cell_type": "code",
   "execution_count": 5,
   "id": "04a651e1-863c-469f-8ff2-3a0ef64df95e",
   "metadata": {
    "editable": true,
    "slideshow": {
     "slide_type": ""
    },
    "tags": []
   },
   "outputs": [
    {
     "data": {
      "text/plain": [
       "'HelloWorld'"
      ]
     },
     "execution_count": 5,
     "metadata": {},
     "output_type": "execute_result"
    }
   ],
   "source": [
    "s1 = \"Hello\"\n",
    "s2 = \"World\"\n",
    "\n",
    "s1 + s2"
   ]
  },
  {
   "cell_type": "code",
   "execution_count": 6,
   "id": "e0139bbe-99bc-449e-ba39-16769357f6eb",
   "metadata": {
    "editable": true,
    "slideshow": {
     "slide_type": ""
    },
    "tags": []
   },
   "outputs": [
    {
     "data": {
      "text/plain": [
       "'HelloHelloHelloHelloHello'"
      ]
     },
     "execution_count": 6,
     "metadata": {},
     "output_type": "execute_result"
    }
   ],
   "source": [
    "s1 * 5"
   ]
  },
  {
   "cell_type": "markdown",
   "id": "03f76315-7393-416f-8682-fdb9694f4f0d",
   "metadata": {
    "editable": true,
    "slideshow": {
     "slide_type": "slide"
    },
    "tags": []
   },
   "source": [
    "## The length of a string"
   ]
  },
  {
   "cell_type": "markdown",
   "id": "81047800-deaa-4c8f-b472-0cb295a2ff6c",
   "metadata": {
    "editable": true,
    "slideshow": {
     "slide_type": ""
    },
    "tags": []
   },
   "source": [
    "The `len()` function returns the number of characters in a string"
   ]
  },
  {
   "cell_type": "code",
   "execution_count": 7,
   "id": "a491b53e-ebb5-42eb-995d-d09652a2ad66",
   "metadata": {
    "editable": true,
    "slideshow": {
     "slide_type": ""
    },
    "tags": []
   },
   "outputs": [
    {
     "data": {
      "text/plain": [
       "11"
      ]
     },
     "execution_count": 7,
     "metadata": {},
     "output_type": "execute_result"
    }
   ],
   "source": [
    "len(\"Hello World\")"
   ]
  },
  {
   "cell_type": "markdown",
   "id": "893d7c5a-283f-45a2-8c66-ab9fab80c8c0",
   "metadata": {
    "editable": true,
    "slideshow": {
     "slide_type": "slide"
    },
    "tags": []
   },
   "source": [
    "## Convert string to number"
   ]
  },
  {
   "cell_type": "markdown",
   "id": "1b3584c2-fdcf-4482-8b46-9de5fcdd9cfc",
   "metadata": {
    "editable": true,
    "slideshow": {
     "slide_type": "slide"
    },
    "tags": []
   },
   "source": [
    "A string containing digits is *not* considered a number."
   ]
  },
  {
   "cell_type": "code",
   "execution_count": 8,
   "id": "531995e4-3869-4d27-ba7d-e126cbd81120",
   "metadata": {
    "editable": true,
    "slideshow": {
     "slide_type": ""
    },
    "tags": []
   },
   "outputs": [
    {
     "ename": "TypeError",
     "evalue": "can only concatenate str (not \"int\") to str",
     "output_type": "error",
     "traceback": [
      "\u001b[31m---------------------------------------------------------------------------\u001b[39m",
      "\u001b[31mTypeError\u001b[39m                                 Traceback (most recent call last)",
      "\u001b[36mCell\u001b[39m\u001b[36m \u001b[39m\u001b[32mIn[8]\u001b[39m\u001b[32m, line 1\u001b[39m\n\u001b[32m----> \u001b[39m\u001b[32m1\u001b[39m \u001b[33;43m\"\u001b[39;49m\u001b[33;43m3\u001b[39;49m\u001b[33;43m\"\u001b[39;49m\u001b[43m \u001b[49m\u001b[43m+\u001b[49m\u001b[43m \u001b[49m\u001b[32;43m5\u001b[39;49m\n",
      "\u001b[31mTypeError\u001b[39m: can only concatenate str (not \"int\") to str"
     ]
    }
   ],
   "source": [
    "\"3\" + 5"
   ]
  },
  {
   "cell_type": "markdown",
   "id": "945474ca-e815-4f93-8474-2ff999a64908",
   "metadata": {
    "editable": true,
    "slideshow": {
     "slide_type": ""
    },
    "tags": []
   },
   "source": [
    "To convert it to a number, use `int` or `float` functions."
   ]
  },
  {
   "cell_type": "code",
   "execution_count": 9,
   "id": "052eca3c-dd51-4d42-aab0-8ce90ac0f599",
   "metadata": {
    "editable": true,
    "slideshow": {
     "slide_type": ""
    },
    "tags": []
   },
   "outputs": [
    {
     "data": {
      "text/plain": [
       "8"
      ]
     },
     "execution_count": 9,
     "metadata": {},
     "output_type": "execute_result"
    }
   ],
   "source": [
    "int(\"3\") + 5"
   ]
  },
  {
   "cell_type": "code",
   "execution_count": 10,
   "id": "852ed586-88eb-4c65-94b8-a86e93009e34",
   "metadata": {
    "editable": true,
    "slideshow": {
     "slide_type": ""
    },
    "tags": []
   },
   "outputs": [
    {
     "data": {
      "text/plain": [
       "2.14"
      ]
     },
     "execution_count": 10,
     "metadata": {},
     "output_type": "execute_result"
    }
   ],
   "source": [
    "float(\"3.14\") - 1"
   ]
  },
  {
   "cell_type": "markdown",
   "id": "3daa861a-57aa-469b-bc85-d5c2d0f41b9a",
   "metadata": {
    "editable": true,
    "slideshow": {
     "slide_type": ""
    },
    "tags": []
   },
   "source": [
    "This is useful when you read some data as text, e.g. from a file or with the `input()` function."
   ]
  },
  {
   "cell_type": "code",
   "execution_count": 11,
   "id": "11c054eb-fdbe-425c-95b0-792f3050016a",
   "metadata": {
    "editable": true,
    "slideshow": {
     "slide_type": ""
    },
    "tags": []
   },
   "outputs": [
    {
     "name": "stdin",
     "output_type": "stream",
     "text": [
      "Enter a number:  4\n"
     ]
    },
    {
     "name": "stdout",
     "output_type": "stream",
     "text": [
      "x^2 = 16.0\n"
     ]
    }
   ],
   "source": [
    "x = input(\"Enter a number: \")\n",
    "x = float(x)\n",
    "print(\"x^2 =\", x**2)"
   ]
  },
  {
   "cell_type": "markdown",
   "id": "1ad900ee-647d-4a9f-9060-86afb2673ab7",
   "metadata": {
    "editable": true,
    "slideshow": {
     "slide_type": "slide"
    },
    "tags": []
   },
   "source": [
    "## Converting a number to a string\n",
    "If we need to treat a numeric value as a string, we can convert it using the `str()` function."
   ]
  },
  {
   "cell_type": "code",
   "execution_count": 12,
   "id": "87a49ebb-db6c-4e5e-b8fd-c47a38e7d585",
   "metadata": {
    "editable": true,
    "slideshow": {
     "slide_type": ""
    },
    "tags": []
   },
   "outputs": [
    {
     "data": {
      "text/plain": [
       "'1.5625'"
      ]
     },
     "execution_count": 12,
     "metadata": {},
     "output_type": "execute_result"
    }
   ],
   "source": [
    "x = 1.25\n",
    "str(x**2)"
   ]
  },
  {
   "cell_type": "markdown",
   "id": "d2e572bc-c6c1-416d-b5a9-1745094c23b7",
   "metadata": {
    "editable": true,
    "slideshow": {
     "slide_type": ""
    },
    "tags": []
   },
   "source": [
    "This is useful when we want to insert numerical results within text."
   ]
  },
  {
   "cell_type": "code",
   "execution_count": 13,
   "id": "fcab9e14-79ad-4be9-93ea-e2797acfffe9",
   "metadata": {
    "editable": true,
    "slideshow": {
     "slide_type": ""
    },
    "tags": []
   },
   "outputs": [
    {
     "data": {
      "text/plain": [
       "'You are 25 years old.'"
      ]
     },
     "execution_count": 13,
     "metadata": {},
     "output_type": "execute_result"
    }
   ],
   "source": [
    "yob = 2000\n",
    "\"You are \"+str(2025-yob)+\" years old.\""
   ]
  },
  {
   "cell_type": "markdown",
   "id": "6130a66e-0292-44f2-bb79-d4e9f9cc4da2",
   "metadata": {
    "editable": true,
    "slideshow": {
     "slide_type": ""
    },
    "tags": []
   },
   "source": [
    "Later we'll discuss more elaborate ways of string formatting."
   ]
  },
  {
   "cell_type": "markdown",
   "id": "07c34fd4-84e0-4569-920d-0660bdf9266b",
   "metadata": {
    "editable": true,
    "slideshow": {
     "slide_type": "slide"
    },
    "tags": []
   },
   "source": [
    "## Indexing a string\n",
    "\n",
    "Individual characters of a string can be accessed with the bracket `[]` notation."
   ]
  },
  {
   "cell_type": "code",
   "execution_count": 14,
   "id": "337e5c42-6a1d-4afe-9d7e-39a1f1351487",
   "metadata": {
    "editable": true,
    "slideshow": {
     "slide_type": ""
    },
    "tags": []
   },
   "outputs": [
    {
     "data": {
      "text/plain": [
       "'H'"
      ]
     },
     "execution_count": 14,
     "metadata": {},
     "output_type": "execute_result"
    }
   ],
   "source": [
    "s = \"Hello World!\"\n",
    "s[0] # first character"
   ]
  },
  {
   "cell_type": "code",
   "execution_count": 15,
   "id": "8b015499-b8c2-4b0e-afc4-d982c996f4d9",
   "metadata": {
    "editable": true,
    "slideshow": {
     "slide_type": ""
    },
    "tags": []
   },
   "outputs": [
    {
     "data": {
      "text/plain": [
       "'W'"
      ]
     },
     "execution_count": 15,
     "metadata": {},
     "output_type": "execute_result"
    }
   ],
   "source": [
    "s[6] # seventh character"
   ]
  },
  {
   "cell_type": "code",
   "execution_count": 16,
   "id": "bc2d3675-802e-4855-87c4-ea23994121b9",
   "metadata": {
    "editable": true,
    "slideshow": {
     "slide_type": ""
    },
    "tags": []
   },
   "outputs": [
    {
     "data": {
      "text/plain": [
       "'!'"
      ]
     },
     "execution_count": 16,
     "metadata": {},
     "output_type": "execute_result"
    }
   ],
   "source": [
    "s[11] # 12th (last) character"
   ]
  },
  {
   "cell_type": "markdown",
   "id": "da459aa1-98a0-4dc4-8f8a-6ec795983341",
   "metadata": {
    "editable": true,
    "slideshow": {
     "slide_type": "slide"
    },
    "tags": []
   },
   "source": [
    "## Reverse indexing\n",
    "\n",
    "Negative indices indicate the location from the *end*.\n",
    "\n",
    "You can get the last, or the *n*-th from the last, without having to know the length of the string."
   ]
  },
  {
   "cell_type": "code",
   "execution_count": 17,
   "id": "80fabc8f-6c7a-4db5-b7b9-78936588ed34",
   "metadata": {
    "editable": true,
    "slideshow": {
     "slide_type": ""
    },
    "tags": []
   },
   "outputs": [
    {
     "data": {
      "text/plain": [
       "'!'"
      ]
     },
     "execution_count": 17,
     "metadata": {},
     "output_type": "execute_result"
    }
   ],
   "source": [
    "s[-1]  # last character (1st from the end)"
   ]
  },
  {
   "cell_type": "code",
   "execution_count": 18,
   "id": "8f3000f1-17bc-4378-8dd0-0c95bfd46dc3",
   "metadata": {
    "editable": true,
    "slideshow": {
     "slide_type": ""
    },
    "tags": []
   },
   "outputs": [
    {
     "data": {
      "text/plain": [
       "'!'"
      ]
     },
     "execution_count": 18,
     "metadata": {},
     "output_type": "execute_result"
    }
   ],
   "source": [
    "s[len(s)-1]  # same"
   ]
  },
  {
   "cell_type": "code",
   "execution_count": 19,
   "id": "6f7ed858-eec3-426a-9b67-80c976025908",
   "metadata": {
    "editable": true,
    "slideshow": {
     "slide_type": ""
    },
    "tags": []
   },
   "outputs": [
    {
     "data": {
      "text/plain": [
       "'d'"
      ]
     },
     "execution_count": 19,
     "metadata": {},
     "output_type": "execute_result"
    }
   ],
   "source": [
    "s[-2]  # second from last"
   ]
  },
  {
   "cell_type": "markdown",
   "id": "4671e118-d358-4b68-b56e-d70514f089ab",
   "metadata": {
    "editable": true,
    "slideshow": {
     "slide_type": "slide"
    },
    "tags": []
   },
   "source": [
    "## Sequence indexing scheme, visualized\n",
    "\n",
    "|               |     |     |     |    |    |    |    |    |    |    |    |    |\n",
    "|---------------|-----|-----|-----|----|----|----|----|----|----|----|----|----|\n",
    "| Element       | H   | e   | l   | l  | o  |    | W  | o  | r  | l  | d  | !  |\n",
    "| Index         | 0   | 1   | 2   | 3  | 4  | 5  | 6  | 7  | 8  | 9  | 10 | 11 |\n",
    "| Reverse index | -12 | -11 | -10 | -9 | -8 | -7 | -6 | -5 | -4 | -3 | -2 | -1 |"
   ]
  },
  {
   "cell_type": "markdown",
   "id": "cffafb8d-2bfd-49f4-a398-a3786be4c999",
   "metadata": {
    "editable": true,
    "slideshow": {
     "slide_type": "slide"
    },
    "tags": []
   },
   "source": [
    "## Slicing\n",
    "\n",
    "To take a continuous part (slice) of the string, use the `[i1:i2]` notation."
   ]
  },
  {
   "cell_type": "code",
   "execution_count": 20,
   "id": "760655bd-19e9-484e-af79-4b16ada79096",
   "metadata": {
    "editable": true,
    "slideshow": {
     "slide_type": ""
    },
    "tags": []
   },
   "outputs": [
    {
     "data": {
      "text/plain": [
       "'llo Wor'"
      ]
     },
     "execution_count": 20,
     "metadata": {},
     "output_type": "execute_result"
    }
   ],
   "source": [
    "s = \"Hello World!\"\n",
    "s[2:9] # from index 2 up to, not including, index 9"
   ]
  },
  {
   "cell_type": "code",
   "execution_count": 21,
   "id": "d243fba8-42a5-463e-817b-5e213507b85b",
   "metadata": {
    "editable": true,
    "slideshow": {
     "slide_type": ""
    },
    "tags": []
   },
   "outputs": [
    {
     "data": {
      "text/plain": [
       "'Hello Wor'"
      ]
     },
     "execution_count": 21,
     "metadata": {},
     "output_type": "execute_result"
    }
   ],
   "source": [
    "s[:9]  # start at index 0, up to 9"
   ]
  },
  {
   "cell_type": "code",
   "execution_count": 22,
   "id": "e50af2a4-8509-4a13-b04f-46373ed1db78",
   "metadata": {
    "editable": true,
    "slideshow": {
     "slide_type": ""
    },
    "tags": []
   },
   "outputs": [
    {
     "data": {
      "text/plain": [
       "'llo World!'"
      ]
     },
     "execution_count": 22,
     "metadata": {},
     "output_type": "execute_result"
    }
   ],
   "source": [
    "s[2:] # start at index 2, to the end"
   ]
  },
  {
   "cell_type": "markdown",
   "id": "0aefb32c-f936-4d07-94e6-93c047f9b285",
   "metadata": {
    "editable": true,
    "slideshow": {
     "slide_type": "slide"
    },
    "tags": []
   },
   "source": [
    "## Copying with slicing\n",
    "\n",
    "The `[:]` slice returns the string as it is. "
   ]
  },
  {
   "cell_type": "code",
   "execution_count": 23,
   "id": "91e3b924-b082-4f72-99f3-3ddf97665c6d",
   "metadata": {
    "editable": true,
    "slideshow": {
     "slide_type": ""
    },
    "tags": []
   },
   "outputs": [
    {
     "data": {
      "text/plain": [
       "'Hello World!'"
      ]
     },
     "execution_count": 23,
     "metadata": {},
     "output_type": "execute_result"
    }
   ],
   "source": [
    "s[:]"
   ]
  },
  {
   "cell_type": "markdown",
   "id": "f71efb03-eeb3-49ac-8274-3216b787bae9",
   "metadata": {
    "editable": true,
    "slideshow": {
     "slide_type": ""
    },
    "tags": []
   },
   "source": [
    "This is useful for making a copy of a sequential object, such as a list."
   ]
  },
  {
   "cell_type": "markdown",
   "id": "78cf8b45-10f9-489b-bed3-6b1f79f2d028",
   "metadata": {
    "editable": true,
    "slideshow": {
     "slide_type": "slide"
    },
    "tags": []
   },
   "source": [
    "## Stepping in slices\n",
    "\n",
    "The `[i1:i2:d]` notation returns a slice with steps of `d`."
   ]
  },
  {
   "cell_type": "code",
   "execution_count": 24,
   "id": "34312a69-09b4-4504-9d6b-c5f9225eaf58",
   "metadata": {
    "editable": true,
    "slideshow": {
     "slide_type": ""
    },
    "tags": []
   },
   "outputs": [
    {
     "data": {
      "text/plain": [
       "'cegi'"
      ]
     },
     "execution_count": 24,
     "metadata": {},
     "output_type": "execute_result"
    }
   ],
   "source": [
    "s = \"abcdefghijkl\"\n",
    "s[2:10:2]"
   ]
  },
  {
   "cell_type": "markdown",
   "id": "b2dfb52f-7375-4aed-8f49-c7c4a3ae11db",
   "metadata": {
    "editable": true,
    "slideshow": {
     "slide_type": ""
    },
    "tags": []
   },
   "source": [
    "Starting and stopping indices can be omitted."
   ]
  },
  {
   "cell_type": "code",
   "execution_count": 25,
   "id": "06515051-0a6e-469e-bee2-d610d73925ea",
   "metadata": {
    "editable": true,
    "slideshow": {
     "slide_type": ""
    },
    "tags": []
   },
   "outputs": [
    {
     "data": {
      "text/plain": [
       "'acegik'"
      ]
     },
     "execution_count": 25,
     "metadata": {},
     "output_type": "execute_result"
    }
   ],
   "source": [
    "s[::2]"
   ]
  },
  {
   "cell_type": "markdown",
   "id": "77cfe5d9-f56c-42af-80d3-b296ca33feeb",
   "metadata": {
    "editable": true,
    "slideshow": {
     "slide_type": ""
    },
    "tags": []
   },
   "source": [
    "Quick way to reverse a sequence:"
   ]
  },
  {
   "cell_type": "code",
   "execution_count": 26,
   "id": "9152ef9e-6198-4748-9ea2-6d4964ce6256",
   "metadata": {
    "editable": true,
    "slideshow": {
     "slide_type": ""
    },
    "tags": []
   },
   "outputs": [
    {
     "data": {
      "text/plain": [
       "'lkjihgfedcba'"
      ]
     },
     "execution_count": 26,
     "metadata": {},
     "output_type": "execute_result"
    }
   ],
   "source": [
    "s[::-1]"
   ]
  },
  {
   "cell_type": "markdown",
   "id": "15393a23-e716-45c6-88a6-43d8690e6806",
   "metadata": {
    "editable": true,
    "slideshow": {
     "slide_type": "slide"
    },
    "tags": []
   },
   "source": [
    "## Insert a string into another"
   ]
  },
  {
   "cell_type": "code",
   "execution_count": 27,
   "id": "04e1a6f4-55da-4002-aa8c-96a64af5072d",
   "metadata": {
    "editable": true,
    "slideshow": {
     "slide_type": ""
    },
    "tags": []
   },
   "outputs": [
    {
     "data": {
      "text/plain": [
       "'Hello Beautiful World!'"
      ]
     },
     "execution_count": 27,
     "metadata": {},
     "output_type": "execute_result"
    }
   ],
   "source": [
    "s = \"Hello World!\"\n",
    "\n",
    "s[:5] + \" Beautiful\" + s[5:]"
   ]
  },
  {
   "cell_type": "markdown",
   "id": "624dee81-00e5-4714-9c3d-2d76ec69e2aa",
   "metadata": {
    "editable": true,
    "slideshow": {
     "slide_type": "slide"
    },
    "tags": []
   },
   "source": [
    "# Lists\n",
    "Lists are sequence data types that can store any kind of data, including other lists."
   ]
  },
  {
   "cell_type": "code",
   "execution_count": 28,
   "id": "d8b035a4-127d-4e26-9dcd-0c7be91fe01f",
   "metadata": {
    "editable": true,
    "slideshow": {
     "slide_type": ""
    },
    "tags": []
   },
   "outputs": [],
   "source": [
    "L1 = [-1, 3.2, \"abc\"]\n",
    "L2 = [[\"hello\", \"world\"], [0,1], [1,2,3]]"
   ]
  },
  {
   "cell_type": "markdown",
   "id": "f2e584a7-9085-4880-89b2-14020800dccb",
   "metadata": {
    "editable": true,
    "slideshow": {
     "slide_type": ""
    },
    "tags": []
   },
   "source": [
    "The operators `+` and `*` act in the same way as with strings."
   ]
  },
  {
   "cell_type": "code",
   "execution_count": 29,
   "id": "0b4846f6-506f-4432-a298-dccec659ad0b",
   "metadata": {
    "editable": true,
    "slideshow": {
     "slide_type": ""
    },
    "tags": []
   },
   "outputs": [
    {
     "data": {
      "text/plain": [
       "[1, 2, 3, 4, 5]"
      ]
     },
     "execution_count": 29,
     "metadata": {},
     "output_type": "execute_result"
    }
   ],
   "source": [
    "[1,2] + [3,4,5]  # concatenate lists"
   ]
  },
  {
   "cell_type": "code",
   "execution_count": 30,
   "id": "8eeff2af-81b6-41ca-9ccc-1dabb814989c",
   "metadata": {
    "editable": true,
    "slideshow": {
     "slide_type": ""
    },
    "tags": []
   },
   "outputs": [
    {
     "data": {
      "text/plain": [
       "[1, 1, 1]"
      ]
     },
     "execution_count": 30,
     "metadata": {},
     "output_type": "execute_result"
    }
   ],
   "source": [
    "[1] * 3   # repeat list elements"
   ]
  },
  {
   "cell_type": "markdown",
   "id": "4e26b8b4-1619-49b1-bc1c-7dcf3f29ba1d",
   "metadata": {
    "editable": true,
    "slideshow": {
     "slide_type": "slide"
    },
    "tags": []
   },
   "source": [
    "## List indexing"
   ]
  },
  {
   "cell_type": "markdown",
   "id": "852aed42-5096-4734-ac68-5633a484a031",
   "metadata": {
    "editable": true,
    "slideshow": {
     "slide_type": ""
    },
    "tags": []
   },
   "source": [
    "List elements can be accessed with the bracket `[]` notation, same as strings."
   ]
  },
  {
   "cell_type": "code",
   "execution_count": 31,
   "id": "576d28f5-ff47-44ae-879e-0b57aed323a0",
   "metadata": {
    "editable": true,
    "slideshow": {
     "slide_type": ""
    },
    "tags": []
   },
   "outputs": [
    {
     "data": {
      "text/plain": [
       "['hello', 'world']"
      ]
     },
     "execution_count": 31,
     "metadata": {},
     "output_type": "execute_result"
    }
   ],
   "source": [
    "L2 = [[\"hello\", \"world\"], [0,1], [1,2,3]]\n",
    "L2[0]"
   ]
  },
  {
   "cell_type": "code",
   "execution_count": 32,
   "id": "eb5ccafd-8638-4e46-993e-588731e54e08",
   "metadata": {
    "editable": true,
    "slideshow": {
     "slide_type": ""
    },
    "tags": []
   },
   "outputs": [
    {
     "data": {
      "text/plain": [
       "[1, 2, 3]"
      ]
     },
     "execution_count": 32,
     "metadata": {},
     "output_type": "execute_result"
    }
   ],
   "source": [
    "L2[-1]"
   ]
  },
  {
   "cell_type": "code",
   "execution_count": 33,
   "id": "289a5097-4a42-4abd-bf31-de7805a07b8b",
   "metadata": {
    "editable": true,
    "slideshow": {
     "slide_type": ""
    },
    "tags": []
   },
   "outputs": [
    {
     "data": {
      "text/plain": [
       "2"
      ]
     },
     "execution_count": 33,
     "metadata": {},
     "output_type": "execute_result"
    }
   ],
   "source": [
    "L2[-1][1]  # since L2[-1] is itself a list, we can index it."
   ]
  },
  {
   "cell_type": "markdown",
   "id": "0d6dd8d5-7665-439b-ae82-dd992e7af5f1",
   "metadata": {
    "editable": true,
    "slideshow": {
     "slide_type": "slide"
    },
    "tags": []
   },
   "source": [
    "## Reassign to elements in a list"
   ]
  },
  {
   "cell_type": "markdown",
   "id": "f4bc186c-a36b-4830-b625-c976bc1d81fc",
   "metadata": {
    "editable": true,
    "slideshow": {
     "slide_type": ""
    },
    "tags": []
   },
   "source": [
    "Reassign a single element"
   ]
  },
  {
   "cell_type": "code",
   "execution_count": 34,
   "id": "052efdfe-7a43-47a7-965d-99ca38cd1bfe",
   "metadata": {
    "editable": true,
    "slideshow": {
     "slide_type": ""
    },
    "tags": []
   },
   "outputs": [
    {
     "data": {
      "text/plain": [
       "[1, 2, 3, 10, 5, 6, 7, 8, 9]"
      ]
     },
     "execution_count": 34,
     "metadata": {},
     "output_type": "execute_result"
    }
   ],
   "source": [
    "L = [1,2,3,4,5,6,7,8,9]\n",
    "L[3] = 10   # replace 4 with 10\n",
    "L"
   ]
  },
  {
   "cell_type": "markdown",
   "id": "109cc5d2-697f-44ea-857f-6987cd527879",
   "metadata": {
    "editable": true,
    "slideshow": {
     "slide_type": ""
    },
    "tags": []
   },
   "source": [
    "Reassign a slice:"
   ]
  },
  {
   "cell_type": "code",
   "execution_count": 35,
   "id": "e2361c5c-176b-4620-ba0e-810d4ee201e1",
   "metadata": {
    "editable": true,
    "slideshow": {
     "slide_type": ""
    },
    "tags": []
   },
   "outputs": [
    {
     "data": {
      "text/plain": [
       "[1, 2, 3, 10, 11, 7, 8, 9]"
      ]
     },
     "execution_count": 35,
     "metadata": {},
     "output_type": "execute_result"
    }
   ],
   "source": [
    "L = [1,2,3,4,5,6,7,8,9]\n",
    "L[3:6] = [10,11]  # replace 4,5,6 with 10,11\n",
    "L"
   ]
  },
  {
   "cell_type": "markdown",
   "id": "c80b3d97-2d2c-42ff-adaa-f799489647a3",
   "metadata": {
    "editable": true,
    "slideshow": {
     "slide_type": "slide"
    },
    "tags": []
   },
   "source": [
    "## Delete elements from a list"
   ]
  },
  {
   "cell_type": "markdown",
   "id": "21e0cfb5-7963-42a7-8aea-dfec1a1ee872",
   "metadata": {
    "editable": true,
    "slideshow": {
     "slide_type": ""
    },
    "tags": []
   },
   "source": [
    "Delete a single element with the `del` keyword"
   ]
  },
  {
   "cell_type": "code",
   "execution_count": 36,
   "id": "28ebe75c-c4a8-41ec-a922-b22f217ef40e",
   "metadata": {
    "editable": true,
    "slideshow": {
     "slide_type": ""
    },
    "tags": []
   },
   "outputs": [
    {
     "data": {
      "text/plain": [
       "[1, 2, 3, 5, 6, 7, 8, 9]"
      ]
     },
     "execution_count": 36,
     "metadata": {},
     "output_type": "execute_result"
    }
   ],
   "source": [
    "L = [1,2,3,4,5,6,7,8,9]\n",
    "del L[3]\n",
    "L"
   ]
  },
  {
   "cell_type": "markdown",
   "id": "a0f53731-7dcd-45c6-9c82-01a85bf010a5",
   "metadata": {
    "editable": true,
    "slideshow": {
     "slide_type": ""
    },
    "tags": []
   },
   "source": [
    "Delete a slice"
   ]
  },
  {
   "cell_type": "code",
   "execution_count": 37,
   "id": "e680150b-db23-4c7e-9bcb-15202bcb3060",
   "metadata": {
    "editable": true,
    "slideshow": {
     "slide_type": ""
    },
    "tags": []
   },
   "outputs": [
    {
     "data": {
      "text/plain": [
       "[1, 2, 3, 7, 8, 9]"
      ]
     },
     "execution_count": 37,
     "metadata": {},
     "output_type": "execute_result"
    }
   ],
   "source": [
    "L = [1,2,3,4,5,6,7,8,9]\n",
    "del L[3:6]\n",
    "L"
   ]
  },
  {
   "cell_type": "markdown",
   "id": "a66addd5-89ac-4e3a-899d-05f65f784063",
   "metadata": {
    "editable": true,
    "slideshow": {
     "slide_type": "slide"
    },
    "tags": []
   },
   "source": [
    "## List copying with assignment"
   ]
  },
  {
   "cell_type": "markdown",
   "id": "e469ce67-1232-4f98-bdf9-f29e78fcfd73",
   "metadata": {
    "editable": true,
    "slideshow": {
     "slide_type": ""
    },
    "tags": []
   },
   "source": [
    "When you assign a list to another and change elements in one, you get a change in the other, too."
   ]
  },
  {
   "cell_type": "code",
   "execution_count": 38,
   "id": "6464aa65-ebd1-4cf6-87c7-7fa81c8b87ea",
   "metadata": {
    "editable": true,
    "slideshow": {
     "slide_type": ""
    },
    "tags": []
   },
   "outputs": [
    {
     "data": {
      "text/plain": [
       "[1, 2, 3]"
      ]
     },
     "execution_count": 38,
     "metadata": {},
     "output_type": "execute_result"
    }
   ],
   "source": [
    "a = [1,2,3]\n",
    "b = a\n",
    "b    # b is the same as a"
   ]
  },
  {
   "cell_type": "code",
   "execution_count": 39,
   "id": "74839fca-2b43-4e1e-8a80-a1405d442b89",
   "metadata": {
    "editable": true,
    "slideshow": {
     "slide_type": ""
    },
    "tags": []
   },
   "outputs": [
    {
     "data": {
      "text/plain": [
       "[10, 2, 3]"
      ]
     },
     "execution_count": 39,
     "metadata": {},
     "output_type": "execute_result"
    }
   ],
   "source": [
    "b[0] = 10\n",
    "b    # b has changed now"
   ]
  },
  {
   "cell_type": "code",
   "execution_count": 40,
   "id": "cfc304c9-1885-40f9-89bd-3de54e7db36b",
   "metadata": {
    "editable": true,
    "slideshow": {
     "slide_type": ""
    },
    "tags": []
   },
   "outputs": [
    {
     "data": {
      "text/plain": [
       "[10, 2, 3]"
      ]
     },
     "execution_count": 40,
     "metadata": {},
     "output_type": "execute_result"
    }
   ],
   "source": [
    "a    # surprise!"
   ]
  },
  {
   "cell_type": "markdown",
   "id": "7f927703-3352-4f50-a4be-7df0607b55fd",
   "metadata": {
    "editable": true,
    "slideshow": {
     "slide_type": "slide"
    },
    "tags": []
   },
   "source": [
    "## Shared references"
   ]
  },
  {
   "cell_type": "markdown",
   "id": "31a9e6e9-609f-40f2-b5af-f2be49c059a6",
   "metadata": {
    "editable": true,
    "slideshow": {
     "slide_type": ""
    },
    "tags": []
   },
   "source": [
    "Python uses names as signposts (references) to objects. When we write `b = a`, this just creates a new reference to the same list. Hence the change via `b`."
   ]
  },
  {
   "cell_type": "markdown",
   "id": "ceace376-9f16-4cbf-a206-8fd218b40c0c",
   "metadata": {
    "editable": true,
    "slideshow": {
     "slide_type": ""
    },
    "tags": []
   },
   "source": [
    "Although all variables are referenced in this way, only mutable objects are affected by this side effect.\n",
    "\n",
    "If you want to avoid this side effect, use a *slice copy* or the `copy()` method."
   ]
  },
  {
   "cell_type": "code",
   "execution_count": 41,
   "id": "ee685588-782a-4bba-ac6b-b287881e06b0",
   "metadata": {
    "editable": true,
    "slideshow": {
     "slide_type": ""
    },
    "tags": []
   },
   "outputs": [
    {
     "data": {
      "text/plain": [
       "[1, 2, 3]"
      ]
     },
     "execution_count": 41,
     "metadata": {},
     "output_type": "execute_result"
    }
   ],
   "source": [
    "a = [1,2,3]\n",
    "b = a[:]  # b is a reference to a new object now\n",
    "b[0] = 10\n",
    "a"
   ]
  },
  {
   "cell_type": "code",
   "execution_count": 42,
   "id": "7dfe529b-09db-4124-86fb-9d603a8e706a",
   "metadata": {
    "editable": true,
    "slideshow": {
     "slide_type": ""
    },
    "tags": []
   },
   "outputs": [
    {
     "data": {
      "text/plain": [
       "[1, 2, 3]"
      ]
     },
     "execution_count": 42,
     "metadata": {},
     "output_type": "execute_result"
    }
   ],
   "source": [
    "b = a.copy()\n",
    "b[0] = 10\n",
    "a"
   ]
  },
  {
   "cell_type": "markdown",
   "id": "d49e2301-9e04-44e1-a5dc-55ae9e871e35",
   "metadata": {
    "editable": true,
    "slideshow": {
     "slide_type": "slide"
    },
    "tags": []
   },
   "source": [
    "## Convert a string to a list"
   ]
  },
  {
   "cell_type": "code",
   "execution_count": 43,
   "id": "53f6e310-647a-4155-8d33-f95efcb4e5e6",
   "metadata": {
    "editable": true,
    "slideshow": {
     "slide_type": ""
    },
    "tags": []
   },
   "outputs": [
    {
     "data": {
      "text/plain": [
       "['a', 'b', 'c', 'd', 'e', 'f', '1', '2', '3']"
      ]
     },
     "execution_count": 43,
     "metadata": {},
     "output_type": "execute_result"
    }
   ],
   "source": [
    "s = \"abcdef123\"\n",
    "list(s)"
   ]
  },
  {
   "cell_type": "markdown",
   "id": "1120e571-d39a-49bf-a005-272d79eb04f2",
   "metadata": {
    "editable": true,
    "slideshow": {
     "slide_type": "slide"
    },
    "tags": []
   },
   "source": [
    "## Combine a list of strings into a single string"
   ]
  },
  {
   "cell_type": "code",
   "execution_count": 44,
   "id": "8dd14df7-b9cc-4e21-8513-0eb4dde29cc2",
   "metadata": {
    "editable": true,
    "slideshow": {
     "slide_type": ""
    },
    "tags": []
   },
   "outputs": [
    {
     "data": {
      "text/plain": [
       "'Hello World'"
      ]
     },
     "execution_count": 44,
     "metadata": {},
     "output_type": "execute_result"
    }
   ],
   "source": [
    "L = [\"H\",\"e\",\"llo \",\"Worl\",\"d\"]\n",
    "\"\".join(L)"
   ]
  },
  {
   "cell_type": "code",
   "execution_count": 45,
   "id": "993b6a86-339a-4d0a-8a9e-850ee6b40b16",
   "metadata": {
    "editable": true,
    "slideshow": {
     "slide_type": ""
    },
    "tags": []
   },
   "outputs": [
    {
     "data": {
      "text/plain": [
       "'H_e_llo _Worl_d'"
      ]
     },
     "execution_count": 45,
     "metadata": {},
     "output_type": "execute_result"
    }
   ],
   "source": [
    "\"_\".join(L)"
   ]
  },
  {
   "cell_type": "markdown",
   "id": "b3d3a01d-7817-4aea-9bc6-07e71355d7fb",
   "metadata": {
    "editable": true,
    "slideshow": {
     "slide_type": "slide"
    },
    "tags": []
   },
   "source": [
    "# Tuples\n",
    "\n",
    "Tuples, like lists, are sequences of arbitrary objects.\n",
    "\n",
    "Tuples are *immutable*, so they can be used where an immutable object is required."
   ]
  },
  {
   "cell_type": "code",
   "execution_count": 46,
   "id": "66659eb4-418f-4284-bba9-a47a3d05b6de",
   "metadata": {
    "editable": true,
    "slideshow": {
     "slide_type": ""
    },
    "tags": []
   },
   "outputs": [],
   "source": [
    "t = (1,2,\"abc\",[7,8,9])"
   ]
  },
  {
   "cell_type": "markdown",
   "id": "68fce537-4438-4ff4-88b0-64fff3dcc047",
   "metadata": {
    "editable": true,
    "slideshow": {
     "slide_type": ""
    },
    "tags": []
   },
   "source": [
    "All the usual indexing and slicing operations apply."
   ]
  },
  {
   "cell_type": "code",
   "execution_count": 47,
   "id": "528e16c5-3492-487f-8480-b392b6dfdff2",
   "metadata": {
    "editable": true,
    "slideshow": {
     "slide_type": ""
    },
    "tags": []
   },
   "outputs": [
    {
     "data": {
      "text/plain": [
       "(2, 'abc', [7, 8, 9])"
      ]
     },
     "execution_count": 47,
     "metadata": {},
     "output_type": "execute_result"
    }
   ],
   "source": [
    "t[1:4]"
   ]
  },
  {
   "cell_type": "code",
   "execution_count": 48,
   "id": "742cc4af-e5e4-4ac1-85bb-c562b570469a",
   "metadata": {
    "editable": true,
    "slideshow": {
     "slide_type": ""
    },
    "tags": []
   },
   "outputs": [
    {
     "data": {
      "text/plain": [
       "8"
      ]
     },
     "execution_count": 48,
     "metadata": {},
     "output_type": "execute_result"
    }
   ],
   "source": [
    "t[3][1]"
   ]
  },
  {
   "cell_type": "markdown",
   "id": "f95cafa4-618e-4968-b6ff-b9b908f77a2c",
   "metadata": {
    "editable": true,
    "slideshow": {
     "slide_type": "slide"
    },
    "tags": []
   },
   "source": [
    "A one-element tuple is written as `(x,)`, to avoid confusion with mathematical operation grouping."
   ]
  },
  {
   "cell_type": "code",
   "execution_count": 49,
   "id": "f0098923-523e-4117-be04-a03fb830b540",
   "metadata": {
    "editable": true,
    "slideshow": {
     "slide_type": ""
    },
    "tags": []
   },
   "outputs": [
    {
     "data": {
      "text/plain": [
       "(1, 2, 3)"
      ]
     },
     "execution_count": 49,
     "metadata": {},
     "output_type": "execute_result"
    }
   ],
   "source": [
    "t = (1,)\n",
    "t = t + (2,3)\n",
    "t"
   ]
  },
  {
   "cell_type": "markdown",
   "id": "b08dd297-e7f9-4cae-a9f4-5e41f029cd2c",
   "metadata": {
    "editable": true,
    "slideshow": {
     "slide_type": "slide"
    },
    "tags": []
   },
   "source": [
    "# Mutability\n",
    "\n",
    "Tuples are almost the same as lists, except that they are *immutable*.\n",
    "\n",
    "Immutable object do not allow reassigning or deleting their elements."
   ]
  },
  {
   "cell_type": "code",
   "execution_count": 50,
   "id": "e4439fd3-8e4b-4f18-a2b6-2ca807189d80",
   "metadata": {
    "editable": true,
    "slideshow": {
     "slide_type": ""
    },
    "tags": []
   },
   "outputs": [],
   "source": [
    "t = (1,2,\"abc\")"
   ]
  },
  {
   "cell_type": "code",
   "execution_count": 51,
   "id": "da94c1c8-38ce-40e2-8836-fab058ed2690",
   "metadata": {
    "editable": true,
    "slideshow": {
     "slide_type": ""
    },
    "tags": []
   },
   "outputs": [
    {
     "ename": "TypeError",
     "evalue": "'tuple' object does not support item assignment",
     "output_type": "error",
     "traceback": [
      "\u001b[31m---------------------------------------------------------------------------\u001b[39m",
      "\u001b[31mTypeError\u001b[39m                                 Traceback (most recent call last)",
      "\u001b[36mCell\u001b[39m\u001b[36m \u001b[39m\u001b[32mIn[51]\u001b[39m\u001b[32m, line 1\u001b[39m\n\u001b[32m----> \u001b[39m\u001b[32m1\u001b[39m \u001b[43mt\u001b[49m\u001b[43m[\u001b[49m\u001b[32;43m0\u001b[39;49m\u001b[43m]\u001b[49m = \u001b[32m10\u001b[39m\n",
      "\u001b[31mTypeError\u001b[39m: 'tuple' object does not support item assignment"
     ]
    }
   ],
   "source": [
    "t[0] = 10"
   ]
  },
  {
   "cell_type": "code",
   "execution_count": 52,
   "id": "d658e630-68f1-43c4-bf11-2d6460429d3f",
   "metadata": {
    "editable": true,
    "slideshow": {
     "slide_type": ""
    },
    "tags": []
   },
   "outputs": [
    {
     "ename": "TypeError",
     "evalue": "'tuple' object doesn't support item deletion",
     "output_type": "error",
     "traceback": [
      "\u001b[31m---------------------------------------------------------------------------\u001b[39m",
      "\u001b[31mTypeError\u001b[39m                                 Traceback (most recent call last)",
      "\u001b[36mCell\u001b[39m\u001b[36m \u001b[39m\u001b[32mIn[52]\u001b[39m\u001b[32m, line 1\u001b[39m\n\u001b[32m----> \u001b[39m\u001b[32m1\u001b[39m \u001b[38;5;28;01mdel\u001b[39;00m \u001b[43mt\u001b[49m\u001b[43m[\u001b[49m\u001b[32;43m2\u001b[39;49m\u001b[43m]\u001b[49m\n",
      "\u001b[31mTypeError\u001b[39m: 'tuple' object doesn't support item deletion"
     ]
    }
   ],
   "source": [
    "del t[2]"
   ]
  },
  {
   "cell_type": "markdown",
   "id": "b8bf9c48-ce25-44d6-9e7a-188522a787dc",
   "metadata": {
    "editable": true,
    "slideshow": {
     "slide_type": "slide"
    },
    "tags": []
   },
   "source": [
    "Tuples are **immutable** objects, while lists are **mutable**. Once created, an immutable object cannot be modified.\n",
    "\n",
    "But they can be reassigned as a whole:"
   ]
  },
  {
   "cell_type": "code",
   "execution_count": 53,
   "id": "b1d4dc60-4687-4345-8b22-9f4e8922b267",
   "metadata": {
    "editable": true,
    "slideshow": {
     "slide_type": ""
    },
    "tags": []
   },
   "outputs": [],
   "source": [
    "t = (4,5, [10, 11, 12])"
   ]
  },
  {
   "cell_type": "markdown",
   "id": "adbec4be-aef6-4f99-ad52-aaf2b54362f6",
   "metadata": {
    "editable": true,
    "slideshow": {
     "slide_type": "slide"
    },
    "tags": []
   },
   "source": [
    "A mutable element of a tuple can be changed:"
   ]
  },
  {
   "cell_type": "code",
   "execution_count": 54,
   "id": "e4859763-f98b-41d5-b6c9-f65ebad991b9",
   "metadata": {
    "editable": true,
    "slideshow": {
     "slide_type": ""
    },
    "tags": []
   },
   "outputs": [
    {
     "data": {
      "text/plain": [
       "(4, 5, [-1, 11, 12])"
      ]
     },
     "execution_count": 54,
     "metadata": {},
     "output_type": "execute_result"
    }
   ],
   "source": [
    "t[2][0] = -1\n",
    "t"
   ]
  },
  {
   "cell_type": "markdown",
   "id": "a1f3f94f-e5db-4709-b77a-a40df248df2d",
   "metadata": {
    "editable": true,
    "slideshow": {
     "slide_type": ""
    },
    "tags": []
   },
   "source": [
    "Strings, integers and floats are also immutable objects."
   ]
  },
  {
   "cell_type": "markdown",
   "id": "fc2b8217-e15f-4418-aa67-5a7d899e7adc",
   "metadata": {
    "editable": true,
    "slideshow": {
     "slide_type": "slide"
    },
    "tags": []
   },
   "source": [
    "# Dictionaries"
   ]
  },
  {
   "cell_type": "markdown",
   "id": "f0b9306c-2c52-4ce6-a4c7-da5f5148ad3c",
   "metadata": {
    "editable": true,
    "slideshow": {
     "slide_type": ""
    },
    "tags": []
   },
   "source": [
    "While *lists* are indexed with integers, dictionaries are indexed with other objects."
   ]
  },
  {
   "cell_type": "code",
   "execution_count": 55,
   "id": "cf0eea73-a7eb-43d3-927b-19aa7be53fde",
   "metadata": {
    "editable": true,
    "slideshow": {
     "slide_type": ""
    },
    "tags": []
   },
   "outputs": [
    {
     "data": {
      "text/plain": [
       "'Mickey'"
      ]
     },
     "execution_count": 55,
     "metadata": {},
     "output_type": "execute_result"
    }
   ],
   "source": [
    "D = {\"name\": \"Mickey\", \"age\": 32}\n",
    "D[\"name\"]"
   ]
  },
  {
   "cell_type": "code",
   "execution_count": 56,
   "id": "15272ba7-2f4b-4b2b-8bef-873a0e625834",
   "metadata": {
    "editable": true,
    "slideshow": {
     "slide_type": ""
    },
    "tags": []
   },
   "outputs": [
    {
     "data": {
      "text/plain": [
       "32"
      ]
     },
     "execution_count": 56,
     "metadata": {},
     "output_type": "execute_result"
    }
   ],
   "source": [
    "D[\"age\"]"
   ]
  },
  {
   "cell_type": "markdown",
   "id": "94782a95-617d-4f68-80f7-c95c6cf0d1a6",
   "metadata": {
    "editable": true,
    "slideshow": {
     "slide_type": "slide"
    },
    "tags": []
   },
   "source": [
    "_Dictionaries_ are key-value associations where keys can be anything -- a string, an integer, a floating-point number, or a tuple.\n",
    "\n",
    "Keys must be immutable objects, so lists cannot be keys."
   ]
  },
  {
   "cell_type": "code",
   "execution_count": 57,
   "id": "7501d018-3f3c-4c95-876b-6f791880ad25",
   "metadata": {
    "editable": true,
    "slideshow": {
     "slide_type": ""
    },
    "tags": []
   },
   "outputs": [
    {
     "data": {
      "text/plain": [
       "'rook'"
      ]
     },
     "execution_count": 57,
     "metadata": {},
     "output_type": "execute_result"
    }
   ],
   "source": [
    "chesspiece = {(\"a\",1): \"rook\", (\"b\",4): \"queen\", (\"e\",5): \"pawn\"}\n",
    "chesspiece[(\"a\",1)]"
   ]
  },
  {
   "cell_type": "markdown",
   "id": "0ccbb1df-d01d-4081-bc9e-a0fc0fda0386",
   "metadata": {
    "editable": true,
    "slideshow": {
     "slide_type": "slide"
    },
    "tags": []
   },
   "source": [
    "New key-value pairs can be added to an existing dictionary"
   ]
  },
  {
   "cell_type": "code",
   "execution_count": 58,
   "id": "2bcf83c2-e054-4e2e-a181-89e29c743a9f",
   "metadata": {
    "editable": true,
    "slideshow": {
     "slide_type": ""
    },
    "tags": []
   },
   "outputs": [
    {
     "data": {
      "text/plain": [
       "{'name': 'Mickey', 'age': 32, 'city': 'Ankara'}"
      ]
     },
     "execution_count": 58,
     "metadata": {},
     "output_type": "execute_result"
    }
   ],
   "source": [
    "D = {\"name\": \"Mickey\", \"age\": 32}\n",
    "\n",
    "D[\"city\"] = \"Ankara\"\n",
    "D"
   ]
  },
  {
   "cell_type": "markdown",
   "id": "193be1f3-f5ad-4ff9-ad40-35189047db00",
   "metadata": {
    "editable": true,
    "slideshow": {
     "slide_type": "slide"
    },
    "tags": []
   },
   "source": [
    "## Nested dictionaries\n",
    "\n",
    "A dictionary can have other dictionaries as values."
   ]
  },
  {
   "cell_type": "code",
   "execution_count": 59,
   "id": "e8b004c9-1207-46d4-be25-42cc2b9faca4",
   "metadata": {
    "editable": true,
    "slideshow": {
     "slide_type": ""
    },
    "tags": []
   },
   "outputs": [
    {
     "data": {
      "text/plain": [
       "{'name': 'Kaan', 'age': 50, 'city': 'Tekirdağ'}"
      ]
     },
     "execution_count": 59,
     "metadata": {},
     "output_type": "execute_result"
    }
   ],
   "source": [
    "D = {\"id001\": {\"name\":\"Kaan\", \"age\":50, \"city\":\"Tekirdağ\"},\n",
    "     \"id002\": {\"name\":\"Meral\", \"age\":48, \"city\":\"Ankara\"},\n",
    "     \"id003\": {\"name\":\"Ziya\", \"age\":18, \"city\":\"İstanbul\"}}\n",
    "D[\"id001\"]"
   ]
  },
  {
   "cell_type": "markdown",
   "id": "9147d380-ec8b-4821-8472-1c70c9008c63",
   "metadata": {
    "editable": true,
    "slideshow": {
     "slide_type": "subslide"
    },
    "tags": []
   },
   "source": [
    "Values of the inner dictionaries can be accessed with repeated indexing."
   ]
  },
  {
   "cell_type": "code",
   "execution_count": 60,
   "id": "bfaf6c91-b6e9-46cc-8213-cf13cd196e4d",
   "metadata": {
    "editable": true,
    "slideshow": {
     "slide_type": ""
    },
    "tags": []
   },
   "outputs": [
    {
     "data": {
      "text/plain": [
       "'Ankara'"
      ]
     },
     "execution_count": 60,
     "metadata": {},
     "output_type": "execute_result"
    }
   ],
   "source": [
    "D[\"id002\"][\"city\"]"
   ]
  }
 ],
 "metadata": {
  "kernelspec": {
   "display_name": "Python 3 (ipykernel)",
   "language": "python",
   "name": "python3"
  },
  "language_info": {
   "codemirror_mode": {
    "name": "ipython",
    "version": 3
   },
   "file_extension": ".py",
   "mimetype": "text/x-python",
   "name": "python",
   "nbconvert_exporter": "python",
   "pygments_lexer": "ipython3",
   "version": "3.13.3"
  }
 },
 "nbformat": 4,
 "nbformat_minor": 5
}
