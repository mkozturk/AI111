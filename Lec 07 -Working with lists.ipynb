{
 "cells": [
  {
   "cell_type": "markdown",
   "id": "df1b05d8-ba8f-40c6-89f3-6e0280c78e08",
   "metadata": {
    "editable": true,
    "slideshow": {
     "slide_type": "slide"
    },
    "tags": []
   },
   "source": [
    "# Working with lists\n",
    "\n",
    "Lists are very versatile sequence objects. Here we discuss the most common operations that are used with them."
   ]
  },
  {
   "cell_type": "markdown",
   "id": "8c86cd1f-32c3-4d5e-a7aa-979e5d4ab4c8",
   "metadata": {
    "editable": true,
    "slideshow": {
     "slide_type": "slide"
    },
    "tags": []
   },
   "source": [
    "## range()"
   ]
  },
  {
   "cell_type": "markdown",
   "id": "52ec5568-9ce6-4b4c-8cca-7fce751d35e9",
   "metadata": {
    "editable": true,
    "slideshow": {
     "slide_type": ""
    },
    "tags": []
   },
   "source": [
    "`range(start, end, step)` returns an *iterator*, yielding _start_, _start_ + _step_, _start_ + 2 _step_, ... up to but not including _end_. "
   ]
  },
  {
   "cell_type": "code",
   "execution_count": 1,
   "id": "f915f928-2365-4aae-9a69-198579180cf7",
   "metadata": {
    "editable": true,
    "slideshow": {
     "slide_type": ""
    },
    "tags": []
   },
   "outputs": [
    {
     "data": {
      "text/plain": [
       "range(0, 10)"
      ]
     },
     "execution_count": 1,
     "metadata": {},
     "output_type": "execute_result"
    }
   ],
   "source": [
    "range(10)"
   ]
  },
  {
   "cell_type": "code",
   "execution_count": 1,
   "id": "4ca792c3-96f1-4065-b52d-4b51b7427bb6",
   "metadata": {
    "editable": true,
    "slideshow": {
     "slide_type": ""
    },
    "tags": []
   },
   "outputs": [
    {
     "data": {
      "text/plain": [
       "[0, 1, 2, 3, 4, 5, 6, 7, 8, 9]"
      ]
     },
     "execution_count": 1,
     "metadata": {},
     "output_type": "execute_result"
    }
   ],
   "source": [
    "list(range(10))"
   ]
  },
  {
   "cell_type": "code",
   "execution_count": 3,
   "id": "32a4898d-9450-4aa8-bf8b-9f66e5af2f36",
   "metadata": {
    "editable": true,
    "slideshow": {
     "slide_type": ""
    },
    "tags": []
   },
   "outputs": [
    {
     "data": {
      "text/plain": [
       "[3, 5, 7, 9, 11]"
      ]
     },
     "execution_count": 3,
     "metadata": {},
     "output_type": "execute_result"
    }
   ],
   "source": [
    "list(range(3,12,2))"
   ]
  },
  {
   "cell_type": "markdown",
   "id": "26913f6f-ae72-4ee5-aa07-ff03a577a4f4",
   "metadata": {
    "editable": true,
    "slideshow": {
     "slide_type": "slide"
    },
    "tags": []
   },
   "source": [
    "`range` is frequently used as a dummy iterator in loops."
   ]
  },
  {
   "cell_type": "code",
   "execution_count": 5,
   "id": "fc6f99d8-94ed-416a-83a4-46a10ec7a6ba",
   "metadata": {
    "editable": true,
    "slideshow": {
     "slide_type": ""
    },
    "tags": []
   },
   "outputs": [
    {
     "name": "stdout",
     "output_type": "stream",
     "text": [
      "Hello\n",
      "Hello\n",
      "Hello\n",
      "Hello\n",
      "Hello\n",
      "Hello\n",
      "Hello\n",
      "Hello\n",
      "Hello\n",
      "Hello\n"
     ]
    }
   ],
   "source": [
    "for i in range(10):\n",
    "    print(\"Hello\")"
   ]
  },
  {
   "cell_type": "markdown",
   "id": "ed0b9656-ea8f-424a-88c7-847446a3bccb",
   "metadata": {
    "editable": true,
    "slideshow": {
     "slide_type": "slide"
    },
    "tags": []
   },
   "source": [
    "## `sum()`"
   ]
  },
  {
   "cell_type": "markdown",
   "id": "6455c65d-2602-4eb9-9806-3c8dbf4002c0",
   "metadata": {
    "editable": true,
    "slideshow": {
     "slide_type": ""
    },
    "tags": []
   },
   "source": [
    "The sum of the elements of an iterable."
   ]
  },
  {
   "cell_type": "code",
   "execution_count": 6,
   "id": "2bba95cf-f4ae-4384-9cac-a3076402a119",
   "metadata": {
    "editable": true,
    "slideshow": {
     "slide_type": ""
    },
    "tags": []
   },
   "outputs": [
    {
     "data": {
      "text/plain": [
       "5"
      ]
     },
     "execution_count": 6,
     "metadata": {},
     "output_type": "execute_result"
    }
   ],
   "source": [
    "L = [3, -2, 4, -1, 1]\n",
    "sum(L)"
   ]
  },
  {
   "cell_type": "code",
   "execution_count": 9,
   "id": "e7be696f-3bab-418d-a2ca-fa73fc07b653",
   "metadata": {
    "editable": true,
    "slideshow": {
     "slide_type": ""
    },
    "tags": []
   },
   "outputs": [
    {
     "data": {
      "text/plain": [
       "5050"
      ]
     },
     "execution_count": 9,
     "metadata": {},
     "output_type": "execute_result"
    }
   ],
   "source": [
    "sum(range(101))"
   ]
  },
  {
   "cell_type": "markdown",
   "id": "a55286b8-f5e8-49f8-8641-857476e0335c",
   "metadata": {
    "editable": true,
    "slideshow": {
     "slide_type": "slide"
    },
    "tags": []
   },
   "source": [
    "## `min(), max()`"
   ]
  },
  {
   "cell_type": "markdown",
   "id": "6ad32e33-4a18-4438-ae60-496456bc5892",
   "metadata": {
    "editable": true,
    "slideshow": {
     "slide_type": ""
    },
    "tags": []
   },
   "source": [
    "The minimum and the maximum value in a list:"
   ]
  },
  {
   "cell_type": "code",
   "execution_count": 10,
   "id": "b3bb5017-13a4-4fdc-9c57-55581cba3e03",
   "metadata": {
    "editable": true,
    "slideshow": {
     "slide_type": ""
    },
    "tags": []
   },
   "outputs": [
    {
     "data": {
      "text/plain": [
       "(-2, 4)"
      ]
     },
     "execution_count": 10,
     "metadata": {},
     "output_type": "execute_result"
    }
   ],
   "source": [
    "L = [3, -2, 4, -1, 1]\n",
    "min(L), max(L)"
   ]
  },
  {
   "cell_type": "markdown",
   "id": "327192f0-9cfe-4cdd-9df2-ede141c227da",
   "metadata": {
    "editable": true,
    "slideshow": {
     "slide_type": "slide"
    },
    "tags": []
   },
   "source": [
    "## `enumerate()`"
   ]
  },
  {
   "cell_type": "markdown",
   "id": "c54b3761-644c-4036-973c-e1244a431f25",
   "metadata": {
    "editable": true,
    "slideshow": {
     "slide_type": ""
    },
    "tags": []
   },
   "source": [
    "The `enumerate()` function returns _(index, value)_ tuples."
   ]
  },
  {
   "cell_type": "code",
   "execution_count": 9,
   "id": "ccb27f98-2557-4516-b219-659519af5564",
   "metadata": {
    "editable": true,
    "slideshow": {
     "slide_type": ""
    },
    "tags": []
   },
   "outputs": [
    {
     "data": {
      "text/plain": [
       "[(0, 3), (1, -2), (2, 4), (3, -1), (4, 1)]"
      ]
     },
     "execution_count": 9,
     "metadata": {},
     "output_type": "execute_result"
    }
   ],
   "source": [
    "L = [3, -2, 4, -1, 1]\n",
    "list(enumerate(L))"
   ]
  },
  {
   "cell_type": "markdown",
   "id": "3de8f490-82da-49b2-99a4-f6d73e08f707",
   "metadata": {},
   "source": [
    "This can be useful when we need the index values in an iteration as well."
   ]
  },
  {
   "cell_type": "code",
   "execution_count": 10,
   "id": "6689e3fa-c1f3-4e85-bce7-b141b42a8d05",
   "metadata": {
    "editable": true,
    "slideshow": {
     "slide_type": ""
    },
    "tags": []
   },
   "outputs": [
    {
     "name": "stdout",
     "output_type": "stream",
     "text": [
      "Element 0  =  3\n",
      "Element 1  =  -2\n",
      "Element 2  =  4\n",
      "Element 3  =  -1\n",
      "Element 4  =  1\n"
     ]
    }
   ],
   "source": [
    "for i,x in enumerate(L):\n",
    "    print(\"Element\", i, \" = \", x)"
   ]
  },
  {
   "cell_type": "markdown",
   "id": "330c1665-f393-44f2-a113-f359bffd4962",
   "metadata": {
    "editable": true,
    "slideshow": {
     "slide_type": "slide"
    },
    "tags": []
   },
   "source": [
    "## `zip()`"
   ]
  },
  {
   "cell_type": "markdown",
   "id": "059404c8-a225-4a6f-b4ae-1b724acdc610",
   "metadata": {
    "editable": true,
    "slideshow": {
     "slide_type": ""
    },
    "tags": []
   },
   "source": [
    "Suppose we have two lists `[1,2,3]` and `[\"a\",\"b\",\"c\"]`, and we need to form pairs `(1, \"a\")`, `(2, \"b\")`, etc."
   ]
  },
  {
   "cell_type": "code",
   "execution_count": 11,
   "id": "a6a01f53-e577-419d-a8c3-3e31b68c1e98",
   "metadata": {
    "editable": true,
    "slideshow": {
     "slide_type": ""
    },
    "tags": []
   },
   "outputs": [
    {
     "name": "stdout",
     "output_type": "stream",
     "text": [
      "(1, 'a')\n",
      "(2, 'b')\n",
      "(3, 'c')\n"
     ]
    }
   ],
   "source": [
    "for t in zip([1,2,3], [\"a\",\"b\",\"c\"]):\n",
    "    print(t)"
   ]
  },
  {
   "cell_type": "markdown",
   "id": "31825fd8-338d-4ee2-b15f-d7193b12ab20",
   "metadata": {
    "editable": true,
    "slideshow": {
     "slide_type": ""
    },
    "tags": []
   },
   "source": [
    "Unpaired elements are ignored: "
   ]
  },
  {
   "cell_type": "code",
   "execution_count": 12,
   "id": "ed0c3fad-e6fa-45b7-b1a5-a3a36d0d8083",
   "metadata": {
    "editable": true,
    "slideshow": {
     "slide_type": ""
    },
    "tags": []
   },
   "outputs": [
    {
     "name": "stdout",
     "output_type": "stream",
     "text": [
      "(1, 'a')\n",
      "(2, 'b')\n",
      "(3, 'c')\n"
     ]
    }
   ],
   "source": [
    "for t in zip([1,2,3,4], [\"a\",\"b\",\"c\"]):\n",
    "    print(t)"
   ]
  },
  {
   "cell_type": "markdown",
   "id": "b99be6ca-c6de-40b5-aa60-27bbd0be18c2",
   "metadata": {
    "collapsed": true,
    "editable": true,
    "jupyter": {
     "outputs_hidden": true
    },
    "slideshow": {
     "slide_type": "slide"
    },
    "tags": []
   },
   "source": [
    "## `sorted()`"
   ]
  },
  {
   "cell_type": "markdown",
   "id": "ca7838cb-af8c-4fc6-bbc7-19b4e236ef23",
   "metadata": {
    "editable": true,
    "slideshow": {
     "slide_type": ""
    },
    "tags": []
   },
   "source": [
    "Takes a list (or tuple, or string, or any other sequential object) and returns a new list with elements ordered."
   ]
  },
  {
   "cell_type": "code",
   "execution_count": 13,
   "id": "7ce5270c-91c5-49ab-90c8-33759bc59231",
   "metadata": {
    "editable": true,
    "slideshow": {
     "slide_type": ""
    },
    "tags": []
   },
   "outputs": [
    {
     "data": {
      "text/plain": [
       "[-32, -1, 2, 3, 4, 8, 17]"
      ]
     },
     "execution_count": 13,
     "metadata": {},
     "output_type": "execute_result"
    }
   ],
   "source": [
    "sorted([4,-1,3,8,2,17,-32])"
   ]
  },
  {
   "cell_type": "markdown",
   "id": "79643349-15cd-4f98-b1ac-8b07d42af7dd",
   "metadata": {
    "editable": true,
    "slideshow": {
     "slide_type": "slide"
    },
    "tags": []
   },
   "source": [
    "Reverse sort"
   ]
  },
  {
   "cell_type": "code",
   "execution_count": 14,
   "id": "70597933-1ebc-494b-8777-f459c091ac11",
   "metadata": {
    "editable": true,
    "slideshow": {
     "slide_type": ""
    },
    "tags": []
   },
   "outputs": [
    {
     "data": {
      "text/plain": [
       "[17, 8, 4, 3, 2, -1, -32]"
      ]
     },
     "execution_count": 14,
     "metadata": {},
     "output_type": "execute_result"
    }
   ],
   "source": [
    "sorted([4,-1,3,8,2,17,-32], reverse=True)"
   ]
  },
  {
   "cell_type": "markdown",
   "id": "61161d0f-f8f3-4be1-ab4d-185b7cdb5578",
   "metadata": {
    "editable": true,
    "slideshow": {
     "slide_type": "slide"
    },
    "tags": []
   },
   "source": [
    "If elements are themselves iterables, sorting is done with respect to the first element, then to the second element, etc. (lexicographic)"
   ]
  },
  {
   "cell_type": "code",
   "execution_count": 15,
   "id": "e8121845-a05f-41b9-ab71-5ab87be9f64e",
   "metadata": {
    "editable": true,
    "slideshow": {
     "slide_type": ""
    },
    "tags": []
   },
   "outputs": [
    {
     "data": {
      "text/plain": [
       "[[-1, 4], [0, 6], [1, 1], [1, 2], [5, -2], [5, 1]]"
      ]
     },
     "execution_count": 15,
     "metadata": {},
     "output_type": "execute_result"
    }
   ],
   "source": [
    "sorted([[1,2],[-1,4],[1,1], [5,1],[0,6],[5,-2]])"
   ]
  },
  {
   "cell_type": "markdown",
   "id": "8174915a-fb44-45b5-a658-570488123b14",
   "metadata": {
    "editable": true,
    "slideshow": {
     "slide_type": "slide"
    },
    "tags": []
   },
   "source": [
    "## Advanced sorting\n",
    "\n",
    "You can specify more complex sort orders with the `key` parameter.\n",
    "\n",
    "### Example: Sort by length"
   ]
  },
  {
   "cell_type": "code",
   "execution_count": 1,
   "id": "13c93fc4-98f2-45d6-a27f-aea05e191fa3",
   "metadata": {
    "editable": true,
    "slideshow": {
     "slide_type": ""
    },
    "tags": []
   },
   "outputs": [
    {
     "data": {
      "text/plain": [
       "['Van', 'İzmir', 'Ankara', 'İstanbul', 'Kahramanmaraş']"
      ]
     },
     "execution_count": 1,
     "metadata": {},
     "output_type": "execute_result"
    }
   ],
   "source": [
    "cities = [\"İstanbul\", \"İzmir\", \"Ankara\", \"Van\", \"Kahramanmaraş\"]\n",
    "sorted(cities, key=len)"
   ]
  },
  {
   "cell_type": "markdown",
   "id": "23ea17a1-bbe1-45e6-a0c0-52a96de31788",
   "metadata": {
    "editable": true,
    "slideshow": {
     "slide_type": ""
    },
    "tags": []
   },
   "source": [
    "The `key` parameter takes a function which is applied to each element first. The outcome of this function is then used to order the elements."
   ]
  },
  {
   "cell_type": "markdown",
   "id": "5ae4c70a-d240-47f4-b8c4-affc9dbac70f",
   "metadata": {
    "editable": true,
    "slideshow": {
     "slide_type": "slide"
    },
    "tags": []
   },
   "source": [
    "### Example: Sort by second elements"
   ]
  },
  {
   "cell_type": "code",
   "execution_count": 10,
   "id": "0e86548e-c2cd-4ab7-81fa-9a856f7cfc0e",
   "metadata": {
    "editable": true,
    "slideshow": {
     "slide_type": ""
    },
    "tags": []
   },
   "outputs": [
    {
     "data": {
      "text/plain": [
       "[('Selma', 5),\n",
       " ('Ziya', 16),\n",
       " ('Ali', 16),\n",
       " ('Hasan', 22),\n",
       " ('Ayşe', 24),\n",
       " ('Meral', 37)]"
      ]
     },
     "execution_count": 10,
     "metadata": {},
     "output_type": "execute_result"
    }
   ],
   "source": [
    "ages = [(\"Ziya\",16), (\"Ali\", 16), (\"Ayşe\", 24), (\"Hasan\", 22), (\"Meral\", 37), (\"Selma\",5)]\n",
    "sorted(ages, key = lambda x:x[1])"
   ]
  },
  {
   "cell_type": "markdown",
   "id": "4d3aec84-0003-4b0c-86a4-aac07c938b11",
   "metadata": {
    "editable": true,
    "slideshow": {
     "slide_type": "slide"
    },
    "tags": []
   },
   "source": [
    "# List methods"
   ]
  },
  {
   "cell_type": "markdown",
   "id": "ab9b2db4-5ccb-4d7e-a0b0-c6b4e84810e0",
   "metadata": {
    "editable": true,
    "slideshow": {
     "slide_type": ""
    },
    "tags": []
   },
   "source": [
    "These are functions defined in the `list` class. They are accessed with the dot (`.`) notation.\n",
    "\n",
    "The `dir(list)` function call returns a full list."
   ]
  },
  {
   "cell_type": "code",
   "execution_count": 16,
   "id": "2ef8a44a-f254-42c1-a3b9-ec42dd93ca5a",
   "metadata": {
    "editable": true,
    "slideshow": {
     "slide_type": ""
    },
    "tags": []
   },
   "outputs": [
    {
     "data": {
      "text/plain": [
       "['__add__',\n",
       " '__class__',\n",
       " '__class_getitem__',\n",
       " '__contains__',\n",
       " '__delattr__',\n",
       " '__delitem__',\n",
       " '__dir__',\n",
       " '__doc__',\n",
       " '__eq__',\n",
       " '__format__',\n",
       " '__ge__',\n",
       " '__getattribute__',\n",
       " '__getitem__',\n",
       " '__getstate__',\n",
       " '__gt__',\n",
       " '__hash__',\n",
       " '__iadd__',\n",
       " '__imul__',\n",
       " '__init__',\n",
       " '__init_subclass__',\n",
       " '__iter__',\n",
       " '__le__',\n",
       " '__len__',\n",
       " '__lt__',\n",
       " '__mul__',\n",
       " '__ne__',\n",
       " '__new__',\n",
       " '__reduce__',\n",
       " '__reduce_ex__',\n",
       " '__repr__',\n",
       " '__reversed__',\n",
       " '__rmul__',\n",
       " '__setattr__',\n",
       " '__setitem__',\n",
       " '__sizeof__',\n",
       " '__str__',\n",
       " '__subclasshook__',\n",
       " 'append',\n",
       " 'clear',\n",
       " 'copy',\n",
       " 'count',\n",
       " 'extend',\n",
       " 'index',\n",
       " 'insert',\n",
       " 'pop',\n",
       " 'remove',\n",
       " 'reverse',\n",
       " 'sort']"
      ]
     },
     "execution_count": 16,
     "metadata": {},
     "output_type": "execute_result"
    }
   ],
   "source": [
    "dir(list)"
   ]
  },
  {
   "cell_type": "code",
   "execution_count": 12,
   "id": "444bcac8-c1ff-4ed7-9143-782eccc6f287",
   "metadata": {
    "editable": true,
    "slideshow": {
     "slide_type": "slide"
    },
    "tags": []
   },
   "outputs": [
    {
     "name": "stdout",
     "output_type": "stream",
     "text": [
      "append : Append object to the end of the list.\n",
      "--------------------------------------------------\n",
      "clear : Remove all items from list.\n",
      "--------------------------------------------------\n",
      "copy : Return a shallow copy of the list.\n",
      "--------------------------------------------------\n",
      "count : Return number of occurrences of value.\n",
      "--------------------------------------------------\n",
      "extend : Extend list by appending elements from the iterable.\n",
      "--------------------------------------------------\n",
      "index : Return first index of value.\n",
      "\n",
      "Raises ValueError if the value is not present.\n",
      "--------------------------------------------------\n",
      "insert : Insert object before index.\n",
      "--------------------------------------------------\n",
      "pop : Remove and return item at index (default last).\n",
      "\n",
      "Raises IndexError if list is empty or index is out of range.\n",
      "--------------------------------------------------\n",
      "remove : Remove first occurrence of value.\n",
      "\n",
      "Raises ValueError if the value is not present.\n",
      "--------------------------------------------------\n",
      "reverse : Reverse *IN PLACE*.\n",
      "--------------------------------------------------\n",
      "sort : Sort the list in ascending order and return None.\n",
      "\n",
      "The sort is in-place (i.e. the list itself is modified) and stable (i.e. the\n",
      "order of two equal elements is maintained).\n",
      "\n",
      "If a key function is given, apply it once to each list item and sort them,\n",
      "ascending or descending, according to their function values.\n",
      "\n",
      "The reverse flag can be set to sort in descending order.\n",
      "--------------------------------------------------\n"
     ]
    }
   ],
   "source": [
    "for m in dir(list):\n",
    "    if \"__\" not in m:\n",
    "        print(m, \":\", getattr(list,m).__doc__)\n",
    "        print(\"-\"*50)"
   ]
  },
  {
   "cell_type": "markdown",
   "id": "cebc5806-6557-41ce-bce3-c920d095adac",
   "metadata": {
    "editable": true,
    "slideshow": {
     "slide_type": "slide"
    },
    "tags": []
   },
   "source": [
    "## Appending a new element to the end of a list"
   ]
  },
  {
   "cell_type": "code",
   "execution_count": 17,
   "id": "9f897c85-9f3b-4f55-ae2d-b25d8335a33c",
   "metadata": {
    "editable": true,
    "slideshow": {
     "slide_type": ""
    },
    "tags": []
   },
   "outputs": [
    {
     "data": {
      "text/plain": [
       "[1, 2, 3, 4]"
      ]
     },
     "execution_count": 17,
     "metadata": {},
     "output_type": "execute_result"
    }
   ],
   "source": [
    "L = [1,2,3]\n",
    "L.append(4)\n",
    "L"
   ]
  },
  {
   "cell_type": "markdown",
   "id": "ad06c3a8-6a39-4e1d-8116-1f722a52254b",
   "metadata": {
    "editable": true,
    "slideshow": {
     "slide_type": "slide"
    },
    "tags": []
   },
   "source": [
    "## Extending a list with another list"
   ]
  },
  {
   "cell_type": "markdown",
   "id": "3713e8ef-79c7-45fa-85d1-2190cff08595",
   "metadata": {
    "editable": true,
    "slideshow": {
     "slide_type": ""
    },
    "tags": []
   },
   "source": [
    "`.append()` appends the list as an element by itself:"
   ]
  },
  {
   "cell_type": "code",
   "execution_count": 17,
   "id": "849c87c6-3664-4495-9f20-1670fe46b812",
   "metadata": {
    "editable": true,
    "slideshow": {
     "slide_type": ""
    },
    "tags": []
   },
   "outputs": [
    {
     "data": {
      "text/plain": [
       "[1, 2, 3, 4, [5, 6]]"
      ]
     },
     "execution_count": 17,
     "metadata": {},
     "output_type": "execute_result"
    }
   ],
   "source": [
    "L = [1,2,3,4]\n",
    "L.append([5,6])\n",
    "L"
   ]
  },
  {
   "cell_type": "markdown",
   "id": "3d95e93b-21fb-42a4-bb75-6864cbcee7a6",
   "metadata": {
    "editable": true,
    "slideshow": {
     "slide_type": ""
    },
    "tags": []
   },
   "source": [
    "To append every element separately, use the `.extend()` method."
   ]
  },
  {
   "cell_type": "code",
   "execution_count": 18,
   "id": "71701ba8-e4cd-477c-84d0-d32c01125761",
   "metadata": {
    "editable": true,
    "slideshow": {
     "slide_type": ""
    },
    "tags": []
   },
   "outputs": [
    {
     "data": {
      "text/plain": [
       "[1, 2, 3, 4, 5, 6]"
      ]
     },
     "execution_count": 18,
     "metadata": {},
     "output_type": "execute_result"
    }
   ],
   "source": [
    "L = [1,2,3,4]\n",
    "L.extend([5,6])\n",
    "L"
   ]
  },
  {
   "cell_type": "markdown",
   "id": "489ad053-7f63-4792-beec-582801260441",
   "metadata": {
    "editable": true,
    "slideshow": {
     "slide_type": "subslide"
    },
    "tags": []
   },
   "source": [
    "Alternatively, use `L = L + [5,6]` or `L += [5,6]`"
   ]
  },
  {
   "cell_type": "code",
   "execution_count": 19,
   "id": "7c152b3a-7674-4eca-89bb-b44cd7dd33a1",
   "metadata": {
    "editable": true,
    "slideshow": {
     "slide_type": ""
    },
    "tags": []
   },
   "outputs": [
    {
     "data": {
      "text/plain": [
       "[1, 2, 3, 4, 5, 6]"
      ]
     },
     "execution_count": 19,
     "metadata": {},
     "output_type": "execute_result"
    }
   ],
   "source": [
    "L = [1,2,3,4]\n",
    "L += [5,6]\n",
    "L"
   ]
  },
  {
   "cell_type": "markdown",
   "id": "fac3e43a-62f7-4219-b2f6-abe8c5f32541",
   "metadata": {
    "editable": true,
    "slideshow": {
     "slide_type": "slide"
    },
    "tags": []
   },
   "source": [
    "## Find the location of a value in the list"
   ]
  },
  {
   "cell_type": "code",
   "execution_count": 49,
   "id": "75f5a671-92ab-40da-bcde-8f6479fb7b23",
   "metadata": {},
   "outputs": [
    {
     "name": "stdout",
     "output_type": "stream",
     "text": [
      "First occurrence at 1\n",
      "Second occurrence at 4\n"
     ]
    }
   ],
   "source": [
    "L = [\"a\",\"b\",\"c\",\"a\",\"b\",\"c\"]\n",
    "first_index = L.index(\"b\")\n",
    "print(\"First occurrence at\", first_index)\n",
    "second_index = L.index(\"b\", first_index+1)\n",
    "print(\"Second occurrence at\", second_index)"
   ]
  },
  {
   "cell_type": "markdown",
   "id": "f841dc07-99c6-48e7-b594-4327e53f8d7b",
   "metadata": {
    "editable": true,
    "slideshow": {
     "slide_type": "slide"
    },
    "tags": []
   },
   "source": [
    "## Insert an element at a specific index location"
   ]
  },
  {
   "cell_type": "code",
   "execution_count": 20,
   "id": "0119ff63-f1cf-443c-98b0-b748519f1bf9",
   "metadata": {
    "editable": true,
    "slideshow": {
     "slide_type": ""
    },
    "tags": []
   },
   "outputs": [
    {
     "data": {
      "text/plain": [
       "[1, 2, 3, 'abc', 4]"
      ]
     },
     "execution_count": 20,
     "metadata": {},
     "output_type": "execute_result"
    }
   ],
   "source": [
    "L = [1,2,3,4]\n",
    "L.insert(3,\"abc\") # insert `\"abc\"` before index 3 (value 4)\n",
    "L"
   ]
  },
  {
   "cell_type": "markdown",
   "id": "1796dc37-3846-49e7-8172-7e9f8876ef1f",
   "metadata": {
    "editable": true,
    "slideshow": {
     "slide_type": "slide"
    },
    "tags": []
   },
   "source": [
    "# List comprehensions"
   ]
  },
  {
   "cell_type": "markdown",
   "id": "cd0ac3aa-3cbc-4b71-9c86-b5f53bd3e0be",
   "metadata": {},
   "source": [
    "Frequently we need to grow a list within a loop. Here is one way (not the best) of doing it:"
   ]
  },
  {
   "cell_type": "code",
   "execution_count": 25,
   "id": "6cc5f537-4739-4b06-9f81-6d98fbbcff26",
   "metadata": {},
   "outputs": [
    {
     "data": {
      "text/plain": [
       "[0, 1, 4, 9, 16, 25, 36, 49, 64, 81]"
      ]
     },
     "execution_count": 25,
     "metadata": {},
     "output_type": "execute_result"
    }
   ],
   "source": [
    "L = []\n",
    "for x in range(10):\n",
    "    L.append(x**2)\n",
    "L"
   ]
  },
  {
   "cell_type": "markdown",
   "id": "9fa78ade-13c2-4369-b422-4a576de89af9",
   "metadata": {
    "editable": true,
    "slideshow": {
     "slide_type": ""
    },
    "tags": []
   },
   "source": [
    "Here is the same thing in _list comprehension_ notation."
   ]
  },
  {
   "cell_type": "code",
   "execution_count": 26,
   "id": "8ed6fe90-098d-487e-8423-241a0aa98d54",
   "metadata": {
    "editable": true,
    "slideshow": {
     "slide_type": ""
    },
    "tags": []
   },
   "outputs": [
    {
     "data": {
      "text/plain": [
       "[0, 1, 4, 9, 16, 25, 36, 49, 64, 81]"
      ]
     },
     "execution_count": 26,
     "metadata": {},
     "output_type": "execute_result"
    }
   ],
   "source": [
    "[x*x for x in range(10)]"
   ]
  },
  {
   "cell_type": "markdown",
   "id": "e7f0fd35-7bf3-42de-ab68-1892749ccf0d",
   "metadata": {
    "editable": true,
    "slideshow": {
     "slide_type": ""
    },
    "tags": []
   },
   "source": [
    "This is not only a simpler notation, but also executes faster, because it uses an optimized internal loop. This difference can be significant when dealing with long lists."
   ]
  },
  {
   "cell_type": "markdown",
   "id": "21f0329b-dfa7-481b-86f5-5f8d95b31dbc",
   "metadata": {
    "editable": true,
    "slideshow": {
     "slide_type": "slide"
    },
    "tags": []
   },
   "source": [
    "## Exercise\n",
    "A list of temperature values are given in units of Fahrenheit. Use a list comprehension to convert them to Celsius."
   ]
  },
  {
   "cell_type": "code",
   "execution_count": 19,
   "id": "ce7f1361-b518-4f58-a268-f3cead68c8ec",
   "metadata": {
    "editable": true,
    "slideshow": {
     "slide_type": ""
    },
    "tags": []
   },
   "outputs": [
    {
     "data": {
      "text/plain": [
       "[40.0, 35.0, 30.0, 25.0, 20.0, 0.0]"
      ]
     },
     "execution_count": 19,
     "metadata": {},
     "output_type": "execute_result"
    }
   ],
   "source": [
    "temp_F = [104, 95, 86, 77, 68, 32]\n",
    "temp_C = [ ... ]\n",
    "temp_C"
   ]
  },
  {
   "cell_type": "markdown",
   "id": "d2636cab-51a3-4006-9f09-19d2899a232c",
   "metadata": {
    "editable": true,
    "slideshow": {
     "slide_type": "slide"
    },
    "tags": []
   },
   "source": [
    "## List comprehension with multiple values\n",
    "\n",
    "One can loop over the data in pairs:"
   ]
  },
  {
   "cell_type": "code",
   "execution_count": 2,
   "id": "502790eb-bb8a-4bb4-a543-51c716d6f6a1",
   "metadata": {
    "editable": true,
    "slideshow": {
     "slide_type": ""
    },
    "tags": []
   },
   "outputs": [
    {
     "data": {
      "text/plain": [
       "[3, 2, 10]"
      ]
     },
     "execution_count": 2,
     "metadata": {},
     "output_type": "execute_result"
    }
   ],
   "source": [
    "[x + y for x,y in ((1,2), (3,-1), (2,8))]"
   ]
  },
  {
   "cell_type": "markdown",
   "id": "d066bf52-23f1-42fc-b2ed-cc29f0e63755",
   "metadata": {
    "editable": true,
    "slideshow": {
     "slide_type": ""
    },
    "tags": []
   },
   "source": [
    "If the `x` and `y` are given in separate lists, use the `zip()` function."
   ]
  },
  {
   "cell_type": "code",
   "execution_count": 4,
   "id": "a7fdf40a-3693-45a1-9172-ae12cde74bb4",
   "metadata": {
    "editable": true,
    "slideshow": {
     "slide_type": ""
    },
    "tags": []
   },
   "outputs": [
    {
     "data": {
      "text/plain": [
       "[3, 2, 10]"
      ]
     },
     "execution_count": 4,
     "metadata": {},
     "output_type": "execute_result"
    }
   ],
   "source": [
    "Lx = [1, 3, 2]\n",
    "Ly = [2,- 1, 8]\n",
    "[x + y for x,y in zip(Lx, Ly)]"
   ]
  },
  {
   "cell_type": "markdown",
   "id": "d876364c-433a-4cf4-b9e8-7e0677f9b05f",
   "metadata": {
    "editable": true,
    "slideshow": {
     "slide_type": "slide"
    },
    "tags": []
   },
   "source": [
    "## Exercise\n",
    "The *body-mass index* (BMI) is calculated by dividing a person's weight in kilograms by the square of their height in meters.\n",
    "\n",
    "Names, weights, and heights of several people are given in three different lists. Write a function `bmi(names, weights, heights)` that returns a list of tuples consisting of names and that person's BMI.\n",
    "\n",
    "Use `zip()` to combine names, weights, and heights, and a list comprehension to generate the BMI values."
   ]
  },
  {
   "cell_type": "code",
   "execution_count": 27,
   "id": "f25b0431-4604-41c3-8a3c-5f8729adc9b9",
   "metadata": {},
   "outputs": [],
   "source": [
    "names = [\"Kaan\", \"Meral\", \"Ziya\", \"Mehmet\", \"Fatma\"]\n",
    "weights = [94, 60, 110, 96, 65]\n",
    "heights = [1.8, 1.6, 1.82, 1.75, 1.67]\n"
   ]
  },
  {
   "cell_type": "code",
   "execution_count": 28,
   "id": "f8c1dff3-a853-46e5-9b57-630d276351fa",
   "metadata": {
    "editable": true,
    "slideshow": {
     "slide_type": ""
    },
    "tags": []
   },
   "outputs": [
    {
     "data": {
      "text/plain": [
       "[('Kaan', 29.012345679012345),\n",
       " ('Meral', 23.437499999999996),\n",
       " ('Ziya', 33.20854969206617),\n",
       " ('Mehmet', 31.346938775510203),\n",
       " ('Fatma', 23.306680053067517)]"
      ]
     },
     "execution_count": 28,
     "metadata": {},
     "output_type": "execute_result"
    }
   ],
   "source": [
    "def bmi(names, weights, heights):\n",
    "    bmi_list = # your code here\n",
    "    return bmi_list\n",
    "bmi(names, weights, heights)"
   ]
  },
  {
   "cell_type": "markdown",
   "id": "48a7862a-9c3f-4b70-8eac-24742e67d52f",
   "metadata": {
    "editable": true,
    "slideshow": {
     "slide_type": "slide"
    },
    "tags": []
   },
   "source": [
    "## Nested iteration with list comprehensions"
   ]
  },
  {
   "cell_type": "markdown",
   "id": "bd02e235-83ff-476a-983c-c85caafd4340",
   "metadata": {
    "editable": true,
    "slideshow": {
     "slide_type": ""
    },
    "tags": []
   },
   "source": [
    "Suppose we want to pair every element from two iterables (the \"Cartesian product\").\n",
    "\n",
    "The \"loopy\" way:"
   ]
  },
  {
   "cell_type": "code",
   "execution_count": 5,
   "id": "91b2aa86-67a8-4358-841c-53196ca3c5e2",
   "metadata": {
    "editable": true,
    "slideshow": {
     "slide_type": ""
    },
    "tags": []
   },
   "outputs": [
    {
     "data": {
      "text/plain": [
       "['ax', 'ay', 'az', 'bx', 'by', 'bz', 'cx', 'cy', 'cz', 'dx', 'dy', 'dz']"
      ]
     },
     "execution_count": 5,
     "metadata": {},
     "output_type": "execute_result"
    }
   ],
   "source": [
    "L = []\n",
    "for s1 in \"abcd\":\n",
    "    for s2 in \"xyz\":\n",
    "        L.append(s1+s2)\n",
    "L"
   ]
  },
  {
   "cell_type": "markdown",
   "id": "19f1bd3f-19da-4072-89ab-00145e5948a1",
   "metadata": {
    "editable": true,
    "slideshow": {
     "slide_type": "subslide"
    },
    "tags": []
   },
   "source": [
    "The \"Pythonic\" way"
   ]
  },
  {
   "cell_type": "code",
   "execution_count": 57,
   "id": "c6444149-3ac0-40f0-b813-7d4a05096230",
   "metadata": {
    "editable": true,
    "slideshow": {
     "slide_type": ""
    },
    "tags": []
   },
   "outputs": [
    {
     "data": {
      "text/plain": [
       "['ax', 'ay', 'az', 'bx', 'by', 'bz', 'cx', 'cy', 'cz']"
      ]
     },
     "execution_count": 57,
     "metadata": {},
     "output_type": "execute_result"
    }
   ],
   "source": [
    "[s1+s2 for s1 in \"abc\" for s2 in \"xyz\"]"
   ]
  },
  {
   "cell_type": "markdown",
   "id": "0f16e191-29dc-4125-aeba-75516ef94b1b",
   "metadata": {
    "editable": true,
    "slideshow": {
     "slide_type": "slide"
    },
    "tags": []
   },
   "source": [
    "## Filtering\n",
    "We can add a condition to a list comprehension."
   ]
  },
  {
   "cell_type": "code",
   "execution_count": 35,
   "id": "8e057b23-670d-4c5b-860f-ef181af8bab7",
   "metadata": {
    "editable": true,
    "slideshow": {
     "slide_type": ""
    },
    "tags": []
   },
   "outputs": [
    {
     "data": {
      "text/plain": [
       "[(9, 81), (8, 64), (7, 49)]"
      ]
     },
     "execution_count": 35,
     "metadata": {},
     "output_type": "execute_result"
    }
   ],
   "source": [
    "[(i, i*i) for i in [2,4,9,0,1,8,7] if i>5]"
   ]
  },
  {
   "cell_type": "markdown",
   "id": "b505969c-ebc1-43d9-9747-0447ce433ca0",
   "metadata": {
    "editable": true,
    "slideshow": {
     "slide_type": "subslide"
    },
    "tags": []
   },
   "source": [
    "In nested loops each loop can have its own condition."
   ]
  },
  {
   "cell_type": "code",
   "execution_count": 36,
   "id": "6bb64813-9170-4513-a64c-bb93b0d73b0c",
   "metadata": {
    "editable": true,
    "slideshow": {
     "slide_type": ""
    },
    "tags": []
   },
   "outputs": [
    {
     "data": {
      "text/plain": [
       "[7, 10]"
      ]
     },
     "execution_count": 36,
     "metadata": {},
     "output_type": "execute_result"
    }
   ],
   "source": [
    "[ a+b for a in (3,2,6) if a > 5 for b in (1,9,4) if b < 5 ]"
   ]
  },
  {
   "cell_type": "markdown",
   "id": "75c4bdd5-0ff5-4921-8dce-14b831f5e5ea",
   "metadata": {
    "editable": true,
    "slideshow": {
     "slide_type": "slide"
    },
    "tags": []
   },
   "source": [
    "## Example: Select words containing the letter \"a\""
   ]
  },
  {
   "cell_type": "code",
   "execution_count": 7,
   "id": "20d9ed5d-e587-4247-a215-37caa3bf7056",
   "metadata": {
    "editable": true,
    "slideshow": {
     "slide_type": ""
    },
    "tags": []
   },
   "outputs": [
    {
     "data": {
      "text/plain": [
       "['amet,', 'adipiscing', 'labore', 'magna', 'aliqua.']"
      ]
     },
     "execution_count": 7,
     "metadata": {},
     "output_type": "execute_result"
    }
   ],
   "source": [
    "s = \"\"\"Lorem ipsum dolor sit amet, consectetur adipiscing elit,\n",
    "sed do eiusmod tempor incididunt ut labore et dolore magna aliqua.\"\"\"\n",
    "\n",
    "# s.split() breaks s at spaces and returns a list of substrings.\n",
    "\n",
    "[word for word in s.split() if \"a\" in word]"
   ]
  },
  {
   "cell_type": "markdown",
   "id": "f57c0643-45f6-4b46-927e-f21ade249d61",
   "metadata": {
    "editable": true,
    "slideshow": {
     "slide_type": "slide"
    },
    "tags": []
   },
   "source": [
    "## Example: Pythagorean triples\n",
    "\n",
    "We can also a single condition in a nested loop at the end, using all the loop variables."
   ]
  },
  {
   "cell_type": "code",
   "execution_count": 8,
   "id": "ed2b716f-e603-4b11-9c33-7bb662390594",
   "metadata": {
    "editable": true,
    "slideshow": {
     "slide_type": ""
    },
    "tags": []
   },
   "outputs": [
    {
     "data": {
      "text/plain": [
       "[(3, 4, 5),\n",
       " (5, 12, 13),\n",
       " (6, 8, 10),\n",
       " (7, 24, 25),\n",
       " (8, 15, 17),\n",
       " (9, 12, 15),\n",
       " (9, 40, 41),\n",
       " (10, 24, 26),\n",
       " (11, 60, 61),\n",
       " (12, 16, 20),\n",
       " (12, 35, 37),\n",
       " (13, 84, 85),\n",
       " (14, 48, 50),\n",
       " (15, 20, 25),\n",
       " (15, 36, 39),\n",
       " (16, 30, 34),\n",
       " (16, 63, 65),\n",
       " (18, 24, 30),\n",
       " (18, 80, 82),\n",
       " (20, 21, 29),\n",
       " (20, 48, 52),\n",
       " (21, 28, 35),\n",
       " (21, 72, 75),\n",
       " (24, 32, 40),\n",
       " (24, 45, 51),\n",
       " (24, 70, 74),\n",
       " (25, 60, 65),\n",
       " (27, 36, 45),\n",
       " (28, 45, 53),\n",
       " (30, 40, 50),\n",
       " (30, 72, 78),\n",
       " (32, 60, 68),\n",
       " (33, 44, 55),\n",
       " (33, 56, 65),\n",
       " (35, 84, 91),\n",
       " (36, 48, 60),\n",
       " (36, 77, 85),\n",
       " (39, 52, 65),\n",
       " (39, 80, 89),\n",
       " (40, 42, 58),\n",
       " (40, 75, 85),\n",
       " (42, 56, 70),\n",
       " (45, 60, 75),\n",
       " (48, 55, 73),\n",
       " (48, 64, 80),\n",
       " (51, 68, 85),\n",
       " (54, 72, 90),\n",
       " (57, 76, 95),\n",
       " (60, 63, 87),\n",
       " (65, 72, 97)]"
      ]
     },
     "execution_count": 8,
     "metadata": {},
     "output_type": "execute_result"
    }
   ],
   "source": [
    "[(x,y,z) for x in range(1,100) for y in range(x,100) for z in range(y,100) if x*x + y*y == z*z]"
   ]
  },
  {
   "cell_type": "markdown",
   "id": "ef7661d5-e9dd-46b7-b0f9-cc7fd548ba49",
   "metadata": {
    "editable": true,
    "slideshow": {
     "slide_type": ""
    },
    "tags": []
   },
   "source": [
    "## Exercise\n",
    "\n",
    "A person with a body-mass index greater than 30 is considered obese.\n",
    "\n",
    "Given a list of names, weights, and heights, write a list comprehension with filtering so that it gives a list of the names of obese people."
   ]
  },
  {
   "cell_type": "code",
   "execution_count": 34,
   "id": "1a037493-30b3-4a80-ad5c-38625faca4c5",
   "metadata": {
    "editable": true,
    "slideshow": {
     "slide_type": ""
    },
    "tags": []
   },
   "outputs": [
    {
     "data": {
      "text/plain": [
       "['Ziya', 'Mehmet']"
      ]
     },
     "execution_count": 34,
     "metadata": {},
     "output_type": "execute_result"
    }
   ],
   "source": [
    "names = [\"Kaan\", \"Meral\", \"Ziya\", \"Mehmet\", \"Fatma\"]\n",
    "weights = [94, 60, 110, 96, 65]\n",
    "heights = [1.8, 1.6, 1.82, 1.75, 1.67]\n",
    "\n",
    "[ ... ] # your code here"
   ]
  }
 ],
 "metadata": {
  "kernelspec": {
   "display_name": "Python 3 (ipykernel)",
   "language": "python",
   "name": "python3"
  },
  "language_info": {
   "codemirror_mode": {
    "name": "ipython",
    "version": 3
   },
   "file_extension": ".py",
   "mimetype": "text/x-python",
   "name": "python",
   "nbconvert_exporter": "python",
   "pygments_lexer": "ipython3",
   "version": "3.13.3"
  }
 },
 "nbformat": 4,
 "nbformat_minor": 5
}
