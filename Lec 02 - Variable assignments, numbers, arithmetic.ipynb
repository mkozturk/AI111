{
 "cells": [
  {
   "cell_type": "markdown",
   "id": "b2e7ec52-7d61-464f-85b2-097d237abf77",
   "metadata": {
    "editable": true,
    "slideshow": {
     "slide_type": "slide"
    },
    "tags": []
   },
   "source": [
    "# Variables\n",
    "A *variable* is a name storing a value."
   ]
  },
  {
   "cell_type": "code",
   "execution_count": 3,
   "id": "fdcccf28-eb12-4475-ae10-317a82f362ce",
   "metadata": {
    "editable": true,
    "slideshow": {
     "slide_type": ""
    },
    "tags": []
   },
   "outputs": [
    {
     "name": "stdout",
     "output_type": "stream",
     "text": [
      "x = 5 y = 3.14\n"
     ]
    }
   ],
   "source": [
    "x = 5    # an integer\n",
    "y = 3.14 # a floating-point number\n",
    "print(\"x =\", x, \"y =\", y)"
   ]
  },
  {
   "cell_type": "markdown",
   "id": "6b4a96dd-a5d9-4cef-b5c7-05b360271765",
   "metadata": {
    "editable": true,
    "slideshow": {
     "slide_type": ""
    },
    "tags": []
   },
   "source": [
    "A variable name can be reassigned to any kind of object"
   ]
  },
  {
   "cell_type": "code",
   "execution_count": 4,
   "id": "c65d42f5-edc1-4fab-8184-842310dbd90b",
   "metadata": {
    "editable": true,
    "slideshow": {
     "slide_type": ""
    },
    "tags": []
   },
   "outputs": [
    {
     "name": "stdout",
     "output_type": "stream",
     "text": [
      "x = Hello y = 3.14\n"
     ]
    }
   ],
   "source": [
    "x = \"Hello\"  # a string\n",
    "print(\"x =\", x, \"y =\", y)"
   ]
  },
  {
   "cell_type": "markdown",
   "id": "a1eeb99c-b84e-4527-8695-021e123dded0",
   "metadata": {
    "editable": true,
    "slideshow": {
     "slide_type": "slide"
    },
    "tags": []
   },
   "source": [
    "Variable names must contain only letters, digits, and the underscore (`_`).\n",
    "\n",
    "A variable name must not start with a digit.\n",
    "\n",
    "`5kids`, `my-name`, `name,lastname`, `x!` are all invalid names."
   ]
  },
  {
   "cell_type": "markdown",
   "id": "a653cb16-9f13-4d80-b907-7e1e8225417f",
   "metadata": {
    "editable": true,
    "slideshow": {
     "slide_type": "slide"
    },
    "tags": []
   },
   "source": [
    "# Multiple assignments and swapping\n",
    "Multiple assignments can be made in a single statement"
   ]
  },
  {
   "cell_type": "code",
   "execution_count": 5,
   "id": "7d867044-ca29-40c6-8cf3-feba31360d80",
   "metadata": {
    "editable": true,
    "slideshow": {
     "slide_type": ""
    },
    "tags": []
   },
   "outputs": [
    {
     "name": "stdout",
     "output_type": "stream",
     "text": [
      "-1.5 hello world 17\n"
     ]
    }
   ],
   "source": [
    "x,y,z = -1.5, \"hello world\", 17\n",
    "print(x,y,z)"
   ]
  },
  {
   "cell_type": "markdown",
   "id": "7d3f7d88-fbd2-4886-827c-8d4447a49c20",
   "metadata": {
    "editable": true,
    "slideshow": {
     "slide_type": ""
    },
    "tags": []
   },
   "source": [
    "This allows for simple swapping of values, without the need of a temporary variable as in other languages."
   ]
  },
  {
   "cell_type": "code",
   "execution_count": 6,
   "id": "5ec42eec-0261-48c0-a3fb-22f6e1443db3",
   "metadata": {
    "editable": true,
    "slideshow": {
     "slide_type": ""
    },
    "tags": []
   },
   "outputs": [
    {
     "name": "stdout",
     "output_type": "stream",
     "text": [
      "hello world -1.5 17\n"
     ]
    }
   ],
   "source": [
    "x, y = y, x\n",
    "print(x,y,z)"
   ]
  },
  {
   "cell_type": "markdown",
   "id": "b929e0e3-f651-4c7a-8fc3-1d19b7310d01",
   "metadata": {
    "editable": true,
    "slideshow": {
     "slide_type": "slide"
    },
    "tags": []
   },
   "source": [
    "# Erasing a variable \n",
    "A variable can be removed using the `del` keyword."
   ]
  },
  {
   "cell_type": "code",
   "execution_count": 7,
   "id": "66adf55c-82f8-447e-b949-67f68a8a6c34",
   "metadata": {
    "editable": true,
    "slideshow": {
     "slide_type": ""
    },
    "tags": []
   },
   "outputs": [
    {
     "ename": "NameError",
     "evalue": "name 'z' is not defined",
     "output_type": "error",
     "traceback": [
      "\u001b[31m---------------------------------------------------------------------------\u001b[39m",
      "\u001b[31mNameError\u001b[39m                                 Traceback (most recent call last)",
      "\u001b[36mCell\u001b[39m\u001b[36m \u001b[39m\u001b[32mIn[7]\u001b[39m\u001b[32m, line 2\u001b[39m\n\u001b[32m      1\u001b[39m \u001b[38;5;28;01mdel\u001b[39;00m z\n\u001b[32m----> \u001b[39m\u001b[32m2\u001b[39m \u001b[38;5;28mprint\u001b[39m(\u001b[43mz\u001b[49m)\n",
      "\u001b[31mNameError\u001b[39m: name 'z' is not defined"
     ]
    }
   ],
   "source": [
    "del z\n",
    "print(z)"
   ]
  },
  {
   "attachments": {},
   "cell_type": "markdown",
   "id": "5ac3a4c5-2ab5-48f5-b4d9-12cffdb611f8",
   "metadata": {
    "editable": true,
    "slideshow": {
     "slide_type": "slide"
    },
    "tags": []
   },
   "source": [
    "# Numbers\n",
    "Python has three built-in numeric types:\n",
    "\n",
    "* Integers\n",
    "* Reals (represented as floating-point type)\n",
    "* Complex numbers"
   ]
  },
  {
   "cell_type": "code",
   "execution_count": 8,
   "id": "48442d73-b59b-4c7b-9d91-d9dcccef0ade",
   "metadata": {
    "editable": true,
    "slideshow": {
     "slide_type": ""
    },
    "tags": []
   },
   "outputs": [],
   "source": [
    "x = 17      # integer\n",
    "y = 1.78    # floating-point (\"float\")\n",
    "z = 2 + 3j  # complex"
   ]
  },
  {
   "cell_type": "markdown",
   "id": "bcf6208f-12a3-4920-856f-01de0b63ccbc",
   "metadata": {
    "editable": true,
    "slideshow": {
     "slide_type": "slide"
    },
    "tags": []
   },
   "source": [
    "# Arithmetic operations\n",
    "\n",
    "|Operation | Expression |\n",
    "|---------| ---------- |\n",
    "|Addition | `a + b` |\n",
    "|Subtraction | `a - b`|\n",
    "|Multiplication | `a * b` |\n",
    "|Division | `a / b` |\n",
    "|Modulus | `a % b` |\n",
    "|Integer division | `a // b`|\n",
    "|Exponentiation | `a ** b` |\n",
    "\n",
    "These operations apply to all numeric types."
   ]
  },
  {
   "cell_type": "code",
   "execution_count": 9,
   "id": "383d253d-de3c-4395-9ce8-399c45cf6720",
   "metadata": {
    "editable": true,
    "slideshow": {
     "slide_type": ""
    },
    "tags": []
   },
   "outputs": [
    {
     "name": "stdout",
     "output_type": "stream",
     "text": [
      "1 + 2   = 3\n",
      "2 - 4   = -2\n",
      "12 * 3  = 36\n",
      "15 / 6  = 2.5\n",
      "15 // 6 = 2\n",
      "15 % 6  = 3\n",
      "3 ** 4  = 81\n"
     ]
    }
   ],
   "source": [
    "print(\"1 + 2   =\", 1 + 2)\n",
    "print(\"2 - 4   =\", 2 - 4)\n",
    "print(\"12 * 3  =\", 12 * 3)\n",
    "print(\"15 / 6  =\", 15 / 6)\n",
    "print(\"15 // 6 =\", 15 // 6)\n",
    "print(\"15 % 6  =\", 15 % 6)\n",
    "print(\"3 ** 4  =\", 3**4)"
   ]
  },
  {
   "cell_type": "markdown",
   "id": "15a18d5b-7be9-487c-a4b0-fc1fd232d04e",
   "metadata": {
    "editable": true,
    "slideshow": {
     "slide_type": "slide"
    },
    "tags": []
   },
   "source": [
    "# Integers and floats in arithmetic\n",
    "\n",
    "If you mix integers and floats, the result will be a float."
   ]
  },
  {
   "cell_type": "code",
   "execution_count": 10,
   "id": "0da976ba-9409-4178-873f-5b215554b34a",
   "metadata": {
    "editable": true,
    "slideshow": {
     "slide_type": ""
    },
    "tags": []
   },
   "outputs": [
    {
     "data": {
      "text/plain": [
       "5.15"
      ]
     },
     "execution_count": 10,
     "metadata": {},
     "output_type": "execute_result"
    }
   ],
   "source": [
    "2 + 3.15"
   ]
  },
  {
   "cell_type": "markdown",
   "id": "5652b7c2-8fa9-4ecf-8daa-f3cfbde29459",
   "metadata": {
    "editable": true,
    "slideshow": {
     "slide_type": ""
    },
    "tags": []
   },
   "source": [
    "Division will always return a float, even if the result is mathematically an integer."
   ]
  },
  {
   "cell_type": "code",
   "execution_count": 11,
   "id": "f72ee48e-2f56-4fd9-804d-1875c1123ae9",
   "metadata": {
    "editable": true,
    "slideshow": {
     "slide_type": ""
    },
    "tags": []
   },
   "outputs": [
    {
     "data": {
      "text/plain": [
       "5.0"
      ]
     },
     "execution_count": 11,
     "metadata": {},
     "output_type": "execute_result"
    }
   ],
   "source": [
    "10 / 2"
   ]
  },
  {
   "cell_type": "markdown",
   "id": "68186c8c-444b-439f-ad28-beceebe6a553",
   "metadata": {
    "editable": true,
    "slideshow": {
     "slide_type": "slide"
    },
    "tags": []
   },
   "source": [
    "Integers can grow indefinitely. However, floats have limits on their range."
   ]
  },
  {
   "cell_type": "code",
   "execution_count": 12,
   "id": "b507d70b-3453-42f2-a4e9-629e656de652",
   "metadata": {
    "editable": true,
    "slideshow": {
     "slide_type": ""
    },
    "tags": []
   },
   "outputs": [
    {
     "data": {
      "text/plain": [
       "1322070819480806636890455259752144365965422032752148167664920368226828597346704899540778313850608061963909777696872582355950954582100618911865342725257953674027620225198320803878014774228964841274390400117588618041128947815623094438061566173054086674490506178125480344405547054397038895817465368254916136220830268563778582290228416398307887896918556404084898937609373242171846359938695516765018940588109060426089671438864102814350385648747165832010614366132173102768902855220001"
      ]
     },
     "execution_count": 12,
     "metadata": {},
     "output_type": "execute_result"
    }
   ],
   "source": [
    "3**1000 "
   ]
  },
  {
   "cell_type": "code",
   "execution_count": 13,
   "id": "f9bf73f8-88e5-4d6e-8975-ad4456106567",
   "metadata": {
    "editable": true,
    "slideshow": {
     "slide_type": ""
    },
    "tags": []
   },
   "outputs": [
    {
     "ename": "OverflowError",
     "evalue": "(34, 'Numerical result out of range')",
     "output_type": "error",
     "traceback": [
      "\u001b[31m---------------------------------------------------------------------------\u001b[39m",
      "\u001b[31mOverflowError\u001b[39m                             Traceback (most recent call last)",
      "\u001b[36mCell\u001b[39m\u001b[36m \u001b[39m\u001b[32mIn[13]\u001b[39m\u001b[32m, line 1\u001b[39m\n\u001b[32m----> \u001b[39m\u001b[32m1\u001b[39m \u001b[32;43m3.0\u001b[39;49m\u001b[43m*\u001b[49m\u001b[43m*\u001b[49m\u001b[32;43m1000\u001b[39;49m\n",
      "\u001b[31mOverflowError\u001b[39m: (34, 'Numerical result out of range')"
     ]
    }
   ],
   "source": [
    "3.0**1000"
   ]
  },
  {
   "cell_type": "markdown",
   "id": "5f47f8fc-7b58-4736-9df7-b8b9c59df610",
   "metadata": {
    "editable": true,
    "slideshow": {
     "slide_type": "slide"
    },
    "tags": []
   },
   "source": [
    "## Roundoff errors in floating-point arithmetic\n",
    "Floating-point arithmetic is subject to roundoff errors and can lead to inexact results:"
   ]
  },
  {
   "cell_type": "code",
   "execution_count": 14,
   "id": "495b2357-f225-4d18-9139-596930bae96c",
   "metadata": {
    "editable": true,
    "slideshow": {
     "slide_type": ""
    },
    "tags": []
   },
   "outputs": [
    {
     "data": {
      "text/plain": [
       "5.551115123125783e-17"
      ]
     },
     "execution_count": 14,
     "metadata": {},
     "output_type": "execute_result"
    }
   ],
   "source": [
    "0.1 + 0.1 + 0.1 - 0.3"
   ]
  },
  {
   "cell_type": "markdown",
   "id": "71582cda-de2d-4d87-9151-1020e6461781",
   "metadata": {
    "editable": true,
    "slideshow": {
     "slide_type": ""
    },
    "tags": []
   },
   "source": [
    "This roundoff error is usually very small (17th decimal place), but can be a problem when \n",
    "* checking the equality of two floats, or\n",
    "* we add a large number of floats repeatedly (e.g. to find their average).\n",
    "\n",
    "For ways around this problem, see https://docs.python.org/3/tutorial/floatingpoint.html"
   ]
  }
 ],
 "metadata": {
  "kernelspec": {
   "display_name": "Python 3 (ipykernel)",
   "language": "python",
   "name": "python3"
  },
  "language_info": {
   "codemirror_mode": {
    "name": "ipython",
    "version": 3
   },
   "file_extension": ".py",
   "mimetype": "text/x-python",
   "name": "python",
   "nbconvert_exporter": "python",
   "pygments_lexer": "ipython3",
   "version": "3.13.3"
  }
 },
 "nbformat": 4,
 "nbformat_minor": 5
}
