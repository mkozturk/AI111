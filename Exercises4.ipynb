{
 "cells": [
  {
   "cell_type": "markdown",
   "id": "dd0bd231-1cdb-40dc-8e3d-dcfaec0f644c",
   "metadata": {},
   "source": [
    "# The indispensable Fibonacci\n",
    "\n",
    "The Fibonacci series starts with 1 and 1, and every new number in the sequence is the sum of the previous two:\n",
    "\n",
    "1, 1, 2, 3, 5, 8, 13, 21, 34, 55, ...\n",
    "\n",
    "Mathematically: $F_{n} = F_{n-1} + F_{n-2}$ with $F_1 = F_2 = 1$.\n",
    "\n",
    "Write a function named `fib(n)` that returns a list of the first `n` Fibonacci numbers.\n",
    "\n",
    "**Hint**: If `n>2`, start with the list `[1,1]` and append the sum of the last two elements to the list. Use negative indices for the last two elements.\n",
    "\n",
    "Examples:"
   ]
  },
  {
   "cell_type": "code",
   "execution_count": 48,
   "id": "9d0b15f7-f01b-4e85-abd8-850cef5a2faa",
   "metadata": {},
   "outputs": [
    {
     "name": "stdout",
     "output_type": "stream",
     "text": [
      "[]\n",
      "[1, 1]\n",
      "[1, 1, 2, 3, 5, 8, 13, 21, 34, 55]\n",
      "[1, 1, 2, 3, 5, 8, 13, 21, 34, 55, 89, 144, 233, 377, 610, 987, 1597, 2584, 4181, 6765]\n"
     ]
    }
   ],
   "source": [
    "def fib(n):\n",
    "    # --- your code here\n",
    "    \n",
    "print(fib(0))\n",
    "print(fib(2))\n",
    "print(fib(10))\n",
    "print(fib(20))"
   ]
  },
  {
   "cell_type": "markdown",
   "id": "26ea65b4-6632-4d60-9319-1c3022ffbc09",
   "metadata": {
    "editable": true,
    "slideshow": {
     "slide_type": ""
    },
    "tags": []
   },
   "source": [
    "# Sum of squares and squares of sums\n",
    "\n",
    "The sum of the squares of the first ten natural numbers is,\n",
    "$$1^2 + 2^2 + ... + 10^2 = 385.$$\n",
    "\n",
    "The square of the sum of the first ten natural numbers is,\n",
    "$$(1 + 2 + ... + 10)^2 = 55^2 = 3025.$$\n",
    "\n",
    "Hence the difference between the sum of the squares of the first ten natural numbers and the square of the sum is $3025 - 385 = 2640$.\n",
    "\n",
    "Write a function named `sumsquaredifference` that takes an integer `N`, and returns the difference between the sum of the squares of the first `N` natural numbers and the square of their sum."
   ]
  },
  {
   "cell_type": "code",
   "execution_count": null,
   "id": "e1b573c8-64d5-4cec-909b-eccb47ad889b",
   "metadata": {
    "editable": true,
    "slideshow": {
     "slide_type": ""
    },
    "tags": []
   },
   "outputs": [],
   "source": [
    "def sumsquaredifference(N):\n",
    "    # ---\n",
    "    # your code here\n",
    "    # ----\n",
    "    return result"
   ]
  },
  {
   "cell_type": "code",
   "execution_count": 4,
   "id": "688ecc7e-e8bb-4746-bd31-757d915e52f1",
   "metadata": {
    "editable": true,
    "slideshow": {
     "slide_type": ""
    },
    "tags": []
   },
   "outputs": [
    {
     "data": {
      "text/plain": [
       "2640"
      ]
     },
     "execution_count": 4,
     "metadata": {},
     "output_type": "execute_result"
    }
   ],
   "source": [
    "sumsquaredifference(10)"
   ]
  },
  {
   "cell_type": "code",
   "execution_count": 5,
   "id": "58fde163-8ab8-4263-9bff-77055c56dba0",
   "metadata": {
    "editable": true,
    "slideshow": {
     "slide_type": ""
    },
    "tags": []
   },
   "outputs": [
    {
     "data": {
      "text/plain": [
       "250166416500"
      ]
     },
     "execution_count": 5,
     "metadata": {},
     "output_type": "execute_result"
    }
   ],
   "source": [
    "sumsquaredifference(1000)"
   ]
  },
  {
   "cell_type": "markdown",
   "id": "adb26331-2180-4376-b9df-12fdbdd44370",
   "metadata": {},
   "source": [
    "# The hacker grocer - 1\n",
    "\n",
    "A grocer likes to manage his small store with a computerized system. He keeps track of his inventory by storing every kind of information in a separate list, such as\n",
    "\n",
    "```\n",
    "items = [\"Milk\",\"Bread\",\"Cheese\"]\n",
    "unit_price = [10, 2, 20]\n",
    "tax = [0.05, 0.05, 0.07]\n",
    "```\n",
    "\n",
    "So, milk has a unit price of 10, and there is a 5% value-added tax on its sale, and so on.\n",
    "\n",
    "Whenever a customer buys some of the items, he needs to calculate the due amount: The unit price of the item times the units purchased, plus the value-added tax. For example, for two cartons of milk, the price is $10\\times 2=20$, and the tax is $20\\times 0.05=1$, so the total is $21$.\n",
    "\n",
    "The grocer needs a function to do this calculation.\n",
    "\n",
    "Write a function `payment_due` that returns how much the customer needs to pay. The function's parameters are the item's name (a string) and the number of units bought.\n",
    "\n",
    "Use the lists as given global variables and use them in the function. You can assume that they have all the same length.\n",
    "\n",
    "If the number of units is a negative number, the function should print `\"Units cannot be negative\"` and return `None`."
   ]
  },
  {
   "cell_type": "code",
   "execution_count": 55,
   "id": "3840a40d-1c1f-4658-955a-cc3965c344f7",
   "metadata": {},
   "outputs": [
    {
     "name": "stdout",
     "output_type": "stream",
     "text": [
      "21.0\n",
      "8.4\n",
      "Units cannot be negative\n",
      "None\n"
     ]
    }
   ],
   "source": [
    "items = [\"Milk\",\"Bread\",\"Cheese\"]\n",
    "unit_price = [10, 2, 20]\n",
    "tax = [0.05, 0.05, 0.07]\n",
    "\n",
    "def payment_due(item, units_sold):\n",
    "    # --- your code here\n",
    "\n",
    "print(payment_due(\"Milk\",2))\n",
    "print(payment_due(\"Bread\",4))\n",
    "print(payment_due(\"Cheese\",-1))"
   ]
  },
  {
   "cell_type": "markdown",
   "id": "427ceb94-5f28-49de-8b73-54cc05884ace",
   "metadata": {},
   "source": [
    "# The hacker grocer - 2\n",
    "\n",
    "Upon learning about dictionaries, the Hacker Grocer rewrites his data in the form of a dictionary, where keys are item names. For example:\n",
    "\n",
    "```\n",
    "inventory = {\n",
    "    \"Milk\": {\"unit_price\":10, \"tax\":0.05, \"stored\": 30},\n",
    "    \"Bread\": {\"unit_price\":2, \"tax\":0.05, \"stored\": 15},\n",
    "    \"Cheese\": {\"unit_price\":20, \"tax\":0.07, \"stored\": 50}\n",
    "    }\n",
    "```\n",
    "\n",
    "The Grocer realizes that he can add more items in the same form as required.\n",
    "\n",
    "Now when a sale is made, the inventory must be updated by subtracting the number of units sold from the stored amount. For example, when the customer buys two cartons of milk, she pays 21, and the stored amount of milk is reduced to 28.\n",
    "\n",
    "He needs a new function named `sell_item` to handle a customer transaction. The function takes the item's name, number of units sold in the transaction, and the inventory dictionary. It returns two values: The payment due by the customer, and the new inventory directory with the updated stored amount.\n",
    "\n",
    "Examples:"
   ]
  },
  {
   "cell_type": "code",
   "execution_count": 71,
   "id": "c4ca2056-d4d1-41a5-815e-5ab4272d82db",
   "metadata": {},
   "outputs": [
    {
     "data": {
      "text/plain": [
       "(21.0,\n",
       " {'Milk': {'unit_price': 10, 'tax': 0.05, 'stored': 28},\n",
       "  'Bread': {'unit_price': 2, 'tax': 0.05, 'stored': 15},\n",
       "  'Cheese': {'unit_price': 20, 'tax': 0.07, 'stored': 50}})"
      ]
     },
     "execution_count": 71,
     "metadata": {},
     "output_type": "execute_result"
    }
   ],
   "source": [
    "inventory = {\n",
    "    \"Milk\": {\"unit_price\":10, \"tax\":0.05, \"stored\": 30},\n",
    "    \"Bread\": {\"unit_price\":2, \"tax\":0.05, \"stored\": 15},\n",
    "    \"Cheese\": {\"unit_price\":20, \"tax\":0.07, \"stored\": 50}\n",
    "    }\n",
    "def sell_item(item, units_sold, inventory):\n",
    "    # ----\n",
    "    # your code here\n",
    "    # ----\n",
    "    return payment_due, inventory\n",
    "\n",
    "sell_item(\"Milk\",2,inventory)"
   ]
  },
  {
   "cell_type": "markdown",
   "id": "c0abe818-9179-47cc-a134-2c277f5d07d2",
   "metadata": {},
   "source": [
    "## NOTE\n",
    "\n",
    "This function has a side effect: It changes the original `inventory` dictionary, even though we did not explicitly reassigned to it:"
   ]
  },
  {
   "cell_type": "code",
   "execution_count": 72,
   "id": "8b8760ca-c2ee-4060-b021-fa337da07e80",
   "metadata": {},
   "outputs": [
    {
     "data": {
      "text/plain": [
       "{'Milk': {'unit_price': 10, 'tax': 0.05, 'stored': 28},\n",
       " 'Bread': {'unit_price': 2, 'tax': 0.05, 'stored': 15},\n",
       " 'Cheese': {'unit_price': 20, 'tax': 0.07, 'stored': 50}}"
      ]
     },
     "execution_count": 72,
     "metadata": {},
     "output_type": "execute_result"
    }
   ],
   "source": [
    "inventory = {\n",
    "    \"Milk\": {\"unit_price\":10, \"tax\":0.05, \"stored\": 30},\n",
    "    \"Bread\": {\"unit_price\":2, \"tax\":0.05, \"stored\": 15},\n",
    "    \"Cheese\": {\"unit_price\":20, \"tax\":0.07, \"stored\": 50}\n",
    "    }\n",
    "sell_item(\"Milk\",2,inventory)\n",
    "\n",
    "inventory # original data changed"
   ]
  },
  {
   "cell_type": "markdown",
   "id": "92b18cd3-3106-4b93-aa59-350552999869",
   "metadata": {},
   "source": [
    "Such side effects can be confusing and lead to errors. To avoid this, create a *deep copy* of the inventory inside the function and change only this copy."
   ]
  },
  {
   "cell_type": "code",
   "execution_count": 69,
   "id": "6d9365a4-1186-4635-8830-f0b2a9e1bdba",
   "metadata": {},
   "outputs": [
    {
     "data": {
      "text/plain": [
       "{'Milk': {'unit_price': 10, 'tax': 0.05, 'stored': 30},\n",
       " 'Bread': {'unit_price': 2, 'tax': 0.05, 'stored': 15},\n",
       " 'Cheese': {'unit_price': 20, 'tax': 0.07, 'stored': 50}}"
      ]
     },
     "execution_count": 69,
     "metadata": {},
     "output_type": "execute_result"
    }
   ],
   "source": [
    "inventory = {\n",
    "    \"Milk\": {\"unit_price\":10, \"tax\":0.05, \"stored\": 30},\n",
    "    \"Bread\": {\"unit_price\":2, \"tax\":0.05, \"stored\": 15},\n",
    "    \"Cheese\": {\"unit_price\":20, \"tax\":0.07, \"stored\": 50}\n",
    "    }\n",
    "\n",
    "import copy\n",
    "def sell_item(item, units_sold, inventory):\n",
    "    new_inventory = copy.deepcopy(inventory)\n",
    "    # --- \n",
    "    # your code here\n",
    "    # ----\n",
    "    return payment_due, new_inventory\n",
    "\n",
    "sell_item(\"Milk\",2,inventory)\n",
    "\n",
    "inventory # original data intact"
   ]
  },
  {
   "cell_type": "markdown",
   "id": "c1c92f4f-4470-4231-bc21-63b2715a0ac3",
   "metadata": {
    "editable": true,
    "slideshow": {
     "slide_type": ""
    },
    "tags": []
   },
   "source": [
    "# The hardworking ant - 4\n",
    "\n",
    "Our friend The Ant needs your help again. She knows her coordinates in the garden, which she stores as a tuple `(x,y)`. She also knows the locations of all nests in the garden, which are stored in a list of tuples, like:\n",
    "\n",
    "```\n",
    "[(\"Anttop\", 3, 5),\n",
    "(\"Bluehill\", 4,-2),\n",
    "(\"Pebbles\", 5,9)\n",
    "]\n",
    "```\n",
    "\n",
    "The first element of each tuple is the name of the nest, and the following two are the coordinates of the nest.\n",
    "\n",
    "<img src=\"img/ant_distances.png\" width=\"200\">\n",
    "\n",
    "The Ant needs to go to the nearest nest, but she cannot to the calculations herself.\n",
    "\n",
    "Write a function named `nearest_nest` that takes as parameters The Ant's coordinates `x` and `y`, and the list of nest locations. The function returns the *name* of the nest that is closest to The Ant's location.\n",
    "\n",
    "Note that the list can contain an arbitrary number of nest locations, not just three.\n",
    "\n",
    "**Hint**: Take every element one by one, calculate the distances from The Ant. Keep track of the nearest nest's name with a variable.\n",
    "\n",
    "**Examples**"
   ]
  },
  {
   "cell_type": "code",
   "execution_count": 31,
   "id": "422c24a3-b509-46db-aaf0-763156e6259a",
   "metadata": {},
   "outputs": [
    {
     "data": {
      "text/plain": [
       "'Anttop'"
      ]
     },
     "execution_count": 31,
     "metadata": {},
     "output_type": "execute_result"
    }
   ],
   "source": [
    "def nearest_nest(x, y, nestlist):\n",
    "    # ---- your code here\n",
    "    # ----\n",
    "    return nearest_name\n",
    "    \n",
    "nests = [\n",
    "    (\"Anttop\", 3, 5),\n",
    "    (\"Bluehill\", 4,-2),\n",
    "    (\"Pebbles\", 5,9)]\n",
    "x, y = 2,2\n",
    "nearest_nest(x,y,nests)"
   ]
  },
  {
   "cell_type": "code",
   "execution_count": 35,
   "id": "d2c0c606-9b4b-4a35-ad42-4b08cd826ca0",
   "metadata": {},
   "outputs": [
    {
     "data": {
      "text/plain": [
       "'Deadbug'"
      ]
     },
     "execution_count": 35,
     "metadata": {},
     "output_type": "execute_result"
    }
   ],
   "source": [
    "nests = [\n",
    "    (\"Anttop\", 3, 5),\n",
    "    (\"Bluehill\", 4,-2),\n",
    "    (\"Pebbles\", 5,9),\n",
    "    (\"Deadbug\", 0,3)]\n",
    "x, y = -1,1\n",
    "nearest_nest(x,y,nests)"
   ]
  },
  {
   "cell_type": "markdown",
   "id": "073cf5db-7912-4d9b-970c-78741c8efbb8",
   "metadata": {
    "editable": true,
    "slideshow": {
     "slide_type": ""
    },
    "tags": []
   },
   "source": [
    "# A Knight's Tale\n",
    "\n",
    "The knight in chess moves in an L-shape: Two steps in one direction, then one step in the perpendicular direction, OR, one step in one direction and two steps in the perpendicular direction.\n",
    "\n",
    "<img src=\"img/chess_knight.png\" width=\"25%\">\n",
    "\n",
    "Every square on the board has a column name (\"a\" through \"h\") and a row number (\"1\" through \"8\"). We represent each square with a string combining the column and row, such as `\"a1\"`, `\"c6\"`, `\"h3\"`, etc.\n",
    "\n",
    "Write a function named `move_knight`. It takes the current square of the knight as its parameter. It should return a list of all possible squares the knight can move.\n",
    "\n",
    "If the knight is close to the edge of the board, eliminate the moves that carry it outside the board. For example, a knight at d7 can move only to 6 different squares:\n",
    "\n",
    "![](img/satranc_at.png)\n",
    "\n",
    "Examples:"
   ]
  },
  {
   "cell_type": "code",
   "execution_count": 21,
   "id": "b54fb9cf-cdc4-468f-ada5-ee7bff5267d4",
   "metadata": {
    "editable": true,
    "slideshow": {
     "slide_type": ""
    },
    "tags": []
   },
   "outputs": [
    {
     "data": {
      "text/plain": [
       "['c5', 'b8', 'b6', 'e5', 'f8', 'f6']"
      ]
     },
     "execution_count": 21,
     "metadata": {},
     "output_type": "execute_result"
    }
   ],
   "source": [
    "move_knight(\"d7\")"
   ]
  },
  {
   "cell_type": "code",
   "execution_count": 22,
   "id": "2092a99c-1464-438f-80d0-69481f48eca1",
   "metadata": {
    "editable": true,
    "slideshow": {
     "slide_type": ""
    },
    "tags": []
   },
   "outputs": [
    {
     "data": {
      "text/plain": [
       "['c7', 'c3', 'b6', 'b4', 'e7', 'e3', 'f6', 'f4']"
      ]
     },
     "execution_count": 22,
     "metadata": {},
     "output_type": "execute_result"
    }
   ],
   "source": [
    "move_knight(\"d5\")"
   ]
  },
  {
   "cell_type": "code",
   "execution_count": 19,
   "id": "e3c6fa4d-0541-4d22-9794-539a9293c90c",
   "metadata": {
    "editable": true,
    "slideshow": {
     "slide_type": ""
    },
    "tags": []
   },
   "outputs": [
    {
     "data": {
      "text/plain": [
       "['b3', 'c2']"
      ]
     },
     "execution_count": 19,
     "metadata": {},
     "output_type": "execute_result"
    }
   ],
   "source": [
    "move_knight(\"a1\")"
   ]
  }
 ],
 "metadata": {
  "kernelspec": {
   "display_name": "Python 3 (ipykernel)",
   "language": "python",
   "name": "python3"
  },
  "language_info": {
   "codemirror_mode": {
    "name": "ipython",
    "version": 3
   },
   "file_extension": ".py",
   "mimetype": "text/x-python",
   "name": "python",
   "nbconvert_exporter": "python",
   "pygments_lexer": "ipython3",
   "version": "3.13.3"
  }
 },
 "nbformat": 4,
 "nbformat_minor": 5
}
