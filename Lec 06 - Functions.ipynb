{
 "cells": [
  {
   "cell_type": "markdown",
   "id": "17af821e-1598-4d70-9be4-5e56b905657d",
   "metadata": {
    "editable": true,
    "slideshow": {
     "slide_type": "slide"
    },
    "tags": []
   },
   "source": [
    "# Functions"
   ]
  },
  {
   "cell_type": "markdown",
   "id": "143ebe42-41c2-4375-b718-98f9b5cbe6cf",
   "metadata": {
    "editable": true,
    "slideshow": {
     "slide_type": ""
    },
    "tags": []
   },
   "source": [
    "* Higher-level building blocks for code.\n",
    "* Take some *parameters* as input and *return a value* as output.\n",
    "* Written once, run many times.\n",
    "* Can be created by users, or imported from libraries\n",
    "\n",
    "![](img/simple_function.png)"
   ]
  },
  {
   "cell_type": "markdown",
   "id": "b9198bb3-9001-4ec3-85a9-9797b9c586b2",
   "metadata": {
    "editable": true,
    "slideshow": {
     "slide_type": "slide"
    },
    "tags": []
   },
   "source": [
    "# Python built-in functions"
   ]
  },
  {
   "cell_type": "markdown",
   "id": "2d5eefdb-d4ed-4c36-a8f5-f83eb4279caf",
   "metadata": {
    "editable": true,
    "slideshow": {
     "slide_type": ""
    },
    "tags": []
   },
   "source": [
    "These are defined in the language itself, not in any library."
   ]
  },
  {
   "cell_type": "markdown",
   "id": "f9c94688-a377-4e9d-aae7-00d1cdc1f6a0",
   "metadata": {
    "editable": true,
    "slideshow": {
     "slide_type": ""
    },
    "tags": []
   },
   "source": [
    "![](img/python_fns.png)"
   ]
  },
  {
   "cell_type": "markdown",
   "id": "c1680b9a-4426-4a18-bb51-260de8ae7782",
   "metadata": {
    "editable": true,
    "slideshow": {
     "slide_type": "slide"
    },
    "tags": []
   },
   "source": [
    "# Getting help on functions"
   ]
  },
  {
   "cell_type": "code",
   "execution_count": 2,
   "id": "e8ac1e77-1c14-43e9-8a2e-99c159dbd077",
   "metadata": {
    "editable": true,
    "slideshow": {
     "slide_type": ""
    },
    "tags": []
   },
   "outputs": [
    {
     "name": "stdout",
     "output_type": "stream",
     "text": [
      "Help on built-in function print in module builtins:\n",
      "\n",
      "print(*args, sep=' ', end='\\n', file=None, flush=False)\n",
      "    Prints the values to a stream, or to sys.stdout by default.\n",
      "\n",
      "    sep\n",
      "      string inserted between values, default a space.\n",
      "    end\n",
      "      string appended after the last value, default a newline.\n",
      "    file\n",
      "      a file-like object (stream); defaults to the current sys.stdout.\n",
      "    flush\n",
      "      whether to forcibly flush the stream.\n",
      "\n"
     ]
    }
   ],
   "source": [
    "help(print)"
   ]
  },
  {
   "cell_type": "markdown",
   "id": "5cd433ab-da21-4d4b-be98-5912c784dc00",
   "metadata": {
    "editable": true,
    "slideshow": {
     "slide_type": "slide"
    },
    "tags": []
   },
   "source": [
    "# Importing library modules"
   ]
  },
  {
   "cell_type": "markdown",
   "id": "569bcfc3-f501-4915-bb63-994b7c941491",
   "metadata": {
    "editable": true,
    "slideshow": {
     "slide_type": ""
    },
    "tags": []
   },
   "source": [
    "* A *module* is a Python source file containing function definitions.\n",
    "* The [Python Standard Library](https://docs.python.org/3/library/index.html) includes many modules for common tasks: System management, mathematical functions, network access, text processing, internet protocols, ...\n",
    "* 3rd party modules for more advanced tasks: Plotting, data analysis, scientific computing, statistical modeling, machine learning, ..."
   ]
  },
  {
   "cell_type": "markdown",
   "id": "eb8401f9-4c5a-4959-b1a5-bc9013fae722",
   "metadata": {
    "editable": true,
    "slideshow": {
     "slide_type": "slide"
    },
    "tags": []
   },
   "source": [
    "## `import`\n",
    "The basic command to load library functions is the `import` statement.\n",
    "\n",
    "Let us import the `math` library. ([Full documentation here](https://docs.python.org/3/library/math.html))"
   ]
  },
  {
   "cell_type": "code",
   "execution_count": 4,
   "id": "addd79fa-11a9-4ad2-802f-1e70016c3886",
   "metadata": {
    "editable": true,
    "slideshow": {
     "slide_type": ""
    },
    "tags": []
   },
   "outputs": [
    {
     "name": "stdout",
     "output_type": "stream",
     "text": [
      "1.4142135623730951\n",
      "1.0\n"
     ]
    }
   ],
   "source": [
    "import math\n",
    "print( math.sqrt(2) )\n",
    "print( math.sin(math.pi/2) )"
   ]
  },
  {
   "cell_type": "markdown",
   "id": "2c876112-d784-4f3f-99d1-16f943a122e4",
   "metadata": {
    "editable": true,
    "slideshow": {
     "slide_type": "slide"
    },
    "tags": []
   },
   "source": [
    "* The `import math` command creates a new _namespace_.\n",
    "* Functions defined in `math` are accessed with the dot notation: `math.sqrt()`, so that imported names do not conflict with existing names."
   ]
  },
  {
   "cell_type": "code",
   "execution_count": 5,
   "id": "e2066e65-5ac1-4915-95b8-57c1cc5774d8",
   "metadata": {
    "editable": true,
    "slideshow": {
     "slide_type": ""
    },
    "tags": []
   },
   "outputs": [
    {
     "name": "stdout",
     "output_type": "stream",
     "text": [
      "3\n",
      "3.141592653589793\n"
     ]
    }
   ],
   "source": [
    "pi = 3\n",
    "print(pi)\n",
    "print(math.pi)"
   ]
  },
  {
   "cell_type": "markdown",
   "id": "3087ec7d-31f3-4e0a-a31c-2488d49d9f1d",
   "metadata": {
    "editable": true,
    "slideshow": {
     "slide_type": "slide"
    },
    "tags": []
   },
   "source": [
    "## `import ... as`\n",
    "We can change the module name at import."
   ]
  },
  {
   "cell_type": "code",
   "execution_count": 6,
   "id": "de9c6d1c-53ba-408b-b08c-4a636e2b685d",
   "metadata": {
    "editable": true,
    "slideshow": {
     "slide_type": ""
    },
    "tags": []
   },
   "outputs": [
    {
     "name": "stdout",
     "output_type": "stream",
     "text": [
      "1.4142135623730951\n",
      "1.0\n"
     ]
    }
   ],
   "source": [
    "import math as m\n",
    "print( m.sqrt(2) )\n",
    "print( m.sin(m.pi/2) )"
   ]
  },
  {
   "cell_type": "markdown",
   "id": "fd8fe917-c2ef-41f2-a8eb-c469ef50777a",
   "metadata": {
    "editable": true,
    "slideshow": {
     "slide_type": "slide"
    },
    "tags": []
   },
   "source": [
    "## `from ... import` \n",
    "* If you need only a few names from a module, you can use the `from <module> import <name>` form.\n",
    "* Names are imported in the current namespace -- no dot-notation."
   ]
  },
  {
   "cell_type": "code",
   "execution_count": 7,
   "id": "f65533e2-aa41-4178-9b4d-ca82298eda72",
   "metadata": {
    "editable": true,
    "slideshow": {
     "slide_type": ""
    },
    "tags": []
   },
   "outputs": [
    {
     "name": "stdout",
     "output_type": "stream",
     "text": [
      "1.4142135623730951\n",
      "1.0\n"
     ]
    }
   ],
   "source": [
    "from math import sqrt, sin, pi\n",
    "print( sqrt(2) )\n",
    "print( sin(pi/2) )"
   ]
  },
  {
   "cell_type": "markdown",
   "id": "6b3f2ab9-cdc9-4512-bbf4-56a34092c861",
   "metadata": {
    "editable": true,
    "slideshow": {
     "slide_type": "slide"
    },
    "tags": []
   },
   "source": [
    "## `from ... import ... as`\n",
    "One can change the imported names as well."
   ]
  },
  {
   "cell_type": "code",
   "execution_count": 8,
   "id": "0227ad87-ac26-41f1-8fb8-c4f8ae90995f",
   "metadata": {
    "editable": true,
    "slideshow": {
     "slide_type": ""
    },
    "tags": []
   },
   "outputs": [
    {
     "name": "stdout",
     "output_type": "stream",
     "text": [
      "1.4142135623730951\n",
      "1.0\n"
     ]
    }
   ],
   "source": [
    "from math import sqrt as square_root\n",
    "from math import pi as π\n",
    "print( sqrt(2) )\n",
    "print( sin(π/2) )"
   ]
  },
  {
   "cell_type": "markdown",
   "id": "03c84508-10a0-451c-88a1-e10ce5ab58a6",
   "metadata": {
    "editable": true,
    "slideshow": {
     "slide_type": "slide"
    },
    "tags": []
   },
   "source": [
    "## `import *`\n",
    "* Imports all names in the module to the current namespace.\n",
    "* **Discouraged** -- possibility of overwriting existing names."
   ]
  },
  {
   "cell_type": "code",
   "execution_count": 6,
   "id": "fa85b075-0a82-457e-a3f3-740880059d26",
   "metadata": {
    "editable": true,
    "slideshow": {
     "slide_type": ""
    },
    "tags": []
   },
   "outputs": [
    {
     "data": {
      "text/plain": [
       "(-1.0, 0.9999999999999999)"
      ]
     },
     "execution_count": 6,
     "metadata": {},
     "output_type": "execute_result"
    }
   ],
   "source": [
    "from math import *\n",
    "cos(pi), tan(pi/4)"
   ]
  },
  {
   "cell_type": "markdown",
   "id": "a8a5d1d5-8731-4d9e-8d52-c5aff3099fe1",
   "metadata": {
    "editable": true,
    "slideshow": {
     "slide_type": "slide"
    },
    "tags": []
   },
   "source": [
    "## Listing all names in a module\n",
    "The `dir()` function returns a list of all names defined in a module (or in any object)."
   ]
  },
  {
   "cell_type": "code",
   "execution_count": 10,
   "id": "7931c8ac-f16d-4343-bd1e-c3f61ad3f912",
   "metadata": {
    "editable": true,
    "slideshow": {
     "slide_type": ""
    },
    "tags": []
   },
   "outputs": [
    {
     "data": {
      "text/plain": [
       "['__doc__',\n",
       " '__file__',\n",
       " '__loader__',\n",
       " '__name__',\n",
       " '__package__',\n",
       " '__spec__',\n",
       " 'acos',\n",
       " 'acosh',\n",
       " 'asin',\n",
       " 'asinh',\n",
       " 'atan',\n",
       " 'atan2',\n",
       " 'atanh',\n",
       " 'ceil',\n",
       " 'copysign',\n",
       " 'cos',\n",
       " 'cosh',\n",
       " 'degrees',\n",
       " 'e',\n",
       " 'erf',\n",
       " 'erfc',\n",
       " 'exp',\n",
       " 'expm1',\n",
       " 'fabs',\n",
       " 'factorial',\n",
       " 'floor',\n",
       " 'fmod',\n",
       " 'frexp',\n",
       " 'fsum',\n",
       " 'gamma',\n",
       " 'gcd',\n",
       " 'hypot',\n",
       " 'inf',\n",
       " 'isclose',\n",
       " 'isfinite',\n",
       " 'isinf',\n",
       " 'isnan',\n",
       " 'ldexp',\n",
       " 'lgamma',\n",
       " 'log',\n",
       " 'log10',\n",
       " 'log1p',\n",
       " 'log2',\n",
       " 'modf',\n",
       " 'nan',\n",
       " 'pi',\n",
       " 'pow',\n",
       " 'radians',\n",
       " 'sin',\n",
       " 'sinh',\n",
       " 'sqrt',\n",
       " 'tan',\n",
       " 'tanh',\n",
       " 'tau',\n",
       " 'trunc']"
      ]
     },
     "execution_count": 10,
     "metadata": {},
     "output_type": "execute_result"
    }
   ],
   "source": [
    "dir(math)"
   ]
  },
  {
   "cell_type": "markdown",
   "id": "b2c534cf-6b32-4f4b-8dbd-0266ee30022f",
   "metadata": {
    "editable": true,
    "slideshow": {
     "slide_type": "slide"
    },
    "tags": []
   },
   "source": [
    "## Getting help\n",
    "Many library functions have _docstring_ that summarizes their usage. "
   ]
  },
  {
   "cell_type": "code",
   "execution_count": 7,
   "id": "495f4ec4-f5c7-4d98-b928-9154efc6e529",
   "metadata": {
    "editable": true,
    "slideshow": {
     "slide_type": ""
    },
    "tags": []
   },
   "outputs": [
    {
     "name": "stdout",
     "output_type": "stream",
     "text": [
      "Help on built-in function sin in module math:\n",
      "\n",
      "sin(x, /)\n",
      "    Return the sine of x (measured in radians).\n",
      "\n"
     ]
    }
   ],
   "source": [
    "help(math.sin)"
   ]
  },
  {
   "cell_type": "code",
   "execution_count": 2,
   "id": "1e66b231-6489-4d4a-8432-0a2e9bb59b71",
   "metadata": {
    "editable": true,
    "slideshow": {
     "slide_type": ""
    },
    "tags": []
   },
   "outputs": [
    {
     "name": "stdout",
     "output_type": "stream",
     "text": [
      "Help on built-in function radians in module math:\n",
      "\n",
      "radians(x, /)\n",
      "    Convert angle x from degrees to radians.\n",
      "\n"
     ]
    }
   ],
   "source": [
    "import math\n",
    "help(math.radians)"
   ]
  },
  {
   "cell_type": "markdown",
   "id": "234fde16-7908-4e38-9460-7e08336c2bb2",
   "metadata": {
    "editable": true,
    "slideshow": {
     "slide_type": "slide"
    },
    "tags": []
   },
   "source": [
    "# Exercise\n",
    "\n",
    "Generate a table of trigonometric function values, showing the sine, cosine, and tangent of angles between 0 and 30, with 2-degree steps.\n",
    "\n",
    "Use the `sin`, `cos`, `tan`, and the `radian` functions from the `math` module.\n",
    "\n",
    "\n",
    "Example:"
   ]
  },
  {
   "cell_type": "code",
   "execution_count": 8,
   "id": "4924c216-83dd-4d71-83d9-55b6a53f333c",
   "metadata": {},
   "outputs": [
    {
     "name": "stdout",
     "output_type": "stream",
     "text": [
      "0 0.0 1.0 0.0\n",
      "2 0.03489949670250097 0.9993908270190958 0.03492076949174773\n",
      "4 0.0697564737441253 0.9975640502598242 0.06992681194351041\n",
      "6 0.10452846326765347 0.9945218953682733 0.10510423526567647\n",
      "8 0.13917310096006544 0.9902680687415704 0.14054083470239145\n",
      "10 0.17364817766693033 0.984807753012208 0.17632698070846498\n",
      "12 0.20791169081775934 0.9781476007338057 0.21255656167002213\n",
      "14 0.24192189559966773 0.9702957262759965 0.24932800284318068\n",
      "16 0.27563735581699916 0.9612616959383189 0.2867453857588079\n",
      "18 0.3090169943749474 0.9510565162951535 0.3249196962329063\n",
      "20 0.3420201433256687 0.9396926207859084 0.36397023426620234\n",
      "22 0.374606593415912 0.9271838545667874 0.4040262258351568\n",
      "24 0.4067366430758002 0.9135454576426009 0.4452286853085362\n",
      "26 0.4383711467890774 0.898794046299167 0.48773258856586144\n",
      "28 0.4694715627858908 0.882947592858927 0.5317094316614788\n",
      "30 0.49999999999999994 0.8660254037844387 0.5773502691896257\n"
     ]
    }
   ],
   "source": [
    "import math\n",
    "\n",
    "# ---\n",
    "# your code here\n",
    "# ---"
   ]
  },
  {
   "cell_type": "markdown",
   "id": "f03bf6b7-e168-4592-90ef-fa3af93b8f40",
   "metadata": {
    "editable": true,
    "slideshow": {
     "slide_type": "slide"
    },
    "tags": []
   },
   "source": [
    "# Defining functions\n",
    "* The `def` statement is used to define a function.\n",
    "* A function usually takes one or more *parameters* and *returns* a value."
   ]
  },
  {
   "cell_type": "code",
   "execution_count": 10,
   "id": "e28ca314-333f-4457-8ba1-3f1411b5626b",
   "metadata": {
    "editable": true,
    "slideshow": {
     "slide_type": ""
    },
    "tags": []
   },
   "outputs": [],
   "source": [
    "def mult(a,b): # a, b are parameters\n",
    "    return a*b # the returned value"
   ]
  },
  {
   "cell_type": "markdown",
   "id": "37b6a760-131c-480f-9ff6-38eb3bea3cfa",
   "metadata": {},
   "source": [
    "Calling the function:"
   ]
  },
  {
   "cell_type": "code",
   "execution_count": 16,
   "id": "452aea97-2f0e-449b-8f82-e8a354386ac4",
   "metadata": {
    "editable": true,
    "slideshow": {
     "slide_type": ""
    },
    "tags": []
   },
   "outputs": [
    {
     "data": {
      "text/plain": [
       "-14"
      ]
     },
     "execution_count": 16,
     "metadata": {},
     "output_type": "execute_result"
    }
   ],
   "source": [
    "mult(2,-7)"
   ]
  },
  {
   "cell_type": "markdown",
   "id": "d50bb9f7-92ba-4254-a468-9f55fb778885",
   "metadata": {
    "editable": true,
    "slideshow": {
     "slide_type": "slide"
    },
    "tags": []
   },
   "source": [
    "## Return values and assignments\n",
    "\n",
    "The value returned from a function can be used in an assignment:"
   ]
  },
  {
   "cell_type": "code",
   "execution_count": 11,
   "id": "5ed4fefc-e1c6-430a-a562-892f8c12de10",
   "metadata": {},
   "outputs": [
    {
     "name": "stdout",
     "output_type": "stream",
     "text": [
      "The result is 15\n"
     ]
    }
   ],
   "source": [
    "result = mult(3,5)\n",
    "print(\"The result is\",result)"
   ]
  },
  {
   "cell_type": "markdown",
   "id": "90ac8fdc-e34b-493d-90e1-de8ffe2cb568",
   "metadata": {
    "editable": true,
    "slideshow": {
     "slide_type": "slide"
    },
    "tags": []
   },
   "source": [
    "A function without a `return` statement returns a `None` value."
   ]
  },
  {
   "cell_type": "code",
   "execution_count": 15,
   "id": "400156b7-e0d0-4007-8ec1-418aeac36f6b",
   "metadata": {
    "editable": true,
    "slideshow": {
     "slide_type": ""
    },
    "tags": []
   },
   "outputs": [
    {
     "name": "stdout",
     "output_type": "stream",
     "text": [
      "The result is None\n"
     ]
    }
   ],
   "source": [
    "def mult(a,b): # a, b are parameters\n",
    "    a*b # no value returned\n",
    "\n",
    "result = mult(3,5)\n",
    "print(\"The result is\",result)"
   ]
  },
  {
   "cell_type": "markdown",
   "id": "6c0c3685-4d48-4298-b934-be4b54b91ac6",
   "metadata": {
    "editable": true,
    "slideshow": {
     "slide_type": "slide"
    },
    "tags": []
   },
   "source": [
    "A single `return` statement returns a `None` value."
   ]
  },
  {
   "cell_type": "code",
   "execution_count": 69,
   "id": "b54e9f76-8c54-4d50-b2a8-b5881aa2ba51",
   "metadata": {
    "editable": true,
    "slideshow": {
     "slide_type": ""
    },
    "tags": []
   },
   "outputs": [
    {
     "data": {
      "text/plain": [
       "0.5"
      ]
     },
     "execution_count": 69,
     "metadata": {},
     "output_type": "execute_result"
    }
   ],
   "source": [
    "def divide(a,b):\n",
    "    if b==0: # check for division by zero\n",
    "        return\n",
    "    return a/b\n",
    "divide(1,2)"
   ]
  },
  {
   "cell_type": "code",
   "execution_count": 70,
   "id": "30674c16-d418-403d-a09b-e285fea3d1eb",
   "metadata": {
    "editable": true,
    "slideshow": {
     "slide_type": ""
    },
    "tags": []
   },
   "outputs": [],
   "source": [
    "divide(1,0)"
   ]
  },
  {
   "cell_type": "markdown",
   "id": "361ed384-61e3-4a2d-8cb0-434bf39112b2",
   "metadata": {
    "editable": true,
    "slideshow": {
     "slide_type": "slide"
    },
    "tags": []
   },
   "source": [
    "## Returning several values\n",
    "* Functions can return only a single value.\n",
    "* However, the function can return a list or tuple, effectively returnin several values."
   ]
  },
  {
   "cell_type": "code",
   "execution_count": 18,
   "id": "dd8dfee7-9ca9-4601-a36d-3dc4a211f066",
   "metadata": {
    "editable": true,
    "slideshow": {
     "slide_type": ""
    },
    "tags": []
   },
   "outputs": [
    {
     "data": {
      "text/plain": [
       "(8, -2)"
      ]
     },
     "execution_count": 18,
     "metadata": {},
     "output_type": "execute_result"
    }
   ],
   "source": [
    "def f(x, y):\n",
    "    return (x+y, x-y) # returns a tuple\n",
    "f(3,5)"
   ]
  },
  {
   "cell_type": "markdown",
   "id": "523459fe-bd2c-42ab-b554-d8c7019e1c53",
   "metadata": {
    "editable": true,
    "slideshow": {
     "slide_type": ""
    },
    "tags": []
   },
   "source": [
    "Multiple assignment can be used:"
   ]
  },
  {
   "cell_type": "code",
   "execution_count": 17,
   "id": "e45d0567-709d-46da-af06-c4598377561d",
   "metadata": {
    "editable": true,
    "slideshow": {
     "slide_type": ""
    },
    "tags": []
   },
   "outputs": [
    {
     "name": "stdout",
     "output_type": "stream",
     "text": [
      "Total = 8 Difference = -2\n"
     ]
    }
   ],
   "source": [
    "total, diff = f(3,5)\n",
    "print(\"Total =\", total, \"Difference =\", diff)"
   ]
  },
  {
   "cell_type": "markdown",
   "id": "74b3d11d-4be9-44da-9e46-e6b2bf07fd3f",
   "metadata": {
    "editable": true,
    "slideshow": {
     "slide_type": "slide"
    },
    "tags": []
   },
   "source": [
    "# Example\n",
    "\n",
    "Write a function named `isprime`. It should take a single integer parameter, return `True` if the parameter is a prime number, and `False` otherwise.\n",
    "\n",
    "`isprime(36)` returns `False`\n",
    "\n",
    "`isprime(37)` returns `True`"
   ]
  },
  {
   "cell_type": "markdown",
   "id": "4aee7767-14b6-4990-9244-4fb9a019aa0e",
   "metadata": {
    "editable": true,
    "slideshow": {
     "slide_type": "subslide"
    },
    "tags": []
   },
   "source": [
    "**Solution**\n"
   ]
  },
  {
   "cell_type": "code",
   "execution_count": 32,
   "id": "616cc7b4-7118-41c0-86f1-90acb8d53a91",
   "metadata": {
    "editable": true,
    "slideshow": {
     "slide_type": ""
    },
    "tags": []
   },
   "outputs": [
    {
     "name": "stdout",
     "output_type": "stream",
     "text": [
      "False\n",
      "True\n"
     ]
    }
   ],
   "source": [
    "def isprime(n):\n",
    "    result = True # assume prime; change if a divisor is found.\n",
    "    i = 2 # start dividing by 2\n",
    "    while i*i < n:\n",
    "        if n%i == 0: # check the remainder of dividing by i\n",
    "            result = False\n",
    "            break  # no need to check further\n",
    "        i = i+1\n",
    "    return result\n",
    "    \n",
    "print(isprime(36))\n",
    "print(isprime(37))"
   ]
  },
  {
   "cell_type": "markdown",
   "id": "e26f3545-507a-47bd-a210-014fa7a28668",
   "metadata": {
    "editable": true,
    "slideshow": {
     "slide_type": ""
    },
    "tags": []
   },
   "source": [
    "Play around with that: (a) verify that n>2, (b) write a function to find all primes below a given number."
   ]
  },
  {
   "cell_type": "markdown",
   "id": "7943bd7e-53d1-459b-9fd3-8266de456ec5",
   "metadata": {
    "editable": true,
    "slideshow": {
     "slide_type": "slide"
    },
    "tags": []
   },
   "source": [
    "# Example\n",
    "You deposit money to the bank with a fixed interest rate and you want to see your account balance over the years. Assume you never add or withdraw money from your account.\n",
    "\n",
    "Write a function named `account_balance`. It should take three parameters: The initial deposit you make, yearly interest rate, and the number of years. It should return a list of your account balance at every year."
   ]
  },
  {
   "cell_type": "markdown",
   "id": "33be6801-ddca-43b3-93be-7a2d7031e305",
   "metadata": {
    "editable": true,
    "slideshow": {
     "slide_type": ""
    },
    "tags": []
   },
   "source": [
    "**Solution**"
   ]
  },
  {
   "cell_type": "code",
   "execution_count": 35,
   "id": "de3cd4b3-e135-494c-b21a-ee02a1f4c639",
   "metadata": {
    "editable": true,
    "slideshow": {
     "slide_type": "subslide"
    },
    "tags": []
   },
   "outputs": [
    {
     "data": {
      "text/plain": [
       "[12500.0, 15625.0, 19531.25]"
      ]
     },
     "execution_count": 35,
     "metadata": {},
     "output_type": "execute_result"
    }
   ],
   "source": [
    "def account_balance(deposit, interest_rate, years):\n",
    "    result = []\n",
    "    for y in range(years):\n",
    "        deposit *= (1+interest_rate)\n",
    "        result.append(deposit)\n",
    "    return result\n",
    "\n",
    "account_balance(10000, 0.25, 3)"
   ]
  },
  {
   "cell_type": "markdown",
   "id": "5f64afa6-ed20-46d4-b989-127f2388624f",
   "metadata": {
    "editable": true,
    "slideshow": {
     "slide_type": "slide"
    },
    "tags": []
   },
   "source": [
    "# Example\n",
    "\n",
    "Input validation: Modify the function so that if the deposit is negative, it prints a warning and skips the rest of the function, returning `None`."
   ]
  },
  {
   "cell_type": "code",
   "execution_count": 40,
   "id": "3ed15a26-f50c-44c1-a427-0038fcc95d93",
   "metadata": {
    "editable": true,
    "slideshow": {
     "slide_type": ""
    },
    "tags": []
   },
   "outputs": [
    {
     "name": "stdout",
     "output_type": "stream",
     "text": [
      "Initial deposit cannot be negative.\n"
     ]
    }
   ],
   "source": [
    "def account_balance(deposit, interest_rate, years):\n",
    "    if deposit < 0:\n",
    "        print(\"Initial deposit cannot be negative.\")\n",
    "        return  # the function ends here\n",
    "    result = []\n",
    "    for y in range(years):\n",
    "        deposit *= (1+interest_rate)\n",
    "        result.append(deposit)\n",
    "    return result\n",
    "\n",
    "account_balance(-100, 0.25, 3)"
   ]
  },
  {
   "cell_type": "markdown",
   "id": "f75988f6-f6d6-40f5-97cf-bed053a2bd7d",
   "metadata": {
    "editable": true,
    "slideshow": {
     "slide_type": "slide"
    },
    "tags": []
   },
   "source": [
    "# Exercise\n",
    "\n",
    "Suppose that the bank applies an interest rate depending on your balance. For example, it might use a rate of 25% for balances below 100,000₺, 30% for balances between 100,000₺ and 1,000,000₺, and 35% for balances above 1,000,000₺.\n",
    "\n",
    "Modify the `account_balance` function so that it takes the initial deposit, three interest rates for these thresholds, and the number of years. It should again return a list of your account balance at every year.\n",
    "\n",
    "Examples"
   ]
  },
  {
   "cell_type": "code",
   "execution_count": 38,
   "id": "cbb71589-d6b5-45d9-aee9-983f46476677",
   "metadata": {
    "editable": true,
    "slideshow": {
     "slide_type": ""
    },
    "tags": []
   },
   "outputs": [
    {
     "data": {
      "text/plain": [
       "[112500.0,\n",
       " 146250.0,\n",
       " 190125.0,\n",
       " 247162.5,\n",
       " 321311.25,\n",
       " 417704.625,\n",
       " 543016.0125000001,\n",
       " 705920.8162500001,\n",
       " 917697.0611250002,\n",
       " 1193006.1794625004]"
      ]
     },
     "execution_count": 38,
     "metadata": {},
     "output_type": "execute_result"
    }
   ],
   "source": [
    "def account_balance(deposit, rate_1, rate_2, rate_3, years):\n",
    "    # -----\n",
    "    # your code here\n",
    "    # -----\n",
    "    return result\n",
    "\n",
    "account_balance(90000, 0.25, 0.3, 0.35, 10)"
   ]
  },
  {
   "cell_type": "code",
   "execution_count": 39,
   "id": "41181e62-24c7-4218-a241-7157c83860cb",
   "metadata": {
    "editable": true,
    "slideshow": {
     "slide_type": ""
    },
    "tags": []
   },
   "outputs": [
    {
     "data": {
      "text/plain": [
       "[123000.0, 151290.0, 186086.7, 228886.641, 281530.56843]"
      ]
     },
     "execution_count": 39,
     "metadata": {},
     "output_type": "execute_result"
    }
   ],
   "source": [
    "account_balance(100000, 0.2, 0.23, 0.27, 5)"
   ]
  },
  {
   "cell_type": "markdown",
   "id": "b7f5b0cf-6a92-44f8-b041-3013b1688be8",
   "metadata": {
    "editable": true,
    "slideshow": {
     "slide_type": "slide"
    },
    "tags": []
   },
   "source": [
    "# Exercise\n",
    "\n",
    "In the previous example, interest rate values should be in increasing order, that is `rate_1 < rate_2 < rate_3`.\n",
    "\n",
    "Modify the program to check this condition. If it is not satisfied, it should print a warning and return `None`."
   ]
  },
  {
   "cell_type": "code",
   "execution_count": 41,
   "id": "2b0331cc-d4ee-48fd-812a-363b4bc856d7",
   "metadata": {
    "editable": true,
    "slideshow": {
     "slide_type": ""
    },
    "tags": []
   },
   "outputs": [
    {
     "name": "stdout",
     "output_type": "stream",
     "text": [
      "Interest rates must be in increasing order: rate_1 < rate_2 < rate_3\n"
     ]
    }
   ],
   "source": [
    "def account_balance(deposit, rate_1, rate_2, rate_3, years):\n",
    "    # ----- \n",
    "    # your code here\n",
    "    # -----\n",
    "    return result\n",
    "account_balance(10000, 0.35, 0.30, 0.37, 5)"
   ]
  },
  {
   "cell_type": "markdown",
   "id": "7e2a7687-e243-4446-b59b-008f847f6e18",
   "metadata": {
    "editable": true,
    "slideshow": {
     "slide_type": "slide"
    },
    "tags": []
   },
   "source": [
    "# Positional and keyword parameters\n",
    "We call a function by specifying parameter values. How are these values matched to each parameter?\n",
    "* Positional matching\n",
    "* Keyword matching"
   ]
  },
  {
   "cell_type": "markdown",
   "id": "98e82d12-f824-4187-a3e8-3167153b4453",
   "metadata": {
    "editable": true,
    "slideshow": {
     "slide_type": "slide"
    },
    "tags": []
   },
   "source": [
    "## Positional matching\n",
    "Arguments are matched according to their position in the function definition."
   ]
  },
  {
   "cell_type": "code",
   "execution_count": 19,
   "id": "8e6d0da9-8c7f-4d88-a187-812c9a3119fa",
   "metadata": {
    "editable": true,
    "slideshow": {
     "slide_type": ""
    },
    "tags": []
   },
   "outputs": [],
   "source": [
    "def f(a,b,c):\n",
    "    print(\"a =\", a,\", b =\", b,\", c =\", c)"
   ]
  },
  {
   "cell_type": "code",
   "execution_count": 20,
   "id": "2f330b12-fe03-42e5-8b55-43e3d2095553",
   "metadata": {
    "editable": true,
    "slideshow": {
     "slide_type": ""
    },
    "tags": []
   },
   "outputs": [
    {
     "name": "stdout",
     "output_type": "stream",
     "text": [
      "a = 1 , b = 2 , c = 3\n"
     ]
    }
   ],
   "source": [
    "f(1,2,3)"
   ]
  },
  {
   "cell_type": "code",
   "execution_count": 21,
   "id": "5e55c762-d3ee-410d-bbd7-987843e46865",
   "metadata": {
    "editable": true,
    "slideshow": {
     "slide_type": ""
    },
    "tags": []
   },
   "outputs": [
    {
     "name": "stdout",
     "output_type": "stream",
     "text": [
      "a = 3 , b = 2 , c = 1\n"
     ]
    }
   ],
   "source": [
    "f(3,2,1)"
   ]
  },
  {
   "cell_type": "markdown",
   "id": "2430604b-8e9f-4a30-b56e-8877f0912459",
   "metadata": {
    "editable": true,
    "slideshow": {
     "slide_type": "slide"
    },
    "tags": []
   },
   "source": [
    "## Keyword matching\n",
    "* One can instead use parameter names with parameter values.\n",
    "* Parameter ordering is irrelevant."
   ]
  },
  {
   "cell_type": "code",
   "execution_count": 22,
   "id": "e011e936-6be7-4921-855a-f9527ce24d44",
   "metadata": {
    "editable": true,
    "slideshow": {
     "slide_type": ""
    },
    "tags": []
   },
   "outputs": [
    {
     "name": "stdout",
     "output_type": "stream",
     "text": [
      "a = asdf , b = 1 , c = 4\n"
     ]
    }
   ],
   "source": [
    "f(c=4, b=1, a=\"asdf\")"
   ]
  },
  {
   "cell_type": "markdown",
   "id": "08f977ba-f736-4b55-a76f-3c67598623a7",
   "metadata": {
    "editable": true,
    "slideshow": {
     "slide_type": "slide"
    },
    "tags": []
   },
   "source": [
    "## Mixing positional and keyword matching\n",
    "* First, all positional matchings are completed, from the left to the right.\n",
    "* Second, keywords are matched."
   ]
  },
  {
   "cell_type": "code",
   "execution_count": 23,
   "id": "e37681fe-ef0b-4b5b-ac0e-efff8e83e3e5",
   "metadata": {
    "editable": true,
    "slideshow": {
     "slide_type": ""
    },
    "tags": []
   },
   "outputs": [
    {
     "name": "stdout",
     "output_type": "stream",
     "text": [
      "a = 1 , b = 2 , c = 3\n"
     ]
    }
   ],
   "source": [
    "f(1, c=3, b=2)"
   ]
  },
  {
   "cell_type": "markdown",
   "id": "2c9803af-6402-4e55-b161-8a794337b5a6",
   "metadata": {
    "editable": true,
    "slideshow": {
     "slide_type": "slide"
    },
    "tags": []
   },
   "source": [
    "* Calling functions with keyword matching makes the code more readable.\n",
    "* Easier to understand the \"settings\" of a function.\n",
    "* No need to memorize the order of parameters.\n",
    "* A function call can be self-documenting, e.g:\n",
    "\n",
    "`account_balance(deposit = 100000, rate_1 = 0.35, rate_2 = 0.37, rate_3 = 0.4, years=10)`\n",
    "\n",
    "`add_planet(name = \"Mars\", mass = 0.7, radius = 0.6, satellites=(\"Phobos\",\"Deimos\"))`"
   ]
  },
  {
   "cell_type": "markdown",
   "id": "95443f26-2c5d-48d7-93f5-ce49b64259b6",
   "metadata": {
    "editable": true,
    "slideshow": {
     "slide_type": "slide"
    },
    "tags": []
   },
   "source": [
    "If a parameter is matched by position, it is an error to match it also by name."
   ]
  },
  {
   "cell_type": "code",
   "execution_count": 24,
   "id": "0ac561aa-e577-4a50-ac02-0ec480ceb25f",
   "metadata": {
    "editable": true,
    "slideshow": {
     "slide_type": ""
    },
    "tags": []
   },
   "outputs": [
    {
     "ename": "TypeError",
     "evalue": "f() got multiple values for argument 'b'",
     "output_type": "error",
     "traceback": [
      "\u001b[31m---------------------------------------------------------------------------\u001b[39m",
      "\u001b[31mTypeError\u001b[39m                                 Traceback (most recent call last)",
      "\u001b[36mCell\u001b[39m\u001b[36m \u001b[39m\u001b[32mIn[24]\u001b[39m\u001b[32m, line 1\u001b[39m\n\u001b[32m----> \u001b[39m\u001b[32m1\u001b[39m \u001b[43mf\u001b[49m\u001b[43m(\u001b[49m\u001b[32;43m1\u001b[39;49m\u001b[43m,\u001b[49m\u001b[43m \u001b[49m\u001b[32;43m2\u001b[39;49m\u001b[43m,\u001b[49m\u001b[43m \u001b[49m\u001b[43mb\u001b[49m\u001b[43m=\u001b[49m\u001b[32;43m9\u001b[39;49m\u001b[43m)\u001b[49m\n",
      "\u001b[31mTypeError\u001b[39m: f() got multiple values for argument 'b'"
     ]
    }
   ],
   "source": [
    "f(1, 2, b=9)"
   ]
  },
  {
   "cell_type": "markdown",
   "id": "5b43738c-4874-4e46-a1cf-d8463759dac2",
   "metadata": {
    "editable": true,
    "slideshow": {
     "slide_type": "slide"
    },
    "tags": []
   },
   "source": [
    "Positional parameters should appear before keyword parameters."
   ]
  },
  {
   "cell_type": "code",
   "execution_count": 25,
   "id": "9af8f9fe-f633-4315-90c5-acd4ea7b49bd",
   "metadata": {
    "editable": true,
    "slideshow": {
     "slide_type": ""
    },
    "tags": []
   },
   "outputs": [
    {
     "ename": "SyntaxError",
     "evalue": "positional argument follows keyword argument (1803835145.py, line 1)",
     "output_type": "error",
     "traceback": [
      "  \u001b[36mCell\u001b[39m\u001b[36m \u001b[39m\u001b[32mIn[25]\u001b[39m\u001b[32m, line 1\u001b[39m\n\u001b[31m    \u001b[39m\u001b[31mf(1, b=2, 3)\u001b[39m\n               ^\n\u001b[31mSyntaxError\u001b[39m\u001b[31m:\u001b[39m positional argument follows keyword argument\n"
     ]
    }
   ],
   "source": [
    "f(1, b=2, 3)"
   ]
  },
  {
   "cell_type": "markdown",
   "id": "b30214d5-d18a-4e89-9a5e-665bf6da082d",
   "metadata": {
    "editable": true,
    "slideshow": {
     "slide_type": "slide"
    },
    "tags": []
   },
   "source": [
    "# Default parameters\n",
    "* We can provide some default parameter values at the function definition.\n",
    "* Missing parameter values are replaced with default values.\n",
    "* Convenient if you have many parameters."
   ]
  },
  {
   "cell_type": "code",
   "execution_count": 27,
   "id": "563bf05e-9889-4ca6-bde3-4d568877b996",
   "metadata": {
    "editable": true,
    "slideshow": {
     "slide_type": ""
    },
    "tags": []
   },
   "outputs": [],
   "source": [
    "def f(a, b=2, c=3): # default values given for b and c\n",
    "    print(\"a =\", a,\", b =\", b,\", c =\", c)"
   ]
  },
  {
   "cell_type": "code",
   "execution_count": 28,
   "id": "a7dcd5e0-c653-41bf-b280-b5b3ce534486",
   "metadata": {
    "editable": true,
    "slideshow": {
     "slide_type": ""
    },
    "tags": []
   },
   "outputs": [
    {
     "name": "stdout",
     "output_type": "stream",
     "text": [
      "a = 1 , b = 2 , c = 3\n",
      "a = 4 , b = 2 , c = 3\n",
      "a = 1 , b = 7 , c = 3\n",
      "a = 1 , b = foo , c = 6\n",
      "a = 1 , b = 2 , c = 8\n"
     ]
    }
   ],
   "source": [
    "f(1)\n",
    "f(a = 4)\n",
    "f(1,7)\n",
    "f(1,\"foo\",6)\n",
    "f(1,c=8)"
   ]
  },
  {
   "cell_type": "markdown",
   "id": "b363f604-7cc3-4424-b91a-92491c092ed7",
   "metadata": {
    "editable": true,
    "slideshow": {
     "slide_type": "slide"
    },
    "tags": []
   },
   "source": [
    "## Exercise\n",
    "\n",
    "The Euclidean distance between two points $(x_1,y_1)$ and $(x_2,y_2)$ is $d = \\sqrt{(x_1-x_2)^2 + (y_1-y_2)^2}$\n",
    "\n",
    "<img src=\"img/distance.png\" width=\"250\">\n",
    "\n",
    "Write a function `distance(x1, y1, x2, y2)` that returns the Euclidean distance between points $(x_1,y_1)$ and $(x_2,y_2)$.\n",
    "\n",
    "The parameters $x_2$ and $y_2$ must default to 0.\n",
    "\n",
    "You can use either the `math.sqrt` function, or the `**0.5` operation to take the square root.\n",
    "\n",
    "Examples:"
   ]
  },
  {
   "cell_type": "code",
   "execution_count": 56,
   "id": "901ca243-614e-435d-91e5-a472b0f9179b",
   "metadata": {
    "editable": true,
    "slideshow": {
     "slide_type": ""
    },
    "tags": []
   },
   "outputs": [
    {
     "name": "stdout",
     "output_type": "stream",
     "text": [
      "5.0\n",
      "1.4142135623730951\n",
      "1.4142135623730951\n"
     ]
    }
   ],
   "source": [
    "def distance .... :\n",
    "    # your code here\n",
    "\n",
    "print(distance(1,1,4,5))\n",
    "print(distance(1,1,0,0))\n",
    "print(distance(1,1))"
   ]
  },
  {
   "cell_type": "markdown",
   "id": "b3d37726-7bda-4fa5-9627-44de3d9d1a09",
   "metadata": {
    "editable": true,
    "slideshow": {
     "slide_type": "slide"
    },
    "tags": []
   },
   "source": [
    "## Exercise\n",
    "\n",
    "Repeat the previous exercise, but the input parameters should be `p1` and `p2`, which are tuples containing the coordinates.\n",
    "\n",
    "Examples:"
   ]
  },
  {
   "cell_type": "code",
   "execution_count": 60,
   "id": "85bb6654-0043-46e7-8675-d863c0a4e461",
   "metadata": {
    "editable": true,
    "slideshow": {
     "slide_type": ""
    },
    "tags": []
   },
   "outputs": [
    {
     "name": "stdout",
     "output_type": "stream",
     "text": [
      "5.0\n",
      "1.4142135623730951\n",
      "1.4142135623730951\n"
     ]
    }
   ],
   "source": [
    "def distance .... :\n",
    "    # your code here\n",
    "\n",
    "p1 = (1,1); p2 = (4,5)\n",
    "print(distance(p1, p2))\n",
    "p1 = (1,1); p2 = (0,0)\n",
    "print(distance(p1, p2))\n",
    "print(distance(p1))"
   ]
  },
  {
   "cell_type": "markdown",
   "id": "68f114ce-771e-4d8c-9108-b36c24ae6b90",
   "metadata": {
    "editable": true,
    "slideshow": {
     "slide_type": "slide"
    },
    "tags": []
   },
   "source": [
    "# Arbitrary number of parameters\n",
    "* Some functions take an unlimited number of parameters, e.g., `print()`.\n",
    "* The notation `*args` collects all parameters in a tuple named `args` (any name can be used).\n",
    "* This tuple can be processed inside the function."
   ]
  },
  {
   "cell_type": "code",
   "execution_count": 8,
   "id": "52a45847-e369-4872-b35a-fdf8ba1d7346",
   "metadata": {
    "editable": true,
    "slideshow": {
     "slide_type": ""
    },
    "tags": []
   },
   "outputs": [],
   "source": [
    "def f(*args):\n",
    "    print(\"Parameters:\", args)"
   ]
  },
  {
   "cell_type": "code",
   "execution_count": 31,
   "id": "480c15d4-66e9-486c-b2c4-f28af5ed1601",
   "metadata": {
    "editable": true,
    "slideshow": {
     "slide_type": ""
    },
    "tags": []
   },
   "outputs": [
    {
     "name": "stdout",
     "output_type": "stream",
     "text": [
      "Parameters: ()\n",
      "Parameters: (3,)\n",
      "Parameters: (45, (3-4j), 'hello', [1, 2, 3])\n"
     ]
    }
   ],
   "source": [
    "f()\n",
    "f(3)\n",
    "f(45, 3-4j, \"hello\", [1,2,3])"
   ]
  },
  {
   "cell_type": "markdown",
   "id": "ecb92a58-b06e-4c96-a74e-4d3d31615589",
   "metadata": {
    "editable": true,
    "slideshow": {
     "slide_type": "slide"
    },
    "tags": []
   },
   "source": [
    "One can iterate over the parameter tuple to process the parameters."
   ]
  },
  {
   "cell_type": "code",
   "execution_count": 29,
   "id": "c0c366a1-f261-454b-8ed2-20280338d32d",
   "metadata": {
    "editable": true,
    "slideshow": {
     "slide_type": ""
    },
    "tags": []
   },
   "outputs": [],
   "source": [
    "def addone(*args):\n",
    "    retval = [] # initialize the list to return\n",
    "    for p in args:\n",
    "        retval.append(p+1) # add one to every parameter value and collect in the list\n",
    "    return retval"
   ]
  },
  {
   "cell_type": "code",
   "execution_count": 30,
   "id": "1e782e8c-af69-4691-a0f3-04dc0fe3c102",
   "metadata": {
    "editable": true,
    "slideshow": {
     "slide_type": ""
    },
    "tags": []
   },
   "outputs": [
    {
     "data": {
      "text/plain": [
       "[2, 3, 0.5]"
      ]
     },
     "execution_count": 30,
     "metadata": {},
     "output_type": "execute_result"
    }
   ],
   "source": [
    "addone(1,2,-0.5)"
   ]
  },
  {
   "cell_type": "markdown",
   "id": "751d0e50-bc51-4527-8671-8dc4831f1179",
   "metadata": {
    "editable": true,
    "slideshow": {
     "slide_type": "slide"
    },
    "tags": []
   },
   "source": [
    "However, the `*args` notation does not work with keyword parameters."
   ]
  },
  {
   "cell_type": "code",
   "execution_count": 13,
   "id": "5aea6874-4a39-47e4-9dd8-bc8f4d9c9e45",
   "metadata": {
    "editable": true,
    "slideshow": {
     "slide_type": ""
    },
    "tags": []
   },
   "outputs": [
    {
     "ename": "TypeError",
     "evalue": "f() got an unexpected keyword argument 'a'",
     "output_type": "error",
     "traceback": [
      "\u001b[31m---------------------------------------------------------------------------\u001b[39m",
      "\u001b[31mTypeError\u001b[39m                                 Traceback (most recent call last)",
      "\u001b[36mCell\u001b[39m\u001b[36m \u001b[39m\u001b[32mIn[13]\u001b[39m\u001b[32m, line 4\u001b[39m\n\u001b[32m      1\u001b[39m \u001b[38;5;28;01mdef\u001b[39;00m\u001b[38;5;250m \u001b[39m\u001b[34mf\u001b[39m(*args):\n\u001b[32m      2\u001b[39m     \u001b[38;5;28mprint\u001b[39m(\u001b[33m\"\u001b[39m\u001b[33mParameters:\u001b[39m\u001b[33m\"\u001b[39m, args)\n\u001b[32m----> \u001b[39m\u001b[32m4\u001b[39m \u001b[43mf\u001b[49m\u001b[43m(\u001b[49m\u001b[43ma\u001b[49m\u001b[43m=\u001b[49m\u001b[32;43m1\u001b[39;49m\u001b[43m,\u001b[49m\u001b[43m \u001b[49m\u001b[43mb\u001b[49m\u001b[43m=\u001b[49m\u001b[32;43m2\u001b[39;49m\u001b[43m)\u001b[49m\n",
      "\u001b[31mTypeError\u001b[39m: f() got an unexpected keyword argument 'a'"
     ]
    }
   ],
   "source": [
    "def f(*args):\n",
    "    print(\"Parameters:\", args)\n",
    "    \n",
    "f(a=1, b=2)"
   ]
  },
  {
   "cell_type": "markdown",
   "id": "a4c4273e-846c-4970-bc25-f61da4b625ba",
   "metadata": {
    "editable": true,
    "slideshow": {
     "slide_type": "slide"
    },
    "tags": []
   },
   "source": [
    "The notation `**kwargs` collects all keyword parameters into a dictionary called `kwargs` (any name can be used)."
   ]
  },
  {
   "cell_type": "code",
   "execution_count": 14,
   "id": "fb389de7-497a-4c18-ac1f-0ffb99466780",
   "metadata": {
    "editable": true,
    "slideshow": {
     "slide_type": ""
    },
    "tags": []
   },
   "outputs": [],
   "source": [
    "def g(**kwargs):\n",
    "    print(\"Parameters:\",kwargs)"
   ]
  },
  {
   "cell_type": "code",
   "execution_count": 15,
   "id": "47c5a0cc-2aae-40ce-a6ff-06bbb41a0f93",
   "metadata": {
    "editable": true,
    "slideshow": {
     "slide_type": ""
    },
    "tags": []
   },
   "outputs": [
    {
     "name": "stdout",
     "output_type": "stream",
     "text": [
      "Parameters: {}\n",
      "Parameters: {'a': 1, 'b': 4}\n"
     ]
    }
   ],
   "source": [
    "g()\n",
    "g(a=1, b=4)"
   ]
  },
  {
   "cell_type": "markdown",
   "id": "2a8d64c6-7cbe-4b67-8a84-bb35ae4778dd",
   "metadata": {
    "editable": true,
    "slideshow": {
     "slide_type": "slide"
    },
    "tags": []
   },
   "source": [
    "A general interface combining required, optional positional, and optional keyword arguments:"
   ]
  },
  {
   "cell_type": "code",
   "execution_count": 16,
   "id": "e53fa85a-d397-4cb9-9aa1-056a84a2ced5",
   "metadata": {
    "editable": true,
    "slideshow": {
     "slide_type": ""
    },
    "tags": []
   },
   "outputs": [],
   "source": [
    "def f(reqpar,  *pargs, **kwargs):\n",
    "    print(reqpar)\n",
    "    print(pargs)\n",
    "    print(kwargs)"
   ]
  },
  {
   "cell_type": "code",
   "execution_count": 17,
   "id": "0470f9f5-cace-48d2-9df3-537fdeb69257",
   "metadata": {
    "editable": true,
    "slideshow": {
     "slide_type": ""
    },
    "tags": []
   },
   "outputs": [
    {
     "name": "stdout",
     "output_type": "stream",
     "text": [
      "1\n",
      "()\n",
      "{}\n"
     ]
    }
   ],
   "source": [
    "f(1)"
   ]
  },
  {
   "cell_type": "code",
   "execution_count": 18,
   "id": "4682d01a-acbc-401a-9d46-1ec9c78413b6",
   "metadata": {
    "editable": true,
    "slideshow": {
     "slide_type": ""
    },
    "tags": []
   },
   "outputs": [
    {
     "name": "stdout",
     "output_type": "stream",
     "text": [
      "1\n",
      "(2, 3)\n",
      "{'a': 'xyz', 'b': 3.14}\n"
     ]
    }
   ],
   "source": [
    "f(1, 2, 3, a = \"xyz\", b = 3.14)"
   ]
  },
  {
   "cell_type": "markdown",
   "id": "c96b203e-9143-4931-9dbd-2577f100612a",
   "metadata": {
    "editable": true,
    "slideshow": {
     "slide_type": "slide"
    },
    "tags": []
   },
   "source": [
    "# Exercise\n",
    "\n",
    "Write a function `smallest` that takes an arbitrary number of parameters, and returns the smallest of them.\n",
    "\n",
    "Examples:"
   ]
  },
  {
   "cell_type": "code",
   "execution_count": 66,
   "id": "70be59a2-2f45-4ce5-ac70-12966b5ccf50",
   "metadata": {
    "editable": true,
    "slideshow": {
     "slide_type": ""
    },
    "tags": []
   },
   "outputs": [
    {
     "name": "stdout",
     "output_type": "stream",
     "text": [
      "-2\n",
      "0\n"
     ]
    }
   ],
   "source": [
    "def smallest(*args):\n",
    "    # --- your code here\n",
    "    # ----\n",
    "\n",
    "print(smallest(2,-2,9))\n",
    "print(smallest(2,5,1,9,0,34))"
   ]
  },
  {
   "cell_type": "markdown",
   "id": "06acc4ba-244f-4836-b5bf-486ed6bb419f",
   "metadata": {
    "editable": true,
    "slideshow": {
     "slide_type": "slide"
    },
    "tags": []
   },
   "source": [
    "# Unpacking parameters\n",
    "Suppose we have a function that takes four parameters:"
   ]
  },
  {
   "cell_type": "code",
   "execution_count": 20,
   "id": "a89ed115-4451-40c0-ad4d-47955f167e5a",
   "metadata": {
    "editable": true,
    "slideshow": {
     "slide_type": ""
    },
    "tags": []
   },
   "outputs": [
    {
     "name": "stdout",
     "output_type": "stream",
     "text": [
      "4 3 2 1\n"
     ]
    }
   ],
   "source": [
    "def f(a,b,c,d):\n",
    "    print(d,c,b,a)\n",
    "\n",
    "f(1,2,3,4)"
   ]
  },
  {
   "cell_type": "markdown",
   "id": "f4e52ed4-e171-4a08-9b5b-7853dc8838d1",
   "metadata": {
    "editable": true,
    "slideshow": {
     "slide_type": ""
    },
    "tags": []
   },
   "source": [
    "Using _parameter unpacking_, we can pass a tuple where each element matches a parameter by position."
   ]
  },
  {
   "cell_type": "code",
   "execution_count": 21,
   "id": "659193d3-9b6c-492c-951c-2bc62ff11cb3",
   "metadata": {
    "editable": true,
    "slideshow": {
     "slide_type": ""
    },
    "tags": []
   },
   "outputs": [
    {
     "name": "stdout",
     "output_type": "stream",
     "text": [
      "8 6 4 2\n",
      "8 6 4 2\n"
     ]
    }
   ],
   "source": [
    "pars = (2,4,6,8)\n",
    "f(pars[0], pars[1], pars[2], pars[3])\n",
    "f(*pars)"
   ]
  },
  {
   "cell_type": "markdown",
   "id": "b1938b7e-1a9c-4da3-907d-fd5db29dd358",
   "metadata": {
    "editable": true,
    "slideshow": {
     "slide_type": "slide"
    },
    "tags": []
   },
   "source": [
    "If we want to match by keyword, we should unpack a dictionary."
   ]
  },
  {
   "cell_type": "code",
   "execution_count": 22,
   "id": "7a096877-36f1-4f0b-ac81-f488dea38f03",
   "metadata": {
    "editable": true,
    "slideshow": {
     "slide_type": ""
    },
    "tags": []
   },
   "outputs": [
    {
     "name": "stdout",
     "output_type": "stream",
     "text": [
      "8 6 4 2\n"
     ]
    }
   ],
   "source": [
    "pars = {\"a\":2, \"b\":4, \"c\":6, \"d\":8}\n",
    "f(**pars) # same as f(a=2, b=4, c=6, d=8)"
   ]
  },
  {
   "cell_type": "markdown",
   "id": "fe3b9931-21b5-42fb-9761-da46c45e4559",
   "metadata": {
    "editable": true,
    "slideshow": {
     "slide_type": "slide"
    },
    "tags": []
   },
   "source": [
    "Variable argument lists are commonly used in functions that are wrappers to other functions. For example, we may want to create a function for plotting a certain type of data. The function's interface can take parameters specific to the plotter, and pass them when it calls the plotter.\n",
    "```\n",
    "def plotdata(data, mypar, *plotpars, **kwplotpars):\n",
    "    processed = process(data, mypar)\n",
    "    plot(processed, *plotpars, **kwplotpars)  # use parameter unpacking to pass arguments to plot```"
   ]
  },
  {
   "cell_type": "markdown",
   "id": "c6b0d9a1-403f-4c9b-a6bf-fd630b868e4b",
   "metadata": {
    "editable": true,
    "slideshow": {
     "slide_type": "slide"
    },
    "tags": []
   },
   "source": [
    "# Scope of variables\n",
    "A variable that is used only inside a function is not visible outside that function.\n",
    "\n",
    "Such a variable is called a *local variable*."
   ]
  },
  {
   "cell_type": "code",
   "execution_count": 52,
   "id": "d6ad1380-6402-4d9b-8887-0f74da26d6a5",
   "metadata": {
    "editable": true,
    "slideshow": {
     "slide_type": ""
    },
    "tags": []
   },
   "outputs": [
    {
     "name": "stdout",
     "output_type": "stream",
     "text": [
      "20\n"
     ]
    }
   ],
   "source": [
    "def f():\n",
    "    x = 20\n",
    "    print(x)\n",
    "\n",
    "f()"
   ]
  },
  {
   "cell_type": "markdown",
   "id": "25645f05-d3b6-4d61-86ab-56d14b5b2b24",
   "metadata": {
    "editable": true,
    "slideshow": {
     "slide_type": ""
    },
    "tags": []
   },
   "source": [
    "Local variables are not recognized out of their scope of definition."
   ]
  },
  {
   "cell_type": "code",
   "execution_count": 53,
   "id": "e5599a02-962e-4b01-930f-b8c65cfa32fc",
   "metadata": {
    "editable": true,
    "slideshow": {
     "slide_type": ""
    },
    "tags": []
   },
   "outputs": [
    {
     "ename": "NameError",
     "evalue": "name 'x' is not defined",
     "output_type": "error",
     "traceback": [
      "\u001b[0;31m---------------------------------------------------------------------------\u001b[0m",
      "\u001b[0;31mNameError\u001b[0m                                 Traceback (most recent call last)",
      "\u001b[0;32m<ipython-input-53-fc17d851ef81>\u001b[0m in \u001b[0;36m<module>\u001b[0;34m()\u001b[0m\n\u001b[0;32m----> 1\u001b[0;31m \u001b[0mprint\u001b[0m\u001b[0;34m(\u001b[0m\u001b[0mx\u001b[0m\u001b[0;34m)\u001b[0m\u001b[0;34m\u001b[0m\u001b[0m\n\u001b[0m",
      "\u001b[0;31mNameError\u001b[0m: name 'x' is not defined"
     ]
    }
   ],
   "source": [
    "print(x)"
   ]
  },
  {
   "cell_type": "markdown",
   "id": "7def7464-17b6-461d-bd07-e8217e33455e",
   "metadata": {
    "editable": true,
    "slideshow": {
     "slide_type": "slide"
    },
    "tags": []
   },
   "source": [
    "## Global variables\n",
    "\n",
    "A variable that is available over all the script is called a *global variable*."
   ]
  },
  {
   "cell_type": "code",
   "execution_count": 43,
   "id": "070ec826-311c-484b-9f5a-9960b322d00e",
   "metadata": {
    "editable": true,
    "slideshow": {
     "slide_type": ""
    },
    "tags": []
   },
   "outputs": [
    {
     "name": "stdout",
     "output_type": "stream",
     "text": [
      "30\n"
     ]
    }
   ],
   "source": [
    "y = 10\n",
    "def f():\n",
    "    x = 20\n",
    "    print(x+y)\n",
    "\n",
    "f()"
   ]
  },
  {
   "cell_type": "markdown",
   "id": "0eb810f1-84fa-4cd8-8b6d-585433a80d27",
   "metadata": {
    "editable": true,
    "slideshow": {
     "slide_type": "slide"
    },
    "tags": []
   },
   "source": [
    "If a local variable inside a function has the same name as a global variable, the global name is obscured inside the function:"
   ]
  },
  {
   "cell_type": "code",
   "execution_count": 46,
   "id": "9515f77d-3f87-4b38-925c-2b98779a3fd6",
   "metadata": {
    "editable": true,
    "slideshow": {
     "slide_type": ""
    },
    "tags": []
   },
   "outputs": [
    {
     "name": "stdout",
     "output_type": "stream",
     "text": [
      "10\n",
      "20\n",
      "10\n"
     ]
    }
   ],
   "source": [
    "x = 10\n",
    "print(x)\n",
    "def f():\n",
    "    x = 20\n",
    "    print(x)\n",
    "\n",
    "f()\n",
    "print(x)"
   ]
  },
  {
   "cell_type": "markdown",
   "id": "4bc0ec20-80fc-492d-a369-6c8c0ccacc99",
   "metadata": {
    "editable": true,
    "slideshow": {
     "slide_type": "slide"
    },
    "tags": []
   },
   "source": [
    "# Docstrings\n",
    "* A short text describing the function, located just below the function header.\n",
    "* Used by the `help()` function or other automated tools."
   ]
  },
  {
   "cell_type": "code",
   "execution_count": 23,
   "id": "b807c785-20c3-45f7-be6e-81aa4d19a112",
   "metadata": {
    "editable": true,
    "slideshow": {
     "slide_type": ""
    },
    "tags": []
   },
   "outputs": [],
   "source": [
    "def intsum(a, b):\n",
    "    \"\"\"Returns the sum a + (a+1) + (a+2) + ... + b.\"\"\"\n",
    "    i = a\n",
    "    total = 0\n",
    "    while i<=b:\n",
    "        total += i\n",
    "        i += 1\n",
    "    return total"
   ]
  },
  {
   "cell_type": "code",
   "execution_count": 24,
   "id": "2cb8b085-f400-4238-8a50-e8ce8963f25a",
   "metadata": {
    "editable": true,
    "slideshow": {
     "slide_type": ""
    },
    "tags": []
   },
   "outputs": [
    {
     "name": "stdout",
     "output_type": "stream",
     "text": [
      "Help on function intsum in module __main__:\n",
      "\n",
      "intsum(a, b)\n",
      "    Returns the sum a + (a+1) + (a+2) + ... + b.\n",
      "\n"
     ]
    }
   ],
   "source": [
    "help(intsum)"
   ]
  },
  {
   "cell_type": "markdown",
   "id": "17a25233-6525-4a83-9b9d-91ba93119be3",
   "metadata": {
    "editable": true,
    "slideshow": {
     "slide_type": "slide"
    },
    "tags": []
   },
   "source": [
    "# Functions taking other functions\n",
    "Functions can be parameters to other functions. For example, let's write a function that returns the sum \n",
    "$$f(a) + f(a+1) + ... + f(b)$$ for any function $f$ returning a number."
   ]
  },
  {
   "cell_type": "code",
   "execution_count": 57,
   "id": "bb49f182-ae02-4878-b084-c646fcd4ac0e",
   "metadata": {
    "editable": true,
    "slideshow": {
     "slide_type": ""
    },
    "tags": []
   },
   "outputs": [],
   "source": [
    "def fnsum(f, a, b):\n",
    "    i = a\n",
    "    total = 0\n",
    "    while i<=b:\n",
    "        total += f(i)\n",
    "        i += 1\n",
    "    return total"
   ]
  },
  {
   "cell_type": "markdown",
   "id": "2a95a73f-439a-4948-b40d-8223eba28fd4",
   "metadata": {
    "editable": true,
    "slideshow": {
     "slide_type": "slide"
    },
    "tags": []
   },
   "source": [
    "The sum $\\frac{1}{1} + \\frac{1}{2} + \\cdots + \\frac{1}{10}$."
   ]
  },
  {
   "cell_type": "code",
   "execution_count": 61,
   "id": "18d2f863-9a09-47d0-9888-da4b74a20b58",
   "metadata": {
    "editable": true,
    "slideshow": {
     "slide_type": ""
    },
    "tags": []
   },
   "outputs": [
    {
     "data": {
      "text/plain": [
       "2.9289682539682538"
      ]
     },
     "execution_count": 61,
     "metadata": {},
     "output_type": "execute_result"
    }
   ],
   "source": [
    "def f1(x):\n",
    "    return 1.0/x\n",
    "\n",
    "fnsum(f1, 1, 10)"
   ]
  },
  {
   "cell_type": "markdown",
   "id": "057018f2-91a5-4a41-a4f2-a7f29439097f",
   "metadata": {
    "slideshow": {
     "slide_type": "slide"
    }
   },
   "source": [
    "The sum $\\frac{1}{2} + \\frac{1}{2^2} + \\cdots + \\frac{1}{2^{10}}$."
   ]
  },
  {
   "cell_type": "code",
   "execution_count": 59,
   "id": "a43a6c3a-c179-4d1b-ad49-778a5fdac65b",
   "metadata": {},
   "outputs": [
    {
     "data": {
      "text/plain": [
       "0.9990234375"
      ]
     },
     "execution_count": 59,
     "metadata": {},
     "output_type": "execute_result"
    }
   ],
   "source": [
    "def f2(x):\n",
    "    return 2.0**-x\n",
    "fnsum(f2, 1, 10)"
   ]
  },
  {
   "cell_type": "markdown",
   "id": "935a7ced-4e3b-4a97-b822-c85d565f49f3",
   "metadata": {
    "editable": true,
    "slideshow": {
     "slide_type": "slide"
    },
    "tags": []
   },
   "source": [
    "# Anonymous functions\n",
    "* Alternative way to create a function object.\n",
    "* Notation: `lambda <parameters>: <return value>`\n",
    "* Does not require a function name -- good for throwaway functions."
   ]
  },
  {
   "cell_type": "code",
   "execution_count": 65,
   "id": "db92d454-aa47-4cdb-8f41-fbd8e83bda5c",
   "metadata": {
    "editable": true,
    "slideshow": {
     "slide_type": ""
    },
    "tags": []
   },
   "outputs": [
    {
     "data": {
      "text/plain": [
       "4"
      ]
     },
     "execution_count": 65,
     "metadata": {},
     "output_type": "execute_result"
    }
   ],
   "source": [
    "f = lambda x: x*x\n",
    "f(2)"
   ]
  },
  {
   "cell_type": "code",
   "execution_count": 66,
   "id": "8e90b2c4-1224-4ebc-9359-46451e827ed7",
   "metadata": {
    "editable": true,
    "slideshow": {
     "slide_type": ""
    },
    "tags": []
   },
   "outputs": [
    {
     "data": {
      "text/plain": [
       "(8, -2)"
      ]
     },
     "execution_count": 66,
     "metadata": {},
     "output_type": "execute_result"
    }
   ],
   "source": [
    "g = lambda x,y: (x+y, x-y)\n",
    "g(3,5)"
   ]
  },
  {
   "cell_type": "markdown",
   "id": "1477e5bb-4a53-4e80-9c03-b9b3b5aa9473",
   "metadata": {
    "editable": true,
    "slideshow": {
     "slide_type": "slide"
    },
    "tags": []
   },
   "source": [
    "Mainly used in places that require a function object; e.g., consider the `fnsum` function."
   ]
  },
  {
   "cell_type": "code",
   "execution_count": 70,
   "id": "205eb798-01c6-4ed2-8be4-afd5228c0ee2",
   "metadata": {
    "editable": true,
    "slideshow": {
     "slide_type": ""
    },
    "tags": []
   },
   "outputs": [],
   "source": [
    "def fnsum(f, a, b):\n",
    "    i = a\n",
    "    total = 0\n",
    "    while i<=b:\n",
    "        total += f(i)\n",
    "        i += 1\n",
    "    return total"
   ]
  },
  {
   "cell_type": "code",
   "execution_count": 67,
   "id": "e2f5c065-8435-4893-bd6c-13fc91ab4f84",
   "metadata": {
    "editable": true,
    "slideshow": {
     "slide_type": ""
    },
    "tags": []
   },
   "outputs": [
    {
     "data": {
      "text/plain": [
       "2.9289682539682538"
      ]
     },
     "execution_count": 67,
     "metadata": {},
     "output_type": "execute_result"
    }
   ],
   "source": [
    "fnsum(lambda x: 1/x, 1, 10)  # 1/1 + 1/2 + ... + 1/10"
   ]
  },
  {
   "cell_type": "code",
   "execution_count": 68,
   "id": "6a954e98-4ba7-4713-997b-4c92b4a1cf33",
   "metadata": {
    "editable": true,
    "slideshow": {
     "slide_type": ""
    },
    "tags": []
   },
   "outputs": [
    {
     "data": {
      "text/plain": [
       "0.9990234375"
      ]
     },
     "execution_count": 68,
     "metadata": {},
     "output_type": "execute_result"
    }
   ],
   "source": [
    "fnsum(lambda x:2**(-x), 1, 10) # 1/2 + 1/4 + ... + 1/2**10"
   ]
  },
  {
   "cell_type": "markdown",
   "id": "bcb2ccc8-19da-45df-a922-dc3a4055f064",
   "metadata": {
    "editable": true,
    "slideshow": {
     "slide_type": "slide"
    },
    "tags": []
   },
   "source": [
    "Lambda functions are used commonly for data transformations with numpy or pandas.\n",
    "\n",
    "For example:\n",
    "```\n",
    ">>> df = pd.DataFrame({'A': range(3), 'B': range(1, 4)})\n",
    ">>> df\n",
    "   A  B\n",
    "0  0  1\n",
    "1  1  2\n",
    "2  2  3\n",
    ">>> df.transform(lambda x: x + 1)\n",
    "   A  B\n",
    "0  1  2\n",
    "1  2  3\n",
    "2  3  4\n",
    "```"
   ]
  }
 ],
 "metadata": {
  "kernelspec": {
   "display_name": "Python 3 (ipykernel)",
   "language": "python",
   "name": "python3"
  },
  "language_info": {
   "codemirror_mode": {
    "name": "ipython",
    "version": 3
   },
   "file_extension": ".py",
   "mimetype": "text/x-python",
   "name": "python",
   "nbconvert_exporter": "python",
   "pygments_lexer": "ipython3",
   "version": "3.13.3"
  }
 },
 "nbformat": 4,
 "nbformat_minor": 5
}
